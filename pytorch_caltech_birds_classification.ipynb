{
  "nbformat": 4,
  "nbformat_minor": 0,
  "metadata": {
    "colab": {
      "name": "pytorch_caltech_birds_classification.ipynb",
      "version": "0.3.2",
      "provenance": [],
      "collapsed_sections": [],
      "include_colab_link": true
    },
    "kernelspec": {
      "name": "python3",
      "display_name": "Python 3"
    },
    "accelerator": "GPU"
  },
  "cells": [
    {
      "cell_type": "markdown",
      "metadata": {
        "id": "view-in-github",
        "colab_type": "text"
      },
      "source": [
        "<a href=\"https://colab.research.google.com/github/ztjfreedom/colab/blob/master/pytorch_caltech_birds_classification.ipynb\" target=\"_parent\"><img src=\"https://colab.research.google.com/assets/colab-badge.svg\" alt=\"Open In Colab\"/></a>"
      ]
    },
    {
      "cell_type": "markdown",
      "metadata": {
        "id": "e0_q4IGTHQfK",
        "colab_type": "text"
      },
      "source": [
        "# Train Test Split"
      ]
    },
    {
      "cell_type": "code",
      "metadata": {
        "id": "qjYh8ivP_kCO",
        "colab_type": "code",
        "colab": {
          "base_uri": "https://localhost:8080/",
          "height": 511
        },
        "outputId": "7a9264cc-c62a-49d9-e06b-db5c27fbc883"
      },
      "source": [
        "!pip install scikit-image==0.14.3"
      ],
      "execution_count": 3,
      "outputs": [
        {
          "output_type": "stream",
          "text": [
            "Collecting scikit-image==0.14.3\n",
            "\u001b[?25l  Downloading https://files.pythonhosted.org/packages/09/51/8ed3f857c2e7337b98fceeb6b37e3f39ca0d9159fa80bb2c79b958c564fc/scikit_image-0.14.3-cp36-cp36m-manylinux1_x86_64.whl (25.4MB)\n",
            "\u001b[K     |████████████████████████████████| 25.4MB 1.4MB/s \n",
            "\u001b[?25hRequirement already satisfied: cloudpickle>=0.2.1 in /usr/local/lib/python3.6/dist-packages (from scikit-image==0.14.3) (0.6.1)\n",
            "Requirement already satisfied: six>=1.10.0 in /usr/local/lib/python3.6/dist-packages (from scikit-image==0.14.3) (1.12.0)\n",
            "Requirement already satisfied: scipy>=0.17.0 in /usr/local/lib/python3.6/dist-packages (from scikit-image==0.14.3) (1.3.1)\n",
            "Requirement already satisfied: matplotlib>=2.0.0 in /usr/local/lib/python3.6/dist-packages (from scikit-image==0.14.3) (3.0.3)\n",
            "Requirement already satisfied: PyWavelets>=0.4.0 in /usr/local/lib/python3.6/dist-packages (from scikit-image==0.14.3) (1.0.3)\n",
            "Requirement already satisfied: networkx>=1.8 in /usr/local/lib/python3.6/dist-packages (from scikit-image==0.14.3) (2.3)\n",
            "Requirement already satisfied: pillow>=4.3.0 in /usr/local/lib/python3.6/dist-packages (from scikit-image==0.14.3) (4.3.0)\n",
            "Requirement already satisfied: numpy>=1.13.3 in /usr/local/lib/python3.6/dist-packages (from scipy>=0.17.0->scikit-image==0.14.3) (1.16.4)\n",
            "Requirement already satisfied: cycler>=0.10 in /usr/local/lib/python3.6/dist-packages (from matplotlib>=2.0.0->scikit-image==0.14.3) (0.10.0)\n",
            "Requirement already satisfied: kiwisolver>=1.0.1 in /usr/local/lib/python3.6/dist-packages (from matplotlib>=2.0.0->scikit-image==0.14.3) (1.1.0)\n",
            "Requirement already satisfied: pyparsing!=2.0.4,!=2.1.2,!=2.1.6,>=2.0.1 in /usr/local/lib/python3.6/dist-packages (from matplotlib>=2.0.0->scikit-image==0.14.3) (2.4.2)\n",
            "Requirement already satisfied: python-dateutil>=2.1 in /usr/local/lib/python3.6/dist-packages (from matplotlib>=2.0.0->scikit-image==0.14.3) (2.5.3)\n",
            "Requirement already satisfied: decorator>=4.3.0 in /usr/local/lib/python3.6/dist-packages (from networkx>=1.8->scikit-image==0.14.3) (4.4.0)\n",
            "Requirement already satisfied: olefile in /usr/local/lib/python3.6/dist-packages (from pillow>=4.3.0->scikit-image==0.14.3) (0.46)\n",
            "Requirement already satisfied: setuptools in /usr/local/lib/python3.6/dist-packages (from kiwisolver>=1.0.1->matplotlib>=2.0.0->scikit-image==0.14.3) (41.0.1)\n",
            "\u001b[31mERROR: albumentations 0.1.12 has requirement imgaug<0.2.7,>=0.2.5, but you'll have imgaug 0.2.9 which is incompatible.\u001b[0m\n",
            "Installing collected packages: scikit-image\n",
            "  Found existing installation: scikit-image 0.15.0\n",
            "    Uninstalling scikit-image-0.15.0:\n",
            "      Successfully uninstalled scikit-image-0.15.0\n",
            "Successfully installed scikit-image-0.14.3\n"
          ],
          "name": "stdout"
        },
        {
          "output_type": "display_data",
          "data": {
            "application/vnd.colab-display-data+json": {
              "pip_warning": {
                "packages": [
                  "skimage"
                ]
              }
            }
          },
          "metadata": {
            "tags": []
          }
        }
      ]
    },
    {
      "cell_type": "code",
      "metadata": {
        "id": "AfRuSpY7C4cd",
        "colab_type": "code",
        "colab": {
          "base_uri": "https://localhost:8080/",
          "height": 34
        },
        "outputId": "cb1a8acc-1eff-4a7f-96f7-dfb6761c78bd"
      },
      "source": [
        "import skimage\n",
        "print(skimage.__version__)"
      ],
      "execution_count": 44,
      "outputs": [
        {
          "output_type": "stream",
          "text": [
            "0.14.3\n"
          ],
          "name": "stdout"
        }
      ]
    },
    {
      "cell_type": "code",
      "metadata": {
        "id": "fi2DHVMg-tX2",
        "colab_type": "code",
        "colab": {
          "base_uri": "https://localhost:8080/",
          "height": 204
        },
        "outputId": "e7b5b798-09a1-4be8-dee0-2c89250b70d3"
      },
      "source": [
        "!wget --no-check-certificate \\\n",
        "    http://www.vision.caltech.edu/visipedia-data/CUB-200-2011/CUB_200_2011.tgz \\\n",
        "    -O /tmp/cats_and_dogs_filtered.zip"
      ],
      "execution_count": 1,
      "outputs": [
        {
          "output_type": "stream",
          "text": [
            "--2019-08-21 07:05:04--  http://www.vision.caltech.edu/visipedia-data/CUB-200-2011/CUB_200_2011.tgz\n",
            "Resolving www.vision.caltech.edu (www.vision.caltech.edu)... 34.208.54.77\n",
            "Connecting to www.vision.caltech.edu (www.vision.caltech.edu)|34.208.54.77|:80... connected.\n",
            "HTTP request sent, awaiting response... 200 OK\n",
            "Length: 1150585339 (1.1G) [application/x-tar]\n",
            "Saving to: ‘/tmp/cats_and_dogs_filtered.zip’\n",
            "\n",
            "/tmp/cats_and_dogs_ 100%[===================>]   1.07G  7.17MB/s    in 2m 35s  \n",
            "\n",
            "2019-08-21 07:07:39 (7.10 MB/s) - ‘/tmp/cats_and_dogs_filtered.zip’ saved [1150585339/1150585339]\n",
            "\n"
          ],
          "name": "stdout"
        }
      ]
    },
    {
      "cell_type": "code",
      "metadata": {
        "id": "ApYpsDvl_ipg",
        "colab_type": "code",
        "colab": {}
      },
      "source": [
        "!tar -zxf /tmp/cats_and_dogs_filtered.zip -C /tmp/"
      ],
      "execution_count": 0,
      "outputs": []
    },
    {
      "cell_type": "code",
      "metadata": {
        "id": "8LolthWeDfCD",
        "colab_type": "code",
        "colab": {}
      },
      "source": [
        "PATH = '/tmp/CUB_200_2011/'"
      ],
      "execution_count": 0,
      "outputs": []
    },
    {
      "cell_type": "code",
      "metadata": {
        "id": "lL8y8GfQAH8x",
        "colab_type": "code",
        "colab": {}
      },
      "source": [
        "read_line = open(PATH + 'train_test_split.txt')"
      ],
      "execution_count": 0,
      "outputs": []
    },
    {
      "cell_type": "code",
      "metadata": {
        "id": "T6MEszS8DqmW",
        "colab_type": "code",
        "colab": {}
      },
      "source": [
        "a = read_line.readlines()"
      ],
      "execution_count": 0,
      "outputs": []
    },
    {
      "cell_type": "code",
      "metadata": {
        "id": "2odUrsLRDtmh",
        "colab_type": "code",
        "colab": {
          "base_uri": "https://localhost:8080/",
          "height": 34
        },
        "outputId": "55841f7c-dfd4-4f3b-a29c-8e239c278263"
      },
      "source": [
        "a[0].split(' ')[1].split('\\n')[0]"
      ],
      "execution_count": 49,
      "outputs": [
        {
          "output_type": "execute_result",
          "data": {
            "text/plain": [
              "'0'"
            ]
          },
          "metadata": {
            "tags": []
          },
          "execution_count": 49
        }
      ]
    },
    {
      "cell_type": "code",
      "metadata": {
        "id": "eBmCyZFyDvIg",
        "colab_type": "code",
        "colab": {
          "base_uri": "https://localhost:8080/",
          "height": 34
        },
        "outputId": "f2cb2ee8-646f-4da8-894a-189e86ecdcd1"
      },
      "source": [
        "\n",
        "classes = open(PATH + 'classes.txt')\n",
        "c_names = classes.readlines()\n",
        "len(c_names)"
      ],
      "execution_count": 50,
      "outputs": [
        {
          "output_type": "execute_result",
          "data": {
            "text/plain": [
              "200"
            ]
          },
          "metadata": {
            "tags": []
          },
          "execution_count": 50
        }
      ]
    },
    {
      "cell_type": "code",
      "metadata": {
        "id": "10Nv0jhBDy3G",
        "colab_type": "code",
        "colab": {}
      },
      "source": [
        "for i in range(len(c_names)):\n",
        "    c_names[i] = c_names[i].split(' ')[1]"
      ],
      "execution_count": 0,
      "outputs": []
    },
    {
      "cell_type": "code",
      "metadata": {
        "id": "BZD0ojgOD24r",
        "colab_type": "code",
        "colab": {
          "base_uri": "https://localhost:8080/",
          "height": 34
        },
        "outputId": "60fa05fd-e3e3-48f0-dbe7-95ceddbf0d08"
      },
      "source": [
        "c_names[0].split('\\n')[0]"
      ],
      "execution_count": 52,
      "outputs": [
        {
          "output_type": "execute_result",
          "data": {
            "text/plain": [
              "'001.Black_footed_Albatross'"
            ]
          },
          "metadata": {
            "tags": []
          },
          "execution_count": 52
        }
      ]
    },
    {
      "cell_type": "code",
      "metadata": {
        "id": "39EjP6DtD6jD",
        "colab_type": "code",
        "colab": {}
      },
      "source": [
        "import os\n",
        "for i in range(len(c_names)):\n",
        "    dir_name = PATH + 'test/' + c_names[i].split('\\n')[0]\n",
        "    if not os.path.exists(dir_name):\n",
        "        os.makedirs(dir_name)"
      ],
      "execution_count": 0,
      "outputs": []
    },
    {
      "cell_type": "code",
      "metadata": {
        "id": "5Cqub_7Iqxup",
        "colab_type": "code",
        "colab": {}
      },
      "source": [
        "for i in range(len(c_names)):\n",
        "    dir_name = PATH + 'train/' + c_names[i].split('\\n')[0]\n",
        "    if not os.path.exists(dir_name):\n",
        "        os.makedirs(dir_name)"
      ],
      "execution_count": 0,
      "outputs": []
    },
    {
      "cell_type": "code",
      "metadata": {
        "id": "1MpApmuYFM1d",
        "colab_type": "code",
        "colab": {}
      },
      "source": [
        "import torch\n",
        "from torch import nn, optim\n",
        "from torch.optim import lr_scheduler\n",
        "from torch.autograd import Variable\n",
        "import torchvision\n",
        "import torch.utils.data as data\n",
        "from torchvision import datasets, models, transforms"
      ],
      "execution_count": 0,
      "outputs": []
    },
    {
      "cell_type": "code",
      "metadata": {
        "id": "bV54i10bFUlI",
        "colab_type": "code",
        "colab": {}
      },
      "source": [
        "train_dataset = datasets.ImageFolder(PATH + 'images')"
      ],
      "execution_count": 0,
      "outputs": []
    },
    {
      "cell_type": "code",
      "metadata": {
        "id": "nhIxYBbcFp0_",
        "colab_type": "code",
        "colab": {}
      },
      "source": [
        "from skimage import io"
      ],
      "execution_count": 0,
      "outputs": []
    },
    {
      "cell_type": "code",
      "metadata": {
        "id": "vqDvqf9-Fyvd",
        "colab_type": "code",
        "colab": {
          "base_uri": "https://localhost:8080/",
          "height": 34
        },
        "outputId": "80dd5d2f-240c-4477-f807-05949e4f89f2"
      },
      "source": [
        "print(len(train_dataset.imgs))"
      ],
      "execution_count": 58,
      "outputs": [
        {
          "output_type": "stream",
          "text": [
            "11788\n"
          ],
          "name": "stdout"
        }
      ]
    },
    {
      "cell_type": "code",
      "metadata": {
        "id": "GG0Z5C52FzwJ",
        "colab_type": "code",
        "colab": {}
      },
      "source": [
        "for j in range(len(train_dataset.imgs)):\n",
        "    if(a[j].split(' ')[1].split('\\n')[0] == '0'):\n",
        "        path = train_dataset.imgs[j][0]\n",
        "        img = io.imread(path)\n",
        "        folder = train_dataset.imgs[j][0][9:].split('/')[-2]\n",
        "        img_name = train_dataset.imgs[j][0][9:].split('/')[-1]\n",
        "        io.imsave(PATH + 'test/' + folder + '/' + img_name, img)\n",
        "        os.remove(path)\n",
        "    else:\n",
        "        path = train_dataset.imgs[j][0]\n",
        "        img = io.imread(path)\n",
        "        folder = train_dataset.imgs[j][0][9:].split('/')[-2]\n",
        "        img_name = train_dataset.imgs[j][0][9:].split('/')[-1]\n",
        "        io.imsave(PATH + 'train/' + folder + '/' + img_name, img)\n",
        "        os.remove(path)"
      ],
      "execution_count": 0,
      "outputs": []
    },
    {
      "cell_type": "code",
      "metadata": {
        "id": "IRIhVF82GHEO",
        "colab_type": "code",
        "colab": {
          "base_uri": "https://localhost:8080/",
          "height": 34
        },
        "outputId": "e1d56e08-ae5e-410f-8ddf-fc50a66c98fb"
      },
      "source": [
        "total = 0\n",
        "for path, dirs, files in os.walk(PATH + 'train'):\n",
        "    total += len(files)\n",
        "print('train images number:', total)"
      ],
      "execution_count": 60,
      "outputs": [
        {
          "output_type": "stream",
          "text": [
            "train images number: 5994\n"
          ],
          "name": "stdout"
        }
      ]
    },
    {
      "cell_type": "code",
      "metadata": {
        "id": "MuVzb2oOGpXZ",
        "colab_type": "code",
        "colab": {
          "base_uri": "https://localhost:8080/",
          "height": 34
        },
        "outputId": "e6393789-c7a7-49c8-ce82-6c938b3cf58c"
      },
      "source": [
        "total = 0\n",
        "for path, dirs, files in os.walk(PATH + 'test'):\n",
        "    total += len(files)\n",
        "print('test images number:', total)"
      ],
      "execution_count": 61,
      "outputs": [
        {
          "output_type": "stream",
          "text": [
            "test images number: 5794\n"
          ],
          "name": "stdout"
        }
      ]
    },
    {
      "cell_type": "markdown",
      "metadata": {
        "id": "H8ugscLeHT3U",
        "colab_type": "text"
      },
      "source": [
        "# Model"
      ]
    },
    {
      "cell_type": "code",
      "metadata": {
        "id": "9_uSdFrNHDSE",
        "colab_type": "code",
        "colab": {}
      },
      "source": [
        "# here are the necessary imports\n",
        "from __future__ import print_function, division\n",
        "\n",
        "import torch\n",
        "import torch.nn as nn\n",
        "import torch.optim as optim\n",
        "from torch.autograd import Variable\n",
        "import numpy as np\n",
        "import torchvision\n",
        "from torchvision import datasets, models, transforms\n",
        "import matplotlib.pyplot as plt\n",
        "import time\n",
        "import os\n",
        "import seaborn as sns\n",
        "plt.ion()"
      ],
      "execution_count": 0,
      "outputs": []
    },
    {
      "cell_type": "code",
      "metadata": {
        "id": "t382Rrz7HYoQ",
        "colab_type": "code",
        "colab": {}
      },
      "source": [
        "# Data augmentation and normalization for training\n",
        "# Just normalization for validation\n",
        "data_transforms = {\n",
        "    'train': transforms.Compose([\n",
        "        transforms.Resize(256),\n",
        "        transforms.RandomRotation(45),\n",
        "        transforms.RandomResizedCrop(224),\n",
        "        transforms.RandomHorizontalFlip(),\n",
        "        transforms.ToTensor(),\n",
        "        transforms.Normalize([0.485, 0.456, 0.406], [0.229, 0.224, 0.225])\n",
        "    ]),\n",
        "    'test': transforms.Compose([\n",
        "        transforms.Resize(256),\n",
        "        transforms.CenterCrop(224),\n",
        "        transforms.ToTensor(),\n",
        "        transforms.Normalize([0.485, 0.456, 0.406], [0.229, 0.224, 0.225])\n",
        "    ]),\n",
        "}\n",
        "\n",
        "\n",
        "# loading datasets with PyTorch ImageFolder\n",
        "image_datasets = {x: datasets.ImageFolder(os.path.join(PATH, x),\n",
        "                                          data_transforms[x])\n",
        "                  for x in ['train', 'test']}\n",
        "# defining data loaders to load data using image_datasets and transforms, here we also specify batch size for the mini batch\n",
        "dataloders = {x: torch.utils.data.DataLoader(image_datasets[x], batch_size=8,\n",
        "                                             shuffle=True, num_workers=4)\n",
        "              for x in ['train', 'test']}\n",
        "dataset_sizes = {x: len(image_datasets[x]) for x in ['train', 'test']}\n",
        "class_names = image_datasets['train'].classes\n",
        "\n",
        "use_gpu = torch.cuda.is_available()"
      ],
      "execution_count": 0,
      "outputs": []
    },
    {
      "cell_type": "code",
      "metadata": {
        "id": "na5yE-iFHpS3",
        "colab_type": "code",
        "colab": {
          "base_uri": "https://localhost:8080/",
          "height": 34
        },
        "outputId": "c71f0c39-0841-4e3c-c9ef-93137155c916"
      },
      "source": [
        "dataset_sizes"
      ],
      "execution_count": 64,
      "outputs": [
        {
          "output_type": "execute_result",
          "data": {
            "text/plain": [
              "{'test': 5794, 'train': 5994}"
            ]
          },
          "metadata": {
            "tags": []
          },
          "execution_count": 64
        }
      ]
    },
    {
      "cell_type": "code",
      "metadata": {
        "id": "5EVY_mc0ILiR",
        "colab_type": "code",
        "colab": {
          "base_uri": "https://localhost:8080/",
          "height": 106
        },
        "outputId": "550354a6-ad9e-477c-c0bb-77da70f4a16f"
      },
      "source": [
        "def imshow(inp, title=None):\n",
        "    \"\"\"Imshow for Tensor.\"\"\"\n",
        "    inp = inp.numpy().transpose((1, 2, 0))\n",
        "    mean = np.array([0.485, 0.456, 0.406])\n",
        "    std = np.array([0.229, 0.224, 0.225])\n",
        "    inp = std * inp + mean\n",
        "    inp = np.clip(inp, 0, 1)\n",
        "    plt.imshow(inp)\n",
        "    if title is not None:\n",
        "        plt.title(title)\n",
        "    plt.pause(0.001)  # pause a bit so that plots are updated\n",
        "\n",
        "\n",
        "# Get a batch of training data\n",
        "inputs, classes = next(iter(dataloders['train']))\n",
        "\n",
        "# Make a grid from batch\n",
        "out = torchvision.utils.make_grid(inputs)\n",
        "\n",
        "imshow(out, title=[class_names[x] for x in classes])"
      ],
      "execution_count": 65,
      "outputs": [
        {
          "output_type": "display_data",
          "data": {
            "image/png": "[encoded data removed]",
            "text/plain": [
              "<Figure size 432x288 with 1 Axes>"
            ]
          },
          "metadata": {
            "tags": []
          }
        }
      ]
    },
    {
      "cell_type": "code",
      "metadata": {
        "id": "IkNX504W5Ilr",
        "colab_type": "code",
        "colab": {
          "base_uri": "https://localhost:8080/",
          "height": 122
        },
        "outputId": "d0d57233-5170-492e-bb5f-4ad8d3e6667b"
      },
      "source": [
        "from google.colab import drive\n",
        "drive.mount('/gdrive')"
      ],
      "execution_count": 101,
      "outputs": [
        {
          "output_type": "stream",
          "text": [
            "Go to this URL in a browser: https://accounts.google.com/o/oauth2/auth?client_id=947318989803-6bn6qk8qdgf4n4g3pfee6491hc0brc4i.apps.googleusercontent.com&redirect_uri=urn%3Aietf%3Awg%3Aoauth%3A2.0%3Aoob&scope=email%20https%3A%2F%2Fwww.googleapis.com%2Fauth%2Fdocs.test%20https%3A%2F%2Fwww.googleapis.com%2Fauth%2Fdrive%20https%3A%2F%2Fwww.googleapis.com%2Fauth%2Fdrive.photos.readonly%20https%3A%2F%2Fwww.googleapis.com%2Fauth%2Fpeopleapi.readonly&response_type=code\n",
            "\n",
            "Enter your authorization code:\n",
            "··········\n",
            "Mounted at /gdrive\n"
          ],
          "name": "stdout"
        }
      ]
    },
    {
      "cell_type": "code",
      "metadata": {
        "id": "BD5QsQai5oyY",
        "colab_type": "code",
        "colab": {}
      },
      "source": [
        "G_DRIVE = '/gdrive/My Drive/'"
      ],
      "execution_count": 0,
      "outputs": []
    },
    {
      "cell_type": "code",
      "metadata": {
        "id": "GF-Z0PuRIPO_",
        "colab_type": "code",
        "colab": {}
      },
      "source": [
        "def train_model(model, criterion, optimizer, num_epochs=10):\n",
        "    since = time.time()\n",
        "\n",
        "    best_model_wts = model.state_dict()\n",
        "    best_acc = 0.0\n",
        "\n",
        "    for epoch in range(num_epochs):\n",
        "        print('Epoch {}/{}'.format(epoch, num_epochs - 1))\n",
        "        print('-' * 10)\n",
        "\n",
        "        # Each epoch has a training and validation phase\n",
        "        for phase in ['train', 'test']:\n",
        "            if phase == 'train':\n",
        "                #scheduler.step()\n",
        "                model.train(True)  # Set model to training mode\n",
        "            else:\n",
        "                model.train(False)  # Set model to evaluate mode\n",
        "\n",
        "            running_loss = 0.0\n",
        "            running_corrects = 0\n",
        "\n",
        "            # Iterate over data.\n",
        "            for data in dataloders[phase]:\n",
        "                # get the inputs\n",
        "                inputs, labels = data\n",
        "\n",
        "                # wrap them in Variable\n",
        "                if use_gpu:\n",
        "                    inputs = Variable(inputs.cuda())\n",
        "                    labels = Variable(labels.cuda())\n",
        "                else:\n",
        "                    inputs, labels = Variable(inputs), Variable(labels)\n",
        "\n",
        "                # zero the parameter gradients\n",
        "                optimizer.zero_grad()\n",
        "\n",
        "                # forward\n",
        "                outputs = model(inputs)\n",
        "                \n",
        "                _, preds = torch.max(outputs.data, 1)\n",
        "                loss = criterion(outputs, labels)\n",
        "\n",
        "                # backward + optimize only if in training phase\n",
        "                if phase == 'train':\n",
        "                    loss.backward()\n",
        "                    optimizer.step()\n",
        "\n",
        "                # statistics\n",
        "                running_loss += loss.item()\n",
        "                running_corrects += torch.sum(preds == labels.data).item()\n",
        "\n",
        "            epoch_loss = running_loss / dataset_sizes[phase]\n",
        "            epoch_acc = running_corrects / dataset_sizes[phase]\n",
        "\n",
        "            print('{} Loss: {:.4f} Acc: {:.4f}'.format(\n",
        "                phase, epoch_loss, epoch_acc))\n",
        "\n",
        "            # deep copy the model\n",
        "            if phase == 'test' and epoch_acc > best_acc:\n",
        "                best_acc = epoch_acc\n",
        "                best_model_wts = model.state_dict()\n",
        "                state = {'model':model_ft.state_dict(),'optim':optimizer_ft.state_dict()}\n",
        "                torch.save(state, G_DRIVE + 'point_resnet_best.pth')\n",
        "\n",
        "        print()\n",
        "\n",
        "    time_elapsed = time.time() - since\n",
        "    print('Training complete in {:.0f}m {:.0f}s'.format(\n",
        "        time_elapsed // 60, time_elapsed % 60))\n",
        "    print('Best test Acc: {:4f}'.format(best_acc))\n",
        "\n",
        "    # load best model weights\n",
        "    model.load_state_dict(best_model_wts)\n",
        "    return model"
      ],
      "execution_count": 0,
      "outputs": []
    },
    {
      "cell_type": "code",
      "metadata": {
        "id": "OqHSPFFlIW4m",
        "colab_type": "code",
        "colab": {}
      },
      "source": [
        "def visualize_model(model, num_images=8):\n",
        "    images_so_far = 0\n",
        "    fig = plt.figure()\n",
        "    \n",
        "\n",
        "    for i, data in enumerate(dataloders[TEST]):\n",
        "        inputs, labels = data\n",
        "        #print(labels)\n",
        "        if use_gpu:\n",
        "            inputs, labels = Variable(inputs.cuda()), Variable(labels.cuda())\n",
        "        else:\n",
        "            inputs, labels = Variable(inputs), Variable(labels)\n",
        "        #print(labels)\n",
        "        #_, lab = torch.max(labels.data, 1)\n",
        "        outputs = model(inputs)\n",
        "        #print(outputs)\n",
        "        _, preds = torch.max(outputs.data, 1)\n",
        "        #print(preds)\n",
        "\n",
        "        for j in range(inputs.size()[0]):\n",
        "            images_so_far += 1\n",
        "            ax = plt.subplot(num_images//2, 2, images_so_far)\n",
        "            ax.axis('off')\n",
        "            ax.set_title('class: {} predicted: {}'.format(class_names[labels.data[j]], class_names[preds[j]]))\n",
        "            imshow(inputs.cpu().data[j])\n",
        "\n",
        "            if images_so_far == num_images:\n",
        "                return"
      ],
      "execution_count": 0,
      "outputs": []
    },
    {
      "cell_type": "code",
      "metadata": {
        "id": "FJJTyYNGItzk",
        "colab_type": "code",
        "colab": {}
      },
      "source": [
        "model_ft = models.resnet18(pretrained=True) # loading a pre-trained(trained on image net) resnet18 model from torchvision models\n",
        "num_ftrs = model_ft.fc.in_features\n",
        "model_ft.fc = nn.Linear(num_ftrs, 200)      # changing the last layer for this dataset by setting last layer neurons to 200 as this dataset has 200 categories\n",
        " \n",
        "if use_gpu:                                 # if gpu is available then use it\n",
        "    model_ft = model_ft.cuda()       \n",
        "# model_ft = model_ft.float()\n",
        "criterion = nn.CrossEntropyLoss()           # defining loss function\n",
        "\n",
        "# Observe that all parameters are being optimized\n",
        "optimizer_ft = optim.SGD(model_ft.parameters(), lr=0.0001, momentum=0.9)\n",
        "# optimizer_ft = optim.Adam(model_ft.parameters())"
      ],
      "execution_count": 0,
      "outputs": []
    },
    {
      "cell_type": "code",
      "metadata": {
        "id": "GfghLbwsunYh",
        "colab_type": "code",
        "colab": {}
      },
      "source": [
        "if os.path.exists(G_DRIVE + 'point_resnet_best.pth'):\n",
        "    checkpoint = torch.load(G_DRIVE + 'point_resnet_best.pth')\n",
        "    model_ft.load_state_dict(checkpoint['model'])\n",
        "    optimizer_ft.load_state_dict(checkpoint['optim'])"
      ],
      "execution_count": 0,
      "outputs": []
    },
    {
      "cell_type": "code",
      "metadata": {
        "id": "9i1u4RSiIwNE",
        "colab_type": "code",
        "colab": {
          "base_uri": "https://localhost:8080/",
          "height": 1000
        },
        "outputId": "3a623586-1e9a-482e-bdd3-30f3d5537202"
      },
      "source": [
        "model_ft = train_model(model_ft, criterion, optimizer_ft, num_epochs=20)"
      ],
      "execution_count": 108,
      "outputs": [
        {
          "output_type": "stream",
          "text": [
            "Epoch 0/19\n",
            "----------\n",
            "train Loss: 0.6692 Acc: 0.0080\n",
            "test Loss: 0.6480 Acc: 0.0192\n",
            "\n",
            "Epoch 1/19\n",
            "----------\n",
            "train Loss: 0.6437 Acc: 0.0200\n",
            "test Loss: 0.6113 Acc: 0.0599\n",
            "\n",
            "Epoch 2/19\n",
            "----------\n",
            "train Loss: 0.6173 Acc: 0.0581\n",
            "test Loss: 0.5680 Acc: 0.1148\n",
            "\n",
            "Epoch 3/19\n",
            "----------\n",
            "train Loss: 0.5877 Acc: 0.0929\n",
            "test Loss: 0.5219 Acc: 0.1826\n",
            "\n",
            "Epoch 4/19\n",
            "----------\n",
            "train Loss: 0.5569 Acc: 0.1326\n",
            "test Loss: 0.4697 Acc: 0.2349\n",
            "\n",
            "Epoch 5/19\n",
            "----------\n",
            "train Loss: 0.5308 Acc: 0.1692\n",
            "test Loss: 0.4424 Acc: 0.2808\n",
            "\n",
            "Epoch 6/19\n",
            "----------\n",
            "train Loss: 0.5073 Acc: 0.2077\n",
            "test Loss: 0.4075 Acc: 0.3357\n",
            "\n",
            "Epoch 7/19\n",
            "----------\n",
            "train Loss: 0.4859 Acc: 0.2376\n",
            "test Loss: 0.3759 Acc: 0.3649\n",
            "\n",
            "Epoch 8/19\n",
            "----------\n",
            "train Loss: 0.4658 Acc: 0.2686\n",
            "test Loss: 0.3576 Acc: 0.3889\n",
            "\n",
            "Epoch 9/19\n",
            "----------\n",
            "train Loss: 0.4497 Acc: 0.2936\n",
            "test Loss: 0.3313 Acc: 0.4451\n",
            "\n",
            "Epoch 10/19\n",
            "----------\n",
            "train Loss: 0.4350 Acc: 0.3136\n",
            "test Loss: 0.3252 Acc: 0.4617\n",
            "\n",
            "Epoch 11/19\n",
            "----------\n",
            "train Loss: 0.4243 Acc: 0.3270\n",
            "test Loss: 0.3049 Acc: 0.4853\n",
            "\n",
            "Epoch 12/19\n",
            "----------\n",
            "train Loss: 0.4100 Acc: 0.3509\n",
            "test Loss: 0.2908 Acc: 0.4909\n",
            "\n",
            "Epoch 13/19\n",
            "----------\n",
            "train Loss: 0.3976 Acc: 0.3709\n",
            "test Loss: 0.2820 Acc: 0.5116\n",
            "\n",
            "Epoch 14/19\n",
            "----------\n",
            "train Loss: 0.3862 Acc: 0.3802\n",
            "test Loss: 0.2672 Acc: 0.5290\n",
            "\n",
            "Epoch 15/19\n",
            "----------\n",
            "train Loss: 0.3774 Acc: 0.3944\n",
            "test Loss: 0.2568 Acc: 0.5456\n",
            "\n",
            "Epoch 16/19\n",
            "----------\n",
            "train Loss: 0.3655 Acc: 0.4094\n",
            "test Loss: 0.2467 Acc: 0.5526\n",
            "\n",
            "Epoch 17/19\n",
            "----------\n",
            "train Loss: 0.3607 Acc: 0.4091\n",
            "test Loss: 0.2389 Acc: 0.5611\n",
            "\n",
            "Epoch 18/19\n",
            "----------\n",
            "train Loss: 0.3476 Acc: 0.4329\n",
            "test Loss: 0.2263 Acc: 0.5932\n",
            "\n",
            "Epoch 19/19\n",
            "----------\n",
            "train Loss: 0.3426 Acc: 0.4463\n",
            "test Loss: 0.2178 Acc: 0.5916\n",
            "\n",
            "Training complete in 36m 54s\n",
            "Best test Acc: 0.593200\n"
          ],
          "name": "stdout"
        }
      ]
    },
    {
      "cell_type": "code",
      "metadata": {
        "id": "OCuRHECYI8Lt",
        "colab_type": "code",
        "colab": {
          "base_uri": "https://localhost:8080/",
          "height": 769
        },
        "outputId": "4bf9e88f-7fa9-4c30-86ad-4bd67f5b1d44"
      },
      "source": [
        "visualize_model(model_ft)"
      ],
      "execution_count": 109,
      "outputs": [
        {
          "output_type": "display_data",
          "data": {
            "image/png": "[encoded data removed]",
            "text/plain": [
              "<Figure size 432x288 with 1 Axes>"
            ]
          },
          "metadata": {
            "tags": []
          }
        },
        {
          "output_type": "display_data",
          "data": {
            "image/png": "[encoded data removed]",
            "text/plain": [
              "<Figure size 432x288 with 1 Axes>"
            ]
          },
          "metadata": {
            "tags": []
          }
        },
        {
          "output_type": "display_data",
          "data": {
            "image/png": "[encoded data removed]",
            "text/plain": [
              "<Figure size 432x288 with 1 Axes>"
            ]
          },
          "metadata": {
            "tags": []
          }
        },
        {
          "output_type": "display_data",
          "data": {
            "image/png": "[encoded data removed]",
            "text/plain": [
              "<Figure size 432x288 with 1 Axes>"
            ]
          },
          "metadata": {
            "tags": []
          }
        },
        {
          "output_type": "display_data",
          "data": {
            "image/png": "[encoded data removed]",
            "text/plain": [
              "<Figure size 432x288 with 1 Axes>"
            ]
          },
          "metadata": {
            "tags": []
          }
        },
        {
          "output_type": "display_data",
          "data": {
            "image/png": "[encoded data removed]",
            "text/plain": [
              "<Figure size 432x288 with 1 Axes>"
            ]
          },
          "metadata": {
            "tags": []
          }
        },
        {
          "output_type": "display_data",
          "data": {
            "image/png": "[encoded data removed]",
            "text/plain": [
              "<Figure size 432x288 with 1 Axes>"
            ]
          },
          "metadata": {
            "tags": []
          }
        },
        {
          "output_type": "display_data",
          "data": {
            "image/png": "[encoded data removed]",
            "text/plain": [
              "<Figure size 432x288 with 1 Axes>"
            ]
          },
          "metadata": {
            "tags": []
          }
        }
      ]
    },
    {
      "cell_type": "code",
      "metadata": {
        "id": "QTdGj4R6C1kS",
        "colab_type": "code",
        "colab": {}
      },
      "source": [
        "class AverageMeter(object):\n",
        "    \"\"\"Computes and stores the average and current value\"\"\"\n",
        "    def __init__(self):\n",
        "        self.reset()\n",
        "\n",
        "    def reset(self):\n",
        "        self.val = 0\n",
        "        self.avg = 0\n",
        "        self.sum = 0\n",
        "        self.count = 0\n",
        "\n",
        "    def update(self, val, n=1):\n",
        "        self.val = val\n",
        "        self.sum += val * n\n",
        "        self.count += n\n",
        "        self.avg = self.sum / self.count"
      ],
      "execution_count": 0,
      "outputs": []
    },
    {
      "cell_type": "code",
      "metadata": {
        "id": "OtjxLoYCC6rp",
        "colab_type": "code",
        "colab": {}
      },
      "source": [
        "def accuracy(output, target, topk=(1,)):\n",
        "    \"\"\"Computes the precision@k for the specified values of k\"\"\"\n",
        "    #with torch.no_grad():\n",
        "    maxk = max(topk)\n",
        "    batch_size = target.size(0)\n",
        "\n",
        "    _, pred = output.topk(maxk, 1, True, True)\n",
        "    pred = pred.t()\n",
        "    correct = pred.eq(target.view(1, -1).expand_as(pred))\n",
        "\n",
        "    res = []\n",
        "    for k in topk:\n",
        "        correct_k = correct[:k].view(-1).float().sum(0, keepdim=True)\n",
        "        res.append(correct_k.mul_(100.0 / batch_size))\n",
        "    return res"
      ],
      "execution_count": 0,
      "outputs": []
    },
    {
      "cell_type": "code",
      "metadata": {
        "id": "WVTfeL4QC8Pu",
        "colab_type": "code",
        "colab": {}
      },
      "source": [
        "def calc_accuracy(model, data):\n",
        "    model.eval()\n",
        "    if use_gpu:\n",
        "        model.cuda()    \n",
        "    \n",
        "    top1 = AverageMeter()\n",
        "    top5 = AverageMeter()\n",
        "    \n",
        "    for idx, (inputs, labels) in enumerate(dataloders[data]):\n",
        "        if use_gpu:\n",
        "            inputs, labels = inputs.cuda(), labels.cuda()\n",
        "        # obtain the outputs from the model\n",
        "        outputs = model.forward(Variable(inputs))\n",
        "        prec1, prec5 = accuracy(outputs, Variable(labels), topk=(1, 5))\n",
        "        top1.update(prec1[0], inputs.size(0))\n",
        "        top5.update(prec5[0], inputs.size(0))\n",
        "        \n",
        "    return top1 ,top5\n",
        "    \n",
        "top1 ,top5 = calc_accuracy(model_ft, 'test')"
      ],
      "execution_count": 0,
      "outputs": []
    },
    {
      "cell_type": "code",
      "metadata": {
        "id": "0qdgn4mzC_A6",
        "colab_type": "code",
        "colab": {
          "base_uri": "https://localhost:8080/",
          "height": 34
        },
        "outputId": "ecb9ccb7-4750-42be-8631-298987069a25"
      },
      "source": [
        "top1.avg"
      ],
      "execution_count": 113,
      "outputs": [
        {
          "output_type": "execute_result",
          "data": {
            "text/plain": [
              "tensor(59.1647, device='cuda:0')"
            ]
          },
          "metadata": {
            "tags": []
          },
          "execution_count": 113
        }
      ]
    },
    {
      "cell_type": "code",
      "metadata": {
        "id": "bxzJ4OT4DEAY",
        "colab_type": "code",
        "colab": {
          "base_uri": "https://localhost:8080/",
          "height": 34
        },
        "outputId": "84a3f8d3-84a6-4b0d-b491-1a40c8f13eae"
      },
      "source": [
        "top5.avg"
      ],
      "execution_count": 114,
      "outputs": [
        {
          "output_type": "execute_result",
          "data": {
            "text/plain": [
              "tensor(86.6241, device='cuda:0')"
            ]
          },
          "metadata": {
            "tags": []
          },
          "execution_count": 114
        }
      ]
    }
  ]
}