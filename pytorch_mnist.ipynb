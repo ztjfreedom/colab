{
  "nbformat": 4,
  "nbformat_minor": 0,
  "metadata": {
    "colab": {
      "name": "pytorch_mnist.ipynb",
      "version": "0.3.2",
      "provenance": [],
      "collapsed_sections": [],
      "include_colab_link": true
    },
    "kernelspec": {
      "name": "python3",
      "display_name": "Python 3"
    },
    "accelerator": "GPU"
  },
  "cells": [
    {
      "cell_type": "markdown",
      "metadata": {
        "id": "view-in-github",
        "colab_type": "text"
      },
      "source": [
        "<a href=\"https://colab.research.google.com/github/ztjfreedom/colab/blob/master/pytorch_mnist.ipynb\" target=\"_parent\"><img src=\"https://colab.research.google.com/assets/colab-badge.svg\" alt=\"Open In Colab\"/></a>"
      ]
    },
    {
      "cell_type": "code",
      "metadata": {
        "id": "GeOBpqxIxtZ2",
        "colab_type": "code",
        "colab": {}
      },
      "source": [
        "import torch\n",
        "import torch.nn as nn\n",
        "import torch.nn.functional as F\n",
        "import torch.optim as optim\n",
        "from torchvision import datasets, transforms\n",
        "from torch.autograd import Variable"
      ],
      "execution_count": 0,
      "outputs": []
    },
    {
      "cell_type": "code",
      "metadata": {
        "id": "qPUZRxIWx78I",
        "colab_type": "code",
        "colab": {}
      },
      "source": [
        "# Training settings\n",
        "batch_size = 64\n",
        "\n",
        "# MNIST Dataset\n",
        "train_dataset = datasets.MNIST(root='./data/',\n",
        "                               train=True,\n",
        "                               transform=transforms.ToTensor(),\n",
        "                               download=True)\n",
        "\n",
        "test_dataset = datasets.MNIST(root='./data/',\n",
        "                              train=False,\n",
        "                              transform=transforms.ToTensor())"
      ],
      "execution_count": 0,
      "outputs": []
    },
    {
      "cell_type": "code",
      "metadata": {
        "id": "HEmHaOhmx76Q",
        "colab_type": "code",
        "colab": {}
      },
      "source": [
        "# Data Loader (Input Pipeline)\n",
        "train_loader = torch.utils.data.DataLoader(dataset=train_dataset,\n",
        "                                           batch_size=batch_size,\n",
        "                                           shuffle=True)\n",
        "\n",
        "test_loader = torch.utils.data.DataLoader(dataset=test_dataset,\n",
        "                                          batch_size=batch_size,\n",
        "                                          shuffle=False)"
      ],
      "execution_count": 0,
      "outputs": []
    },
    {
      "cell_type": "markdown",
      "metadata": {
        "id": "TMPM5DqPy5I_",
        "colab_type": "text"
      },
      "source": [
        "![CNN](https://img-blog.csdn.net/20180211155818513?watermark/2/text/aHR0cDovL2Jsb2cuY3Nkbi5uZXQvbTBfMzczMDYzNjA=/font/5a6L5L2T/fontsize/400/fill/I0JBQkFCMA==/dissolve/70)"
      ]
    },
    {
      "cell_type": "code",
      "metadata": {
        "id": "kYcas9AUx736",
        "colab_type": "code",
        "colab": {}
      },
      "source": [
        "class Net(nn.Module):\n",
        "    def __init__(self):\n",
        "        super(Net, self).__init__()\n",
        "        # 1 input channel, 10 output channels, kernel 5*5\n",
        "        self.conv1 = nn.Conv2d(1, 10, kernel_size=5)\n",
        "        self.conv2 = nn.Conv2d(10, 20, kernel_size=5)\n",
        "        self.mp = nn.MaxPool2d(2)\n",
        "        # fully connect\n",
        "        self.fc = nn.Linear(320, 10)\n",
        "\n",
        "    def forward(self, x):\n",
        "        # in_size = 64\n",
        "        in_size = x.size(0) # one batch\n",
        "        # x: 64*10*12*12\n",
        "        x = F.relu(self.mp(self.conv1(x)))\n",
        "        # x: 64*20*4*4\n",
        "        x = F.relu(self.mp(self.conv2(x)))\n",
        "        # x: 64*320\n",
        "        x = x.view(in_size, -1) # flatten the tensor\n",
        "        # x: 64*10\n",
        "        x = self.fc(x)\n",
        "        return F.log_softmax(x)"
      ],
      "execution_count": 0,
      "outputs": []
    },
    {
      "cell_type": "code",
      "metadata": {
        "id": "3ZpXtFZJx71f",
        "colab_type": "code",
        "colab": {
          "base_uri": "https://localhost:8080/",
          "height": 34
        },
        "outputId": "85601d94-c7ff-46ca-95d8-28f1538013df"
      },
      "source": [
        "device = torch.device(\"cuda\" if torch.cuda.is_available() else \"cpu\")\n",
        "\n",
        "model = Net().to(device)\n",
        "\n",
        "optimizer = optim.SGD(model.parameters(), lr=0.01, momentum=0.5)\n",
        "\n",
        "print(device)"
      ],
      "execution_count": 19,
      "outputs": [
        {
          "output_type": "stream",
          "text": [
            "cuda\n"
          ],
          "name": "stdout"
        }
      ]
    },
    {
      "cell_type": "code",
      "metadata": {
        "id": "iSTq_Tutx7ye",
        "colab_type": "code",
        "colab": {}
      },
      "source": [
        "def train(epoch):\n",
        "    for batch_idx, (data, target) in enumerate(train_loader):\n",
        "        data, target = Variable(data).to(device), Variable(target).to(device)\n",
        "        optimizer.zero_grad()\n",
        "        output = model(data)\n",
        "        loss = F.nll_loss(output, target)\n",
        "        loss.backward()\n",
        "        optimizer.step()\n",
        "        if batch_idx % 200 == 0:\n",
        "            print('Train Epoch: {} [{}/{} ({:.0f}%)]\\tLoss: {:.6f}'.format(\n",
        "                epoch, batch_idx * len(data), len(train_loader.dataset),\n",
        "                100. * batch_idx / len(train_loader), loss.item()))"
      ],
      "execution_count": 0,
      "outputs": []
    },
    {
      "cell_type": "code",
      "metadata": {
        "id": "aGI7_H6SzKrv",
        "colab_type": "code",
        "colab": {}
      },
      "source": [
        "def test():\n",
        "    test_loss = 0\n",
        "    correct = 0\n",
        "    for data, target in test_loader:\n",
        "        data, target = Variable(data, volatile=True).to(device), Variable(target).to(device)\n",
        "        output = model(data)\n",
        "        # sum up batch loss\n",
        "        test_loss += F.nll_loss(output, target, size_average=False).item()\n",
        "        # get the index of the max log-probability\n",
        "        pred = output.data.max(1, keepdim=True)[1]\n",
        "        correct += pred.eq(target.data.view_as(pred)).cpu().sum()\n",
        "\n",
        "    test_loss /= len(test_loader.dataset)\n",
        "    print('\\nTest set: Average loss: {:.4f}, Accuracy: {}/{} ({:.0f}%)\\n'.format(\n",
        "        test_loss, correct, len(test_loader.dataset),\n",
        "        100. * correct / len(test_loader.dataset)))"
      ],
      "execution_count": 0,
      "outputs": []
    },
    {
      "cell_type": "code",
      "metadata": {
        "id": "j6nxA33yzKpZ",
        "colab_type": "code",
        "colab": {
          "base_uri": "https://localhost:8080/",
          "height": 1000
        },
        "outputId": "e1ae7b2b-621f-48d4-fdfc-df1a552cb28f"
      },
      "source": [
        "for epoch in range(1, 10):\n",
        "    train(epoch)\n",
        "    test()"
      ],
      "execution_count": 25,
      "outputs": [
        {
          "output_type": "stream",
          "text": [
            "/usr/local/lib/python3.6/dist-packages/ipykernel_launcher.py:22: UserWarning: Implicit dimension choice for log_softmax has been deprecated. Change the call to include dim=X as an argument.\n"
          ],
          "name": "stderr"
        },
        {
          "output_type": "stream",
          "text": [
            "Train Epoch: 1 [0/60000 (0%)]\tLoss: 2.317667\n",
            "Train Epoch: 1 [12800/60000 (21%)]\tLoss: 0.504209\n",
            "Train Epoch: 1 [25600/60000 (43%)]\tLoss: 0.501078\n",
            "Train Epoch: 1 [38400/60000 (64%)]\tLoss: 0.187059\n",
            "Train Epoch: 1 [51200/60000 (85%)]\tLoss: 0.271830\n"
          ],
          "name": "stdout"
        },
        {
          "output_type": "stream",
          "text": [
            "/usr/local/lib/python3.6/dist-packages/ipykernel_launcher.py:5: UserWarning: volatile was removed and now has no effect. Use `with torch.no_grad():` instead.\n",
            "  \"\"\"\n",
            "/usr/local/lib/python3.6/dist-packages/torch/nn/_reduction.py:46: UserWarning: size_average and reduce args will be deprecated, please use reduction='sum' instead.\n",
            "  warnings.warn(warning.format(ret))\n"
          ],
          "name": "stderr"
        },
        {
          "output_type": "stream",
          "text": [
            "\n",
            "Test set: Average loss: 0.1881, Accuracy: 9435/10000 (94%)\n",
            "\n",
            "Train Epoch: 2 [0/60000 (0%)]\tLoss: 0.089617\n",
            "Train Epoch: 2 [12800/60000 (21%)]\tLoss: 0.096332\n",
            "Train Epoch: 2 [25600/60000 (43%)]\tLoss: 0.248474\n",
            "Train Epoch: 2 [38400/60000 (64%)]\tLoss: 0.036451\n",
            "Train Epoch: 2 [51200/60000 (85%)]\tLoss: 0.142975\n",
            "\n",
            "Test set: Average loss: 0.1123, Accuracy: 9663/10000 (96%)\n",
            "\n",
            "Train Epoch: 3 [0/60000 (0%)]\tLoss: 0.176653\n",
            "Train Epoch: 3 [12800/60000 (21%)]\tLoss: 0.041410\n",
            "Train Epoch: 3 [25600/60000 (43%)]\tLoss: 0.128798\n",
            "Train Epoch: 3 [38400/60000 (64%)]\tLoss: 0.060153\n",
            "Train Epoch: 3 [51200/60000 (85%)]\tLoss: 0.080191\n",
            "\n",
            "Test set: Average loss: 0.0874, Accuracy: 9732/10000 (97%)\n",
            "\n",
            "Train Epoch: 4 [0/60000 (0%)]\tLoss: 0.064529\n",
            "Train Epoch: 4 [12800/60000 (21%)]\tLoss: 0.114987\n",
            "Train Epoch: 4 [25600/60000 (43%)]\tLoss: 0.048670\n",
            "Train Epoch: 4 [38400/60000 (64%)]\tLoss: 0.099151\n",
            "Train Epoch: 4 [51200/60000 (85%)]\tLoss: 0.253495\n",
            "\n",
            "Test set: Average loss: 0.0720, Accuracy: 9777/10000 (97%)\n",
            "\n",
            "Train Epoch: 5 [0/60000 (0%)]\tLoss: 0.124852\n",
            "Train Epoch: 5 [12800/60000 (21%)]\tLoss: 0.133498\n",
            "Train Epoch: 5 [25600/60000 (43%)]\tLoss: 0.016847\n",
            "Train Epoch: 5 [38400/60000 (64%)]\tLoss: 0.012955\n",
            "Train Epoch: 5 [51200/60000 (85%)]\tLoss: 0.023899\n",
            "\n",
            "Test set: Average loss: 0.0719, Accuracy: 9766/10000 (97%)\n",
            "\n",
            "Train Epoch: 6 [0/60000 (0%)]\tLoss: 0.027323\n",
            "Train Epoch: 6 [12800/60000 (21%)]\tLoss: 0.041107\n",
            "Train Epoch: 6 [25600/60000 (43%)]\tLoss: 0.053764\n",
            "Train Epoch: 6 [38400/60000 (64%)]\tLoss: 0.053124\n",
            "Train Epoch: 6 [51200/60000 (85%)]\tLoss: 0.095741\n",
            "\n",
            "Test set: Average loss: 0.0637, Accuracy: 9799/10000 (97%)\n",
            "\n",
            "Train Epoch: 7 [0/60000 (0%)]\tLoss: 0.020573\n",
            "Train Epoch: 7 [12800/60000 (21%)]\tLoss: 0.029247\n",
            "Train Epoch: 7 [25600/60000 (43%)]\tLoss: 0.022067\n",
            "Train Epoch: 7 [38400/60000 (64%)]\tLoss: 0.023001\n",
            "Train Epoch: 7 [51200/60000 (85%)]\tLoss: 0.043790\n",
            "\n",
            "Test set: Average loss: 0.0526, Accuracy: 9825/10000 (98%)\n",
            "\n",
            "Train Epoch: 8 [0/60000 (0%)]\tLoss: 0.042350\n",
            "Train Epoch: 8 [12800/60000 (21%)]\tLoss: 0.163416\n",
            "Train Epoch: 8 [25600/60000 (43%)]\tLoss: 0.028627\n",
            "Train Epoch: 8 [38400/60000 (64%)]\tLoss: 0.102016\n",
            "Train Epoch: 8 [51200/60000 (85%)]\tLoss: 0.060695\n",
            "\n",
            "Test set: Average loss: 0.0526, Accuracy: 9822/10000 (98%)\n",
            "\n",
            "Train Epoch: 9 [0/60000 (0%)]\tLoss: 0.085799\n",
            "Train Epoch: 9 [12800/60000 (21%)]\tLoss: 0.064873\n",
            "Train Epoch: 9 [25600/60000 (43%)]\tLoss: 0.020207\n",
            "Train Epoch: 9 [38400/60000 (64%)]\tLoss: 0.032396\n",
            "Train Epoch: 9 [51200/60000 (85%)]\tLoss: 0.027477\n",
            "\n",
            "Test set: Average loss: 0.0490, Accuracy: 9832/10000 (98%)\n",
            "\n"
          ],
          "name": "stdout"
        }
      ]
    }
  ]
}