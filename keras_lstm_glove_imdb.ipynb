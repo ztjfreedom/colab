{
  "nbformat": 4,
  "nbformat_minor": 0,
  "metadata": {
    "colab": {
      "name": "keras_lstm_glove_imdb.ipynb",
      "version": "0.3.2",
      "provenance": [],
      "collapsed_sections": [],
      "include_colab_link": true
    },
    "kernelspec": {
      "name": "python3",
      "display_name": "Python 3"
    },
    "accelerator": "GPU"
  },
  "cells": [
    {
      "cell_type": "markdown",
      "metadata": {
        "id": "view-in-github",
        "colab_type": "text"
      },
      "source": [
        "<a href=\"https://colab.research.google.com/github/ztjfreedom/colab/blob/master/keras_lstm_glove_imdb.ipynb\" target=\"_parent\"><img src=\"https://colab.research.google.com/assets/colab-badge.svg\" alt=\"Open In Colab\"/></a>"
      ]
    },
    {
      "cell_type": "code",
      "metadata": {
        "id": "Vdl-GxpebUhI",
        "colab_type": "code",
        "outputId": "7699c6b7-354b-4618-d14a-7da810053cd9",
        "colab": {
          "base_uri": "https://localhost:8080/",
          "height": 273
        }
      },
      "source": [
        "!pip install numpy==1.16.2"
      ],
      "execution_count": 2,
      "outputs": [
        {
          "output_type": "stream",
          "text": [
            "Collecting numpy==1.16.2\n",
            "\u001b[?25l  Downloading https://files.pythonhosted.org/packages/35/d5/4f8410ac303e690144f0a0603c4b8fd3b986feb2749c435f7cdbb288f17e/numpy-1.16.2-cp36-cp36m-manylinux1_x86_64.whl (17.3MB)\n",
            "\u001b[K     |████████████████████████████████| 17.3MB 3.4MB/s \n",
            "\u001b[31mERROR: datascience 0.10.6 has requirement folium==0.2.1, but you'll have folium 0.8.3 which is incompatible.\u001b[0m\n",
            "\u001b[31mERROR: albumentations 0.1.12 has requirement imgaug<0.2.7,>=0.2.5, but you'll have imgaug 0.2.9 which is incompatible.\u001b[0m\n",
            "\u001b[?25hInstalling collected packages: numpy\n",
            "  Found existing installation: numpy 1.16.4\n",
            "    Uninstalling numpy-1.16.4:\n",
            "      Successfully uninstalled numpy-1.16.4\n",
            "Successfully installed numpy-1.16.2\n"
          ],
          "name": "stdout"
        },
        {
          "output_type": "display_data",
          "data": {
            "application/vnd.colab-display-data+json": {
              "pip_warning": {
                "packages": [
                  "numpy"
                ]
              }
            }
          },
          "metadata": {
            "tags": []
          }
        }
      ]
    },
    {
      "cell_type": "code",
      "metadata": {
        "id": "BnjLJI_5iAFx",
        "colab_type": "code",
        "outputId": "b2b637ff-c597-4d86-93f8-178bd16f3013",
        "colab": {
          "base_uri": "https://localhost:8080/",
          "height": 34
        }
      },
      "source": [
        "import os\n",
        "from keras.datasets import imdb\n",
        "from keras.preprocessing.text import Tokenizer\n",
        "from keras.preprocessing.sequence import pad_sequences\n",
        "import numpy as np\n",
        "from keras.models import Sequential\n",
        "from keras.layers import Dense, Embedding, Dropout, Flatten, Bidirectional, BatchNormalization\n",
        "from keras.layers import LSTM, CuDNNLSTM\n",
        "\n",
        "from IPython.display import SVG\n",
        "from keras.utils.vis_utils import model_to_dot\n",
        "\n",
        "import matplotlib.pyplot as plt\n",
        "import h5py\n",
        "\n",
        "print(np.__version__)"
      ],
      "execution_count": 24,
      "outputs": [
        {
          "output_type": "stream",
          "text": [
            "1.16.2\n"
          ],
          "name": "stdout"
        }
      ]
    },
    {
      "cell_type": "code",
      "metadata": {
        "id": "dLf-T48FuUcb",
        "colab_type": "code",
        "colab": {}
      },
      "source": [
        "# number of most-frequent words to use\n",
        "words_num = 10000\n",
        "# cut texts after this number of words\n",
        "max_len = 80"
      ],
      "execution_count": 0,
      "outputs": []
    },
    {
      "cell_type": "code",
      "metadata": {
        "id": "pc3Gs1X-YrbB",
        "colab_type": "code",
        "outputId": "adf3a25b-1d77-4d84-a036-9b29408cd5ea",
        "colab": {
          "base_uri": "https://localhost:8080/",
          "height": 88
        }
      },
      "source": [
        "print('Loading data...')\n",
        "\n",
        "pad_id = 0\n",
        "start_id = 1\n",
        "oov_id = 2\n",
        "index_offset = 2\n",
        " \n",
        "(x_train, y_train), (x_test, y_test) = imdb.load_data(num_words=words_num, start_char=start_id,\n",
        "                                                      oov_char=oov_id, index_from=index_offset)\n",
        " \n",
        "word2idx = imdb.get_word_index()\n",
        "\n",
        "print('word2idx[the]:', word2idx['the'])\n",
        "print('x_train[0]:', x_train[0])"
      ],
      "execution_count": 28,
      "outputs": [
        {
          "output_type": "stream",
          "text": [
            "Loading data...\n",
            "word2idx[the]: 1\n",
            "x_train[0]: [1, 13, 21, 15, 42, 529, 972, 1621, 1384, 64, 457, 4467, 65, 3940, 3, 172, 35, 255, 4, 24, 99, 42, 837, 111, 49, 669, 2, 8, 34, 479, 283, 4, 149, 3, 171, 111, 166, 2, 335, 384, 38, 3, 171, 4535, 1110, 16, 545, 37, 12, 446, 3, 191, 49, 15, 5, 146, 2024, 18, 13, 21, 3, 1919, 4612, 468, 3, 21, 70, 86, 11, 15, 42, 529, 37, 75, 14, 12, 1246, 3, 21, 16, 514, 16, 11, 15, 625, 17, 2, 4, 61, 385, 11, 7, 315, 7, 105, 4, 3, 2222, 5243, 15, 479, 65, 3784, 32, 3, 129, 11, 15, 37, 618, 4, 24, 123, 50, 35, 134, 47, 24, 1414, 32, 5, 21, 11, 214, 27, 76, 51, 4, 13, 406, 15, 81, 2, 7, 3, 106, 116, 5951, 14, 255, 3, 2, 6, 3765, 4, 722, 35, 70, 42, 529, 475, 25, 399, 316, 45, 6, 3, 2, 1028, 12, 103, 87, 3, 380, 14, 296, 97, 31, 2070, 55, 25, 140, 5, 193, 7485, 17, 3, 225, 21, 20, 133, 475, 25, 479, 4, 143, 29, 5534, 17, 50, 35, 27, 223, 91, 24, 103, 3, 225, 64, 15, 37, 1333, 87, 11, 15, 282, 4, 15, 4471, 112, 102, 31, 14, 15, 5344, 18, 177, 31]\n"
          ],
          "name": "stdout"
        }
      ]
    },
    {
      "cell_type": "code",
      "metadata": {
        "id": "bo06Io2Ure72",
        "colab_type": "code",
        "colab": {
          "base_uri": "https://localhost:8080/",
          "height": 136
        },
        "outputId": "ec0b6c1a-91f4-47de-ee14-b49eacca3f4f"
      },
      "source": [
        "word2idx = {k: v + index_offset for k, v in word2idx.items()}\n",
        "idx2word = {v: k for k, v in word2idx.items()}\n",
        " \n",
        "idx2word[pad_id] = '<PAD>'\n",
        "idx2word[start_id] = '<START>'\n",
        "idx2word[oov_id] = '<OOV>'\n",
        "\n",
        "x_train = pad_sequences(x_train, maxlen=max_len, truncating='post', padding='post', value=pad_id)\n",
        "x_test = pad_sequences(x_test, maxlen=max_len, truncating='post', padding='post', value=pad_id)\n",
        "\n",
        "print('Review at word2idx:')\n",
        "print('word the:', word2idx['the'])\n",
        "\n",
        "print('Review at idx2word:')\n",
        "print('idx 0:', idx2word[0])\n",
        "print('idx 1:', idx2word[1])\n",
        "print('idx 2:', idx2word[2])\n",
        "print('idx 3:', idx2word[3])"
      ],
      "execution_count": 33,
      "outputs": [
        {
          "output_type": "stream",
          "text": [
            "Review at word2idx:\n",
            "word the: 3\n",
            "Review at idx2word:\n",
            "idx 0: <PAD>\n",
            "idx 1: <START>\n",
            "idx 2: <OOV>\n",
            "idx 3: the\n"
          ],
          "name": "stdout"
        }
      ]
    },
    {
      "cell_type": "code",
      "metadata": {
        "id": "71h1yCFNPpuy",
        "colab_type": "code",
        "outputId": "dc748603-6a4e-46c9-fdcd-d9d448d28343",
        "colab": {
          "base_uri": "https://localhost:8080/",
          "height": 54
        }
      },
      "source": [
        "decoded_review = ' '.join([idx2word[i] for i in x_train[0]])\n",
        "print(decoded_review)"
      ],
      "execution_count": 34,
      "outputs": [
        {
          "output_type": "stream",
          "text": [
            "<START> this film was just brilliant casting location scenery story direction everyone's really suited the part they played and you could just imagine being there robert <OOV> is an amazing actor and now the same being director <OOV> father came from the same scottish island as myself so i loved the fact there was a real connection with this film the witty remarks throughout the film were great it was just brilliant so much that i bought the film as\n"
          ],
          "name": "stdout"
        }
      ]
    },
    {
      "cell_type": "code",
      "metadata": {
        "id": "0_iI8eNiiSqH",
        "colab_type": "code",
        "outputId": "c9f91d1a-2b78-497f-8391-c8c2dca3f2a1",
        "colab": {
          "base_uri": "https://localhost:8080/",
          "height": 68
        }
      },
      "source": [
        "# mount google drive\n",
        "from google.colab import drive\n",
        "drive.mount('/content/gdrive')\n",
        "%cd gdrive/My Drive/Colab Notebooks/dataset/"
      ],
      "execution_count": 35,
      "outputs": [
        {
          "output_type": "stream",
          "text": [
            "Drive already mounted at /content/gdrive; to attempt to forcibly remount, call drive.mount(\"/content/gdrive\", force_remount=True).\n",
            "[Errno 2] No such file or directory: 'gdrive/My Drive/Colab Notebooks/dataset/'\n",
            "/content/gdrive/My Drive/Colab Notebooks/dataset\n"
          ],
          "name": "stdout"
        }
      ]
    },
    {
      "cell_type": "code",
      "metadata": {
        "id": "DS9X_iZfcl_Q",
        "colab_type": "code",
        "outputId": "50f0b40a-ee6f-41eb-f2ea-53a522b6a55d",
        "colab": {
          "base_uri": "https://localhost:8080/",
          "height": 51
        }
      },
      "source": [
        "# Parsing GLoVE word embedding files\n",
        "glove_dict = {}\n",
        "with open(os.path.join('glove', 'glove.6B.50d.txt')) as f:\n",
        "    for line in f:\n",
        "        values = line.split()\n",
        "        word = values[0]\n",
        "        coefs = np.asarray(values[1:], dtype='float32')\n",
        "        glove_dict[word] = coefs\n",
        "\n",
        "\n",
        "print('Found %s word vectors.' % len(glove_dict))\n",
        "\n",
        "for key in glove_dict.keys():\n",
        "    print('Frist key:', key)\n",
        "    break"
      ],
      "execution_count": 36,
      "outputs": [
        {
          "output_type": "stream",
          "text": [
            "Found 400000 word vectors.\n",
            "Frist key: the\n"
          ],
          "name": "stdout"
        }
      ]
    },
    {
      "cell_type": "code",
      "metadata": {
        "id": "KrjPVqmzcmJa",
        "colab_type": "code",
        "outputId": "da5c6fee-2559-4b68-e5d1-b2baade16766",
        "colab": {
          "base_uri": "https://localhost:8080/",
          "height": 629
        }
      },
      "source": [
        "# 0 is used for padding, so we set it to all zeros\n",
        "embedding_matrix = np.random.normal(loc=0.0, scale=1.0, size=(10000, 50))\n",
        "embedding_matrix[0] = np.zeros(50)\n",
        "for word, i in word2idx.items():\n",
        "    if i < 10000:\n",
        "        embedding_vector = glove_dict.get(word)\n",
        "        if embedding_vector is not None:\n",
        "            embedding_matrix[i] = embedding_vector\n",
        "\n",
        "print('Embedding review:')\n",
        "print(embedding_matrix.shape)\n",
        "print(embedding_matrix[0])\n",
        "print(embedding_matrix[1])\n",
        "print(embedding_matrix[3])\n",
        "print(glove_dict['the'])"
      ],
      "execution_count": 37,
      "outputs": [
        {
          "output_type": "stream",
          "text": [
            "Embedding review:\n",
            "(10000, 50)\n",
            "[0. 0. 0. 0. 0. 0. 0. 0. 0. 0. 0. 0. 0. 0. 0. 0. 0. 0. 0. 0. 0. 0. 0. 0.\n",
            " 0. 0. 0. 0. 0. 0. 0. 0. 0. 0. 0. 0. 0. 0. 0. 0. 0. 0. 0. 0. 0. 0. 0. 0.\n",
            " 0. 0.]\n",
            "[ 1.42576577 -1.74478284 -0.64736253  0.26380198 -0.46950615  0.04085707\n",
            " -1.00885976  1.45821201 -1.06941491 -1.02752209 -0.63001538 -1.55715559\n",
            " -0.58781136 -0.16534477 -0.22280624 -0.92582924  0.63208453  0.67441906\n",
            "  1.1971006   1.90387458 -1.94896777 -0.8279956   1.06974494 -0.55934359\n",
            "  1.18077087  0.17849756  1.36668251  0.14156975 -0.66128088  1.30115542\n",
            " -1.43224451  1.35921625 -0.66289783  0.28906809 -0.80765559 -0.1648786\n",
            " -0.18261234 -0.36393716  1.21956617  0.52869823  2.4136912  -0.45797747\n",
            "  0.11586065 -0.55238252  0.47984307  0.65838836 -0.23103201 -1.21848454\n",
            "  1.27952061 -0.39359994]\n",
            "[ 4.18000013e-01  2.49679998e-01 -4.12420005e-01  1.21699996e-01\n",
            "  3.45270008e-01 -4.44569997e-02 -4.96879995e-01 -1.78619996e-01\n",
            " -6.60229998e-04 -6.56599998e-01  2.78430015e-01 -1.47670001e-01\n",
            " -5.56770027e-01  1.46579996e-01 -9.50950012e-03  1.16579998e-02\n",
            "  1.02040000e-01 -1.27920002e-01 -8.44299972e-01 -1.21809997e-01\n",
            " -1.68009996e-02 -3.32789987e-01 -1.55200005e-01 -2.31309995e-01\n",
            " -1.91809997e-01 -1.88230002e+00 -7.67459989e-01  9.90509987e-02\n",
            " -4.21249986e-01 -1.95260003e-01  4.00710011e+00 -1.85939997e-01\n",
            " -5.22870004e-01 -3.16810012e-01  5.92130003e-04  7.44489999e-03\n",
            "  1.77780002e-01 -1.58969998e-01  1.20409997e-02 -5.42230010e-02\n",
            " -2.98709989e-01 -1.57490000e-01 -3.47579986e-01 -4.56370004e-02\n",
            " -4.42510009e-01  1.87849998e-01  2.78489990e-03 -1.84110001e-01\n",
            " -1.15139998e-01 -7.85809994e-01]\n",
            "[ 4.1800e-01  2.4968e-01 -4.1242e-01  1.2170e-01  3.4527e-01 -4.4457e-02\n",
            " -4.9688e-01 -1.7862e-01 -6.6023e-04 -6.5660e-01  2.7843e-01 -1.4767e-01\n",
            " -5.5677e-01  1.4658e-01 -9.5095e-03  1.1658e-02  1.0204e-01 -1.2792e-01\n",
            " -8.4430e-01 -1.2181e-01 -1.6801e-02 -3.3279e-01 -1.5520e-01 -2.3131e-01\n",
            " -1.9181e-01 -1.8823e+00 -7.6746e-01  9.9051e-02 -4.2125e-01 -1.9526e-01\n",
            "  4.0071e+00 -1.8594e-01 -5.2287e-01 -3.1681e-01  5.9213e-04  7.4449e-03\n",
            "  1.7778e-01 -1.5897e-01  1.2041e-02 -5.4223e-02 -2.9871e-01 -1.5749e-01\n",
            " -3.4758e-01 -4.5637e-02 -4.4251e-01  1.8785e-01  2.7849e-03 -1.8411e-01\n",
            " -1.1514e-01 -7.8581e-01]\n"
          ],
          "name": "stdout"
        }
      ]
    },
    {
      "cell_type": "markdown",
      "metadata": {
        "id": "IrlxfNUNP6Po",
        "colab_type": "text"
      },
      "source": [
        "### Freeze all pre-trained embeddings"
      ]
    },
    {
      "cell_type": "code",
      "metadata": {
        "id": "VkJ61xHncmTN",
        "colab_type": "code",
        "outputId": "21e198a5-a9bd-47fb-d987-a1df92932e6a",
        "colab": {
          "base_uri": "https://localhost:8080/",
          "height": 408
        }
      },
      "source": [
        "# model parameters:\n",
        "embedding_dims = 50\n",
        "lstm_units = 128\n",
        "\n",
        "print('Build model...')\n",
        "model = Sequential()\n",
        "\n",
        "model.add(Embedding(words_num,\n",
        "                    embedding_dims,\n",
        "                    input_length=max_len))\n",
        "\n",
        "model.add(Dropout(rate=0.5))\n",
        "\n",
        "# Bidirectional 2 layers LSTM\n",
        "# CPU ver:\n",
        "#model.add(LSTM(lstm_units))\n",
        "# GPU ver:\n",
        "model.add(Bidirectional(CuDNNLSTM(lstm_units, return_sequences=True)))\n",
        "\n",
        "model.add(BatchNormalization())\n",
        "\n",
        "model.add(Dropout(rate=0.5))\n",
        "\n",
        "model.add(Bidirectional(CuDNNLSTM(lstm_units)))\n",
        "\n",
        "model.add(Dense(1, activation='sigmoid'))\n",
        "\n",
        "# Load pretrained word embeddings into the Embedding layer\n",
        "# Freeze the Embedding layer\n",
        "model.layers[0].set_weights([embedding_matrix])\n",
        "model.layers[0].trainable = False\n",
        "\n",
        "# try using different optimizers and different optimizer configs\n",
        "model.compile(loss='binary_crossentropy',\n",
        "              optimizer='adam',\n",
        "              metrics=['accuracy'])\n",
        "print(model.summary())"
      ],
      "execution_count": 38,
      "outputs": [
        {
          "output_type": "stream",
          "text": [
            "Build model...\n",
            "_________________________________________________________________\n",
            "Layer (type)                 Output Shape              Param #   \n",
            "=================================================================\n",
            "embedding_2 (Embedding)      (None, 80, 50)            500000    \n",
            "_________________________________________________________________\n",
            "dropout_3 (Dropout)          (None, 80, 50)            0         \n",
            "_________________________________________________________________\n",
            "bidirectional_3 (Bidirection (None, 80, 256)           184320    \n",
            "_________________________________________________________________\n",
            "batch_normalization_2 (Batch (None, 80, 256)           1024      \n",
            "_________________________________________________________________\n",
            "dropout_4 (Dropout)          (None, 80, 256)           0         \n",
            "_________________________________________________________________\n",
            "bidirectional_4 (Bidirection (None, 256)               395264    \n",
            "_________________________________________________________________\n",
            "dense_2 (Dense)              (None, 1)                 257       \n",
            "=================================================================\n",
            "Total params: 1,080,865\n",
            "Trainable params: 580,353\n",
            "Non-trainable params: 500,512\n",
            "_________________________________________________________________\n",
            "None\n"
          ],
          "name": "stdout"
        }
      ]
    },
    {
      "cell_type": "code",
      "metadata": {
        "id": "LZkd2H2cwXPf",
        "colab_type": "code",
        "outputId": "02829176-8365-49b5-b398-7b735fa6216a",
        "colab": {
          "base_uri": "https://localhost:8080/",
          "height": 856
        }
      },
      "source": [
        "SVG(model_to_dot(model, show_shapes=True).create(prog='dot', format='svg'))"
      ],
      "execution_count": 39,
      "outputs": [
        {
          "output_type": "execute_result",
          "data": {
            "text/plain": [
              "<IPython.core.display.SVG object>"
            ],
            "image/svg+xml": "<svg height=\"626pt\" viewBox=\"0.00 0.00 548.00 626.00\" width=\"548pt\" xmlns=\"http://www.w3.org/2000/svg\" xmlns:xlink=\"http://www.w3.org/1999/xlink\">\n<g class=\"graph\" id=\"graph0\" transform=\"scale(1 1) rotate(0) translate(4 622)\">\n<title>G</title>\n<polygon fill=\"#ffffff\" points=\"-4,4 -4,-622 544,-622 544,4 -4,4\" stroke=\"transparent\"/>\n<!-- 139910324815184 -->\n<g class=\"node\" id=\"node1\">\n<title>139910324815184</title>\n<polygon fill=\"none\" points=\"104.5,-498.5 104.5,-544.5 435.5,-544.5 435.5,-498.5 104.5,-498.5\" stroke=\"#000000\"/>\n<text fill=\"#000000\" font-family=\"Times,serif\" font-size=\"14.00\" text-anchor=\"middle\" x=\"190\" y=\"-517.8\">embedding_2: Embedding</text>\n<polyline fill=\"none\" points=\"275.5,-498.5 275.5,-544.5 \" stroke=\"#000000\"/>\n<text fill=\"#000000\" font-family=\"Times,serif\" font-size=\"14.00\" text-anchor=\"middle\" x=\"304.5\" y=\"-529.3\">input:</text>\n<polyline fill=\"none\" points=\"275.5,-521.5 333.5,-521.5 \" stroke=\"#000000\"/>\n<text fill=\"#000000\" font-family=\"Times,serif\" font-size=\"14.00\" text-anchor=\"middle\" x=\"304.5\" y=\"-506.3\">output:</text>\n<polyline fill=\"none\" points=\"333.5,-498.5 333.5,-544.5 \" stroke=\"#000000\"/>\n<text fill=\"#000000\" font-family=\"Times,serif\" font-size=\"14.00\" text-anchor=\"middle\" x=\"384.5\" y=\"-529.3\">(None, 80)</text>\n<polyline fill=\"none\" points=\"333.5,-521.5 435.5,-521.5 \" stroke=\"#000000\"/>\n<text fill=\"#000000\" font-family=\"Times,serif\" font-size=\"14.00\" text-anchor=\"middle\" x=\"384.5\" y=\"-506.3\">(None, 80, 50)</text>\n</g>\n<!-- 139910329252104 -->\n<g class=\"node\" id=\"node2\">\n<title>139910329252104</title>\n<polygon fill=\"none\" points=\"123,-415.5 123,-461.5 417,-461.5 417,-415.5 123,-415.5\" stroke=\"#000000\"/>\n<text fill=\"#000000\" font-family=\"Times,serif\" font-size=\"14.00\" text-anchor=\"middle\" x=\"190\" y=\"-434.8\">dropout_3: Dropout</text>\n<polyline fill=\"none\" points=\"257,-415.5 257,-461.5 \" stroke=\"#000000\"/>\n<text fill=\"#000000\" font-family=\"Times,serif\" font-size=\"14.00\" text-anchor=\"middle\" x=\"286\" y=\"-446.3\">input:</text>\n<polyline fill=\"none\" points=\"257,-438.5 315,-438.5 \" stroke=\"#000000\"/>\n<text fill=\"#000000\" font-family=\"Times,serif\" font-size=\"14.00\" text-anchor=\"middle\" x=\"286\" y=\"-423.3\">output:</text>\n<polyline fill=\"none\" points=\"315,-415.5 315,-461.5 \" stroke=\"#000000\"/>\n<text fill=\"#000000\" font-family=\"Times,serif\" font-size=\"14.00\" text-anchor=\"middle\" x=\"366\" y=\"-446.3\">(None, 80, 50)</text>\n<polyline fill=\"none\" points=\"315,-438.5 417,-438.5 \" stroke=\"#000000\"/>\n<text fill=\"#000000\" font-family=\"Times,serif\" font-size=\"14.00\" text-anchor=\"middle\" x=\"366\" y=\"-423.3\">(None, 80, 50)</text>\n</g>\n<!-- 139910324815184&#45;&gt;139910329252104 -->\n<g class=\"edge\" id=\"edge2\">\n<title>139910324815184-&gt;139910329252104</title>\n<path d=\"M270,-498.3799C270,-490.1745 270,-480.7679 270,-471.8786\" fill=\"none\" stroke=\"#000000\"/>\n<polygon fill=\"#000000\" points=\"273.5001,-471.784 270,-461.784 266.5001,-471.784 273.5001,-471.784\" stroke=\"#000000\"/>\n</g>\n<!-- 139907375699616 -->\n<g class=\"node\" id=\"node3\">\n<title>139907375699616</title>\n<polygon fill=\"none\" points=\"0,-332.5 0,-378.5 540,-378.5 540,-332.5 0,-332.5\" stroke=\"#000000\"/>\n<text fill=\"#000000\" font-family=\"Times,serif\" font-size=\"14.00\" text-anchor=\"middle\" x=\"186\" y=\"-351.8\">bidirectional_3(cu_dnnlstm_3): Bidirectional(CuDNNLSTM)</text>\n<polyline fill=\"none\" points=\"372,-332.5 372,-378.5 \" stroke=\"#000000\"/>\n<text fill=\"#000000\" font-family=\"Times,serif\" font-size=\"14.00\" text-anchor=\"middle\" x=\"401\" y=\"-363.3\">input:</text>\n<polyline fill=\"none\" points=\"372,-355.5 430,-355.5 \" stroke=\"#000000\"/>\n<text fill=\"#000000\" font-family=\"Times,serif\" font-size=\"14.00\" text-anchor=\"middle\" x=\"401\" y=\"-340.3\">output:</text>\n<polyline fill=\"none\" points=\"430,-332.5 430,-378.5 \" stroke=\"#000000\"/>\n<text fill=\"#000000\" font-family=\"Times,serif\" font-size=\"14.00\" text-anchor=\"middle\" x=\"485\" y=\"-363.3\">(None, 80, 50)</text>\n<polyline fill=\"none\" points=\"430,-355.5 540,-355.5 \" stroke=\"#000000\"/>\n<text fill=\"#000000\" font-family=\"Times,serif\" font-size=\"14.00\" text-anchor=\"middle\" x=\"485\" y=\"-340.3\">(None, 80, 256)</text>\n</g>\n<!-- 139910329252104&#45;&gt;139907375699616 -->\n<g class=\"edge\" id=\"edge3\">\n<title>139910329252104-&gt;139907375699616</title>\n<path d=\"M270,-415.3799C270,-407.1745 270,-397.7679 270,-388.8786\" fill=\"none\" stroke=\"#000000\"/>\n<polygon fill=\"#000000\" points=\"273.5001,-388.784 270,-378.784 266.5001,-388.784 273.5001,-388.784\" stroke=\"#000000\"/>\n</g>\n<!-- 139907385293792 -->\n<g class=\"node\" id=\"node4\">\n<title>139907385293792</title>\n<polygon fill=\"none\" points=\"50.5,-249.5 50.5,-295.5 489.5,-295.5 489.5,-249.5 50.5,-249.5\" stroke=\"#000000\"/>\n<text fill=\"#000000\" font-family=\"Times,serif\" font-size=\"14.00\" text-anchor=\"middle\" x=\"186\" y=\"-268.8\">batch_normalization_2: BatchNormalization</text>\n<polyline fill=\"none\" points=\"321.5,-249.5 321.5,-295.5 \" stroke=\"#000000\"/>\n<text fill=\"#000000\" font-family=\"Times,serif\" font-size=\"14.00\" text-anchor=\"middle\" x=\"350.5\" y=\"-280.3\">input:</text>\n<polyline fill=\"none\" points=\"321.5,-272.5 379.5,-272.5 \" stroke=\"#000000\"/>\n<text fill=\"#000000\" font-family=\"Times,serif\" font-size=\"14.00\" text-anchor=\"middle\" x=\"350.5\" y=\"-257.3\">output:</text>\n<polyline fill=\"none\" points=\"379.5,-249.5 379.5,-295.5 \" stroke=\"#000000\"/>\n<text fill=\"#000000\" font-family=\"Times,serif\" font-size=\"14.00\" text-anchor=\"middle\" x=\"434.5\" y=\"-280.3\">(None, 80, 256)</text>\n<polyline fill=\"none\" points=\"379.5,-272.5 489.5,-272.5 \" stroke=\"#000000\"/>\n<text fill=\"#000000\" font-family=\"Times,serif\" font-size=\"14.00\" text-anchor=\"middle\" x=\"434.5\" y=\"-257.3\">(None, 80, 256)</text>\n</g>\n<!-- 139907375699616&#45;&gt;139907385293792 -->\n<g class=\"edge\" id=\"edge4\">\n<title>139907375699616-&gt;139907385293792</title>\n<path d=\"M270,-332.3799C270,-324.1745 270,-314.7679 270,-305.8786\" fill=\"none\" stroke=\"#000000\"/>\n<polygon fill=\"#000000\" points=\"273.5001,-305.784 270,-295.784 266.5001,-305.784 273.5001,-305.784\" stroke=\"#000000\"/>\n</g>\n<!-- 139907375595304 -->\n<g class=\"node\" id=\"node5\">\n<title>139907375595304</title>\n<polygon fill=\"none\" points=\"119,-166.5 119,-212.5 421,-212.5 421,-166.5 119,-166.5\" stroke=\"#000000\"/>\n<text fill=\"#000000\" font-family=\"Times,serif\" font-size=\"14.00\" text-anchor=\"middle\" x=\"186\" y=\"-185.8\">dropout_4: Dropout</text>\n<polyline fill=\"none\" points=\"253,-166.5 253,-212.5 \" stroke=\"#000000\"/>\n<text fill=\"#000000\" font-family=\"Times,serif\" font-size=\"14.00\" text-anchor=\"middle\" x=\"282\" y=\"-197.3\">input:</text>\n<polyline fill=\"none\" points=\"253,-189.5 311,-189.5 \" stroke=\"#000000\"/>\n<text fill=\"#000000\" font-family=\"Times,serif\" font-size=\"14.00\" text-anchor=\"middle\" x=\"282\" y=\"-174.3\">output:</text>\n<polyline fill=\"none\" points=\"311,-166.5 311,-212.5 \" stroke=\"#000000\"/>\n<text fill=\"#000000\" font-family=\"Times,serif\" font-size=\"14.00\" text-anchor=\"middle\" x=\"366\" y=\"-197.3\">(None, 80, 256)</text>\n<polyline fill=\"none\" points=\"311,-189.5 421,-189.5 \" stroke=\"#000000\"/>\n<text fill=\"#000000\" font-family=\"Times,serif\" font-size=\"14.00\" text-anchor=\"middle\" x=\"366\" y=\"-174.3\">(None, 80, 256)</text>\n</g>\n<!-- 139907385293792&#45;&gt;139907375595304 -->\n<g class=\"edge\" id=\"edge5\">\n<title>139907385293792-&gt;139907375595304</title>\n<path d=\"M270,-249.3799C270,-241.1745 270,-231.7679 270,-222.8786\" fill=\"none\" stroke=\"#000000\"/>\n<polygon fill=\"#000000\" points=\"273.5001,-222.784 270,-212.784 266.5001,-222.784 273.5001,-222.784\" stroke=\"#000000\"/>\n</g>\n<!-- 139907393154968 -->\n<g class=\"node\" id=\"node6\">\n<title>139907393154968</title>\n<polygon fill=\"none\" points=\"0,-83.5 0,-129.5 540,-129.5 540,-83.5 0,-83.5\" stroke=\"#000000\"/>\n<text fill=\"#000000\" font-family=\"Times,serif\" font-size=\"14.00\" text-anchor=\"middle\" x=\"186\" y=\"-102.8\">bidirectional_4(cu_dnnlstm_4): Bidirectional(CuDNNLSTM)</text>\n<polyline fill=\"none\" points=\"372,-83.5 372,-129.5 \" stroke=\"#000000\"/>\n<text fill=\"#000000\" font-family=\"Times,serif\" font-size=\"14.00\" text-anchor=\"middle\" x=\"401\" y=\"-114.3\">input:</text>\n<polyline fill=\"none\" points=\"372,-106.5 430,-106.5 \" stroke=\"#000000\"/>\n<text fill=\"#000000\" font-family=\"Times,serif\" font-size=\"14.00\" text-anchor=\"middle\" x=\"401\" y=\"-91.3\">output:</text>\n<polyline fill=\"none\" points=\"430,-83.5 430,-129.5 \" stroke=\"#000000\"/>\n<text fill=\"#000000\" font-family=\"Times,serif\" font-size=\"14.00\" text-anchor=\"middle\" x=\"485\" y=\"-114.3\">(None, 80, 256)</text>\n<polyline fill=\"none\" points=\"430,-106.5 540,-106.5 \" stroke=\"#000000\"/>\n<text fill=\"#000000\" font-family=\"Times,serif\" font-size=\"14.00\" text-anchor=\"middle\" x=\"485\" y=\"-91.3\">(None, 256)</text>\n</g>\n<!-- 139907375595304&#45;&gt;139907393154968 -->\n<g class=\"edge\" id=\"edge6\">\n<title>139907375595304-&gt;139907393154968</title>\n<path d=\"M270,-166.3799C270,-158.1745 270,-148.7679 270,-139.8786\" fill=\"none\" stroke=\"#000000\"/>\n<polygon fill=\"#000000\" points=\"273.5001,-139.784 270,-129.784 266.5001,-139.784 273.5001,-139.784\" stroke=\"#000000\"/>\n</g>\n<!-- 139907387985992 -->\n<g class=\"node\" id=\"node7\">\n<title>139907387985992</title>\n<polygon fill=\"none\" points=\"144,-.5 144,-46.5 396,-46.5 396,-.5 144,-.5\" stroke=\"#000000\"/>\n<text fill=\"#000000\" font-family=\"Times,serif\" font-size=\"14.00\" text-anchor=\"middle\" x=\"197.5\" y=\"-19.8\">dense_2: Dense</text>\n<polyline fill=\"none\" points=\"251,-.5 251,-46.5 \" stroke=\"#000000\"/>\n<text fill=\"#000000\" font-family=\"Times,serif\" font-size=\"14.00\" text-anchor=\"middle\" x=\"280\" y=\"-31.3\">input:</text>\n<polyline fill=\"none\" points=\"251,-23.5 309,-23.5 \" stroke=\"#000000\"/>\n<text fill=\"#000000\" font-family=\"Times,serif\" font-size=\"14.00\" text-anchor=\"middle\" x=\"280\" y=\"-8.3\">output:</text>\n<polyline fill=\"none\" points=\"309,-.5 309,-46.5 \" stroke=\"#000000\"/>\n<text fill=\"#000000\" font-family=\"Times,serif\" font-size=\"14.00\" text-anchor=\"middle\" x=\"352.5\" y=\"-31.3\">(None, 256)</text>\n<polyline fill=\"none\" points=\"309,-23.5 396,-23.5 \" stroke=\"#000000\"/>\n<text fill=\"#000000\" font-family=\"Times,serif\" font-size=\"14.00\" text-anchor=\"middle\" x=\"352.5\" y=\"-8.3\">(None, 1)</text>\n</g>\n<!-- 139907393154968&#45;&gt;139907387985992 -->\n<g class=\"edge\" id=\"edge7\">\n<title>139907393154968-&gt;139907387985992</title>\n<path d=\"M270,-83.3799C270,-75.1745 270,-65.7679 270,-56.8786\" fill=\"none\" stroke=\"#000000\"/>\n<polygon fill=\"#000000\" points=\"273.5001,-56.784 270,-46.784 266.5001,-56.784 273.5001,-56.784\" stroke=\"#000000\"/>\n</g>\n<!-- 139910253114200 -->\n<g class=\"node\" id=\"node8\">\n<title>139910253114200</title>\n<polygon fill=\"none\" points=\"206,-581.5 206,-617.5 334,-617.5 334,-581.5 206,-581.5\" stroke=\"#000000\"/>\n<text fill=\"#000000\" font-family=\"Times,serif\" font-size=\"14.00\" text-anchor=\"middle\" x=\"270\" y=\"-595.8\">139910253114200</text>\n</g>\n<!-- 139910253114200&#45;&gt;139910324815184 -->\n<g class=\"edge\" id=\"edge1\">\n<title>139910253114200-&gt;139910324815184</title>\n<path d=\"M270,-581.4092C270,-573.4308 270,-563.795 270,-554.606\" fill=\"none\" stroke=\"#000000\"/>\n<polygon fill=\"#000000\" points=\"273.5001,-554.5333 270,-544.5333 266.5001,-554.5334 273.5001,-554.5333\" stroke=\"#000000\"/>\n</g>\n</g>\n</svg>"
          },
          "metadata": {
            "tags": []
          },
          "execution_count": 39
        }
      ]
    },
    {
      "cell_type": "code",
      "metadata": {
        "id": "kdwWLr19wXBd",
        "colab_type": "code",
        "outputId": "94cb166e-4df2-42b8-c380-3e4e460e8004",
        "colab": {
          "base_uri": "https://localhost:8080/",
          "height": 748
        }
      },
      "source": [
        "%%time\n",
        "epochs = 20\n",
        "validation_split = 0.2\n",
        "\n",
        "history = model.fit(x_train, y_train, batch_size=128,\n",
        "          epochs=epochs, \n",
        "          validation_split=validation_split)"
      ],
      "execution_count": 40,
      "outputs": [
        {
          "output_type": "stream",
          "text": [
            "Train on 20000 samples, validate on 5000 samples\n",
            "Epoch 1/20\n",
            "20000/20000 [==============================] - 7s 371us/step - loss: 0.6377 - acc: 0.6333 - val_loss: 0.6199 - val_acc: 0.6810\n",
            "Epoch 2/20\n",
            "20000/20000 [==============================] - 6s 294us/step - loss: 0.5919 - acc: 0.6830 - val_loss: 0.5619 - val_acc: 0.7140\n",
            "Epoch 3/20\n",
            "20000/20000 [==============================] - 6s 302us/step - loss: 0.5690 - acc: 0.7025 - val_loss: 0.5875 - val_acc: 0.7062\n",
            "Epoch 4/20\n",
            "20000/20000 [==============================] - 6s 290us/step - loss: 0.5594 - acc: 0.7102 - val_loss: 0.6039 - val_acc: 0.6962\n",
            "Epoch 5/20\n",
            "20000/20000 [==============================] - 6s 304us/step - loss: 0.5413 - acc: 0.7247 - val_loss: 0.5080 - val_acc: 0.7448\n",
            "Epoch 6/20\n",
            "20000/20000 [==============================] - 6s 297us/step - loss: 0.5264 - acc: 0.7326 - val_loss: 0.5462 - val_acc: 0.7406\n",
            "Epoch 7/20\n",
            "20000/20000 [==============================] - 6s 299us/step - loss: 0.5211 - acc: 0.7373 - val_loss: 0.5482 - val_acc: 0.7450\n",
            "Epoch 8/20\n",
            "20000/20000 [==============================] - 6s 299us/step - loss: 0.5150 - acc: 0.7422 - val_loss: 0.5080 - val_acc: 0.7652\n",
            "Epoch 9/20\n",
            "20000/20000 [==============================] - 6s 297us/step - loss: 0.5111 - acc: 0.7434 - val_loss: 0.7199 - val_acc: 0.6528\n",
            "Epoch 10/20\n",
            "20000/20000 [==============================] - 6s 304us/step - loss: 0.5063 - acc: 0.7484 - val_loss: 0.5770 - val_acc: 0.7418\n",
            "Epoch 11/20\n",
            "20000/20000 [==============================] - 6s 301us/step - loss: 0.5014 - acc: 0.7492 - val_loss: 0.5430 - val_acc: 0.7398\n",
            "Epoch 12/20\n",
            "20000/20000 [==============================] - 6s 297us/step - loss: 0.4933 - acc: 0.7551 - val_loss: 0.5249 - val_acc: 0.7402\n",
            "Epoch 13/20\n",
            "20000/20000 [==============================] - 6s 307us/step - loss: 0.4880 - acc: 0.7594 - val_loss: 0.4653 - val_acc: 0.7842\n",
            "Epoch 14/20\n",
            "20000/20000 [==============================] - 6s 301us/step - loss: 0.4866 - acc: 0.7621 - val_loss: 0.4866 - val_acc: 0.7780\n",
            "Epoch 15/20\n",
            "20000/20000 [==============================] - 6s 299us/step - loss: 0.4812 - acc: 0.7616 - val_loss: 0.4769 - val_acc: 0.7782\n",
            "Epoch 16/20\n",
            "20000/20000 [==============================] - 6s 307us/step - loss: 0.4806 - acc: 0.7631 - val_loss: 0.4737 - val_acc: 0.7824\n",
            "Epoch 17/20\n",
            "20000/20000 [==============================] - 6s 299us/step - loss: 0.4702 - acc: 0.7700 - val_loss: 0.4770 - val_acc: 0.7846\n",
            "Epoch 18/20\n",
            "20000/20000 [==============================] - 6s 303us/step - loss: 0.4656 - acc: 0.7730 - val_loss: 0.4959 - val_acc: 0.7738\n",
            "Epoch 19/20\n",
            "20000/20000 [==============================] - 6s 305us/step - loss: 0.4628 - acc: 0.7734 - val_loss: 0.4837 - val_acc: 0.7808\n",
            "Epoch 20/20\n",
            "20000/20000 [==============================] - 6s 303us/step - loss: 0.4603 - acc: 0.7794 - val_loss: 0.4946 - val_acc: 0.7726\n",
            "CPU times: user 1min 40s, sys: 18.3 s, total: 1min 59s\n",
            "Wall time: 2min 2s\n"
          ],
          "name": "stdout"
        }
      ]
    },
    {
      "cell_type": "code",
      "metadata": {
        "id": "DsHOlhVswWyt",
        "colab_type": "code",
        "outputId": "1f2641ca-d163-471a-d958-fcff9efff52e",
        "colab": {
          "base_uri": "https://localhost:8080/",
          "height": 437
        }
      },
      "source": [
        "plt.figure(figsize=(5,3))\n",
        "plt.plot(history.epoch,history.history['loss'], label='training')\n",
        "plt.plot(history.epoch,history.history['val_loss'], label='validation')\n",
        "plt.title('loss')\n",
        "plt.legend(loc='best')\n",
        "\n",
        "plt.figure(figsize=(5,3))\n",
        "plt.plot(history.epoch,history.history['acc'], label='training')\n",
        "plt.plot(history.epoch,history.history['val_acc'], label='validation')\n",
        "plt.title('accuracy')\n",
        "plt.legend(loc='best');"
      ],
      "execution_count": 41,
      "outputs": [
        {
          "output_type": "display_data",
          "data": {
            "image/png": "[encoded data removed]",
            "text/plain": [
              "<Figure size 360x216 with 1 Axes>"
            ]
          },
          "metadata": {
            "tags": []
          }
        },
        {
          "output_type": "display_data",
          "data": {
            "image/png": "[encoded data removed]",
            "text/plain": [
              "<Figure size 360x216 with 1 Axes>"
            ]
          },
          "metadata": {
            "tags": []
          }
        }
      ]
    },
    {
      "cell_type": "code",
      "metadata": {
        "id": "0GPDhgyvwWld",
        "colab_type": "code",
        "outputId": "4e6330e2-6b37-4c6e-8a5b-7a6e8a77b248",
        "colab": {
          "base_uri": "https://localhost:8080/",
          "height": 34
        }
      },
      "source": [
        "scores = model.evaluate(x_test, y_test, verbose=2)\n",
        "print(\"%s: %.2f%%\" % (model.metrics_names[1], scores[1]*100))"
      ],
      "execution_count": 42,
      "outputs": [
        {
          "output_type": "stream",
          "text": [
            "acc: 75.67%\n"
          ],
          "name": "stdout"
        }
      ]
    },
    {
      "cell_type": "markdown",
      "metadata": {
        "id": "1pmwKZ_JSSX4",
        "colab_type": "text"
      },
      "source": [
        "### Do not freeze pre-trained embeddings"
      ]
    },
    {
      "cell_type": "code",
      "metadata": {
        "id": "GR17a9qcSWqI",
        "colab_type": "code",
        "outputId": "d263e910-bfc4-4c66-8ff9-cb58bbb5918c",
        "colab": {
          "base_uri": "https://localhost:8080/",
          "height": 442
        }
      },
      "source": [
        "# model parameters:\n",
        "embedding_dims = 50\n",
        "lstm_units = 128\n",
        "\n",
        "print('Build model...')\n",
        "model = Sequential()\n",
        "\n",
        "model.add(Embedding(words_num,\n",
        "                      embedding_dims,\n",
        "                      input_length=max_len))\n",
        "\n",
        "model.add(Dropout(rate=0.7))\n",
        "\n",
        "# Bidirectional 2 layers LSTM\n",
        "# CPU ver:\n",
        "#model.add(LSTM(lstm_units))\n",
        "# GPU ver:\n",
        "model.add(Bidirectional(CuDNNLSTM(lstm_units, return_sequences=True)))\n",
        "\n",
        "model.add(BatchNormalization())\n",
        "\n",
        "model.add(Dropout(rate=0.7))\n",
        "\n",
        "model.add(Bidirectional(CuDNNLSTM(lstm_units)))\n",
        "\n",
        "model.add(Dense(1, activation='sigmoid'))\n",
        "\n",
        "# Load pretrained word embeddings into the Embedding layer\n",
        "# Only free the embedding of pad token\n",
        "model.layers[0].set_weights([embedding_matrix])\n",
        "\n",
        "# try using different optimizers and different optimizer configs\n",
        "model.compile(loss='binary_crossentropy',\n",
        "                optimizer='adam',\n",
        "                metrics=['accuracy'])\n",
        "print(model.summary())"
      ],
      "execution_count": 43,
      "outputs": [
        {
          "output_type": "stream",
          "text": [
            "W0629 05:34:00.918904 139911780980608 nn_ops.py:4224] Large dropout rate: 0.7 (>0.5). In TensorFlow 2.x, dropout() uses dropout rate instead of keep_prob. Please ensure that this is intended.\n"
          ],
          "name": "stderr"
        },
        {
          "output_type": "stream",
          "text": [
            "Build model...\n"
          ],
          "name": "stdout"
        },
        {
          "output_type": "stream",
          "text": [
            "W0629 05:34:01.244583 139911780980608 nn_ops.py:4224] Large dropout rate: 0.7 (>0.5). In TensorFlow 2.x, dropout() uses dropout rate instead of keep_prob. Please ensure that this is intended.\n"
          ],
          "name": "stderr"
        },
        {
          "output_type": "stream",
          "text": [
            "_________________________________________________________________\n",
            "Layer (type)                 Output Shape              Param #   \n",
            "=================================================================\n",
            "embedding_3 (Embedding)      (None, 80, 50)            500000    \n",
            "_________________________________________________________________\n",
            "dropout_5 (Dropout)          (None, 80, 50)            0         \n",
            "_________________________________________________________________\n",
            "bidirectional_5 (Bidirection (None, 80, 256)           184320    \n",
            "_________________________________________________________________\n",
            "batch_normalization_3 (Batch (None, 80, 256)           1024      \n",
            "_________________________________________________________________\n",
            "dropout_6 (Dropout)          (None, 80, 256)           0         \n",
            "_________________________________________________________________\n",
            "bidirectional_6 (Bidirection (None, 256)               395264    \n",
            "_________________________________________________________________\n",
            "dense_3 (Dense)              (None, 1)                 257       \n",
            "=================================================================\n",
            "Total params: 1,080,865\n",
            "Trainable params: 1,080,353\n",
            "Non-trainable params: 512\n",
            "_________________________________________________________________\n",
            "None\n"
          ],
          "name": "stdout"
        }
      ]
    },
    {
      "cell_type": "code",
      "metadata": {
        "id": "1CY8pJYmSrsx",
        "colab_type": "code",
        "outputId": "522dfc76-2f82-4acf-f39a-f146c61f332d",
        "colab": {
          "base_uri": "https://localhost:8080/",
          "height": 748
        }
      },
      "source": [
        "%%time\n",
        "epochs = 20\n",
        "validation_split = 0.2\n",
        "\n",
        "history = model.fit(x_train, y_train, batch_size=128,\n",
        "          epochs=epochs, \n",
        "          validation_split=validation_split)"
      ],
      "execution_count": 44,
      "outputs": [
        {
          "output_type": "stream",
          "text": [
            "Train on 20000 samples, validate on 5000 samples\n",
            "Epoch 1/20\n",
            "20000/20000 [==============================] - 8s 393us/step - loss: 0.6555 - acc: 0.6139 - val_loss: 0.6938 - val_acc: 0.6540\n",
            "Epoch 2/20\n",
            "20000/20000 [==============================] - 6s 308us/step - loss: 0.5957 - acc: 0.6830 - val_loss: 0.6200 - val_acc: 0.7260\n",
            "Epoch 3/20\n",
            "20000/20000 [==============================] - 6s 302us/step - loss: 0.5495 - acc: 0.7205 - val_loss: 0.5622 - val_acc: 0.7670\n",
            "Epoch 4/20\n",
            "20000/20000 [==============================] - 6s 308us/step - loss: 0.5196 - acc: 0.7388 - val_loss: 0.7244 - val_acc: 0.7052\n",
            "Epoch 5/20\n",
            "20000/20000 [==============================] - 6s 308us/step - loss: 0.4933 - acc: 0.7573 - val_loss: 0.5797 - val_acc: 0.7350\n",
            "Epoch 6/20\n",
            "20000/20000 [==============================] - 6s 305us/step - loss: 0.4712 - acc: 0.7736 - val_loss: 0.4295 - val_acc: 0.8076\n",
            "Epoch 7/20\n",
            "20000/20000 [==============================] - 6s 308us/step - loss: 0.4584 - acc: 0.7782 - val_loss: 0.4801 - val_acc: 0.8072\n",
            "Epoch 8/20\n",
            "20000/20000 [==============================] - 6s 304us/step - loss: 0.4381 - acc: 0.7944 - val_loss: 0.5619 - val_acc: 0.7746\n",
            "Epoch 9/20\n",
            "20000/20000 [==============================] - 6s 305us/step - loss: 0.4238 - acc: 0.8021 - val_loss: 0.4304 - val_acc: 0.8144\n",
            "Epoch 10/20\n",
            "20000/20000 [==============================] - 6s 312us/step - loss: 0.4191 - acc: 0.8064 - val_loss: 0.4220 - val_acc: 0.8140\n",
            "Epoch 11/20\n",
            "20000/20000 [==============================] - 6s 307us/step - loss: 0.4025 - acc: 0.8148 - val_loss: 0.4789 - val_acc: 0.8074\n",
            "Epoch 12/20\n",
            "20000/20000 [==============================] - 6s 307us/step - loss: 0.3981 - acc: 0.8162 - val_loss: 0.4240 - val_acc: 0.8142\n",
            "Epoch 13/20\n",
            "20000/20000 [==============================] - 6s 314us/step - loss: 0.3863 - acc: 0.8248 - val_loss: 0.4343 - val_acc: 0.8254\n",
            "Epoch 14/20\n",
            "20000/20000 [==============================] - 6s 304us/step - loss: 0.3780 - acc: 0.8287 - val_loss: 0.4238 - val_acc: 0.8212\n",
            "Epoch 15/20\n",
            "20000/20000 [==============================] - 6s 312us/step - loss: 0.3718 - acc: 0.8312 - val_loss: 0.4428 - val_acc: 0.8250\n",
            "Epoch 16/20\n",
            "20000/20000 [==============================] - 6s 310us/step - loss: 0.3628 - acc: 0.8395 - val_loss: 0.4168 - val_acc: 0.8234\n",
            "Epoch 17/20\n",
            "20000/20000 [==============================] - 6s 312us/step - loss: 0.3586 - acc: 0.8396 - val_loss: 0.5032 - val_acc: 0.8194\n",
            "Epoch 18/20\n",
            "20000/20000 [==============================] - 6s 316us/step - loss: 0.3489 - acc: 0.8457 - val_loss: 0.4045 - val_acc: 0.8272\n",
            "Epoch 19/20\n",
            "20000/20000 [==============================] - 6s 314us/step - loss: 0.3468 - acc: 0.8466 - val_loss: 0.4197 - val_acc: 0.8286\n",
            "Epoch 20/20\n",
            "20000/20000 [==============================] - 6s 311us/step - loss: 0.3328 - acc: 0.8538 - val_loss: 0.4315 - val_acc: 0.8298\n",
            "CPU times: user 1min 43s, sys: 19.2 s, total: 2min 3s\n",
            "Wall time: 2min 6s\n"
          ],
          "name": "stdout"
        }
      ]
    },
    {
      "cell_type": "code",
      "metadata": {
        "id": "GjFv6PW0UJT2",
        "colab_type": "code",
        "outputId": "cc8593fc-aed1-46ee-a2ef-07a465aafcb5",
        "colab": {
          "base_uri": "https://localhost:8080/",
          "height": 34
        }
      },
      "source": [
        "scores = model.evaluate(x_test, y_test, verbose=2)\n",
        "print(\"%s: %.2f%%\" % (model.metrics_names[1], scores[1]*100))"
      ],
      "execution_count": 45,
      "outputs": [
        {
          "output_type": "stream",
          "text": [
            "acc: 81.62%\n"
          ],
          "name": "stdout"
        }
      ]
    },
    {
      "cell_type": "code",
      "metadata": {
        "id": "7jJ_T6j-vGNM",
        "colab_type": "code",
        "colab": {}
      },
      "source": [
        ""
      ],
      "execution_count": 0,
      "outputs": []
    }
  ]
}