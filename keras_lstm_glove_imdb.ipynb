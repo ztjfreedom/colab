{
  "nbformat": 4,
  "nbformat_minor": 0,
  "metadata": {
    "colab": {
      "name": "keras_lstm_glove_imdb.ipynb",
      "version": "0.3.2",
      "provenance": [],
      "collapsed_sections": [],
      "include_colab_link": true
    },
    "kernelspec": {
      "name": "python3",
      "display_name": "Python 3"
    },
    "accelerator": "GPU"
  },
  "cells": [
    {
      "cell_type": "markdown",
      "metadata": {
        "id": "view-in-github",
        "colab_type": "text"
      },
      "source": [
        "<a href=\"https://colab.research.google.com/github/ztjfreedom/colab/blob/master/keras_lstm_glove_imdb.ipynb\" target=\"_parent\"><img src=\"https://colab.research.google.com/assets/colab-badge.svg\" alt=\"Open In Colab\"/></a>"
      ]
    },
    {
      "cell_type": "code",
      "metadata": {
        "id": "Vdl-GxpebUhI",
        "colab_type": "code",
        "outputId": "16b250d9-5f59-4020-8976-505732ad4457",
        "colab": {
          "base_uri": "https://localhost:8080/",
          "height": 34
        }
      },
      "source": [
        "!pip install numpy==1.16.2"
      ],
      "execution_count": 93,
      "outputs": [
        {
          "output_type": "stream",
          "text": [
            "Requirement already satisfied: numpy==1.16.2 in /usr/local/lib/python3.6/dist-packages (1.16.2)\n"
          ],
          "name": "stdout"
        }
      ]
    },
    {
      "cell_type": "code",
      "metadata": {
        "id": "BnjLJI_5iAFx",
        "colab_type": "code",
        "outputId": "688ec9e4-1d32-489f-b950-61316df7a5d7",
        "colab": {
          "base_uri": "https://localhost:8080/",
          "height": 34
        }
      },
      "source": [
        "import os\n",
        "from keras.datasets import imdb\n",
        "from keras.preprocessing.text import Tokenizer\n",
        "from keras.preprocessing.sequence import pad_sequences\n",
        "import numpy as np\n",
        "from keras.models import Sequential\n",
        "from keras.layers import Dense, Embedding, Dropout, Flatten, Bidirectional, BatchNormalization\n",
        "from keras.layers import LSTM, CuDNNLSTM\n",
        "\n",
        "from IPython.display import SVG\n",
        "from keras.utils.vis_utils import model_to_dot\n",
        "\n",
        "import matplotlib.pyplot as plt\n",
        "import h5py\n",
        "\n",
        "print(np.__version__)"
      ],
      "execution_count": 94,
      "outputs": [
        {
          "output_type": "stream",
          "text": [
            "1.16.2\n"
          ],
          "name": "stdout"
        }
      ]
    },
    {
      "cell_type": "code",
      "metadata": {
        "id": "dLf-T48FuUcb",
        "colab_type": "code",
        "colab": {}
      },
      "source": [
        "# number of most-frequent words to use\n",
        "words_num = 10000\n",
        "# cut texts after this number of words\n",
        "max_len = 80"
      ],
      "execution_count": 0,
      "outputs": []
    },
    {
      "cell_type": "code",
      "metadata": {
        "id": "pc3Gs1X-YrbB",
        "colab_type": "code",
        "outputId": "219ad456-a635-4e18-fa14-919a392fc0cc",
        "colab": {
          "base_uri": "https://localhost:8080/",
          "height": 34
        }
      },
      "source": [
        "print('Loading data...')\n",
        "(x_train, y_train), (x_test, y_test) = imdb.load_data(num_words=words_num)\n",
        "word_index_dict = imdb.get_word_index()"
      ],
      "execution_count": 96,
      "outputs": [
        {
          "output_type": "stream",
          "text": [
            "Loading data...\n"
          ],
          "name": "stdout"
        }
      ]
    },
    {
      "cell_type": "code",
      "metadata": {
        "id": "71h1yCFNPpuy",
        "colab_type": "code",
        "outputId": "a11b3af5-98de-4136-ccb8-0c8193a2b646",
        "colab": {
          "base_uri": "https://localhost:8080/",
          "height": 54
        }
      },
      "source": [
        "index_word_dict = dict([(value, key) for (key, value) in word_index_dict.items()])\n",
        "decoded_review = ' '.join([index_word_dict.get(i - 3, '?') for i in x_train[0]])\n",
        "print(decoded_review)"
      ],
      "execution_count": 97,
      "outputs": [
        {
          "output_type": "stream",
          "text": [
            "? this film was just brilliant casting location scenery story direction everyone's really suited the part they played and you could just imagine being there robert ? is an amazing actor and now the same being director ? father came from the same scottish island as myself so i loved the fact there was a real connection with this film the witty remarks throughout the film were great it was just brilliant so much that i bought the film as soon as it was released for ? and would recommend it to everyone to watch and the fly fishing was amazing really cried at the end it was so sad and you know what they say if you cry at a film it must have been good and this definitely was also ? to the two little boy's that played the ? of norman and paul they were just brilliant children are often left out of the ? list i think because the stars that play them all grown up are such a big profile for the whole film but these children are amazing and should be praised for what they have done don't you think the whole story was so lovely because it was true and was someone's life after all that was shared with us all\n"
          ],
          "name": "stdout"
        }
      ]
    },
    {
      "cell_type": "code",
      "metadata": {
        "id": "CNEqw2Djr5pR",
        "colab_type": "code",
        "outputId": "486aedff-da28-4f7d-c8be-62493e225e66",
        "colab": {
          "base_uri": "https://localhost:8080/",
          "height": 68
        }
      },
      "source": [
        "print('Pad sequences')\n",
        "x_train = pad_sequences(x_train, maxlen=max_len)  # \"0\" is used for padding by default\n",
        "x_test = pad_sequences(x_test, maxlen=max_len)\n",
        "print('x_train shape:', x_train.shape)\n",
        "print('x_test shape:', x_test.shape)"
      ],
      "execution_count": 98,
      "outputs": [
        {
          "output_type": "stream",
          "text": [
            "Pad sequences\n",
            "x_train shape: (25000, 80)\n",
            "x_test shape: (25000, 80)\n"
          ],
          "name": "stdout"
        }
      ]
    },
    {
      "cell_type": "code",
      "metadata": {
        "id": "SMQ1RCJHaYev",
        "colab_type": "code",
        "outputId": "c83a3196-062e-4635-fec8-8ce8945c4d07",
        "colab": {
          "base_uri": "https://localhost:8080/",
          "height": 187
        }
      },
      "source": [
        "# Word indices begin at \"3\", as \"1\" is used to mark the start of a review and \"2\" represents all out-of-vocabulary words. \"0\" will be used later to pad shorter reviews to a fixed size.\n",
        "print('Data review')\n",
        "print('x_train[0]:', x_train[0])\n",
        "print('y_train[0]:', y_train[0])\n",
        "print('dict:', len(word_index_dict))\n",
        "print('dict[the]:', word_index_dict['the'])"
      ],
      "execution_count": 99,
      "outputs": [
        {
          "output_type": "stream",
          "text": [
            "Data review\n",
            "x_train[0]: [  15  256    4    2    7 3766    5  723   36   71   43  530  476   26\n",
            "  400  317   46    7    4    2 1029   13  104   88    4  381   15  297\n",
            "   98   32 2071   56   26  141    6  194 7486   18    4  226   22   21\n",
            "  134  476   26  480    5  144   30 5535   18   51   36   28  224   92\n",
            "   25  104    4  226   65   16   38 1334   88   12   16  283    5   16\n",
            " 4472  113  103   32   15   16 5345   19  178   32]\n",
            "y_train[0]: 1\n",
            "dict: 88584\n",
            "dict[the]: 1\n"
          ],
          "name": "stdout"
        }
      ]
    },
    {
      "cell_type": "code",
      "metadata": {
        "id": "b2pVhhugaYbE",
        "colab_type": "code",
        "outputId": "3bbc57b9-4f42-4207-9548-8f50ddcc766f",
        "colab": {
          "base_uri": "https://localhost:8080/",
          "height": 34
        }
      },
      "source": [
        "word_index_dict_modified = {k: v + 3 for k, v in word_index_dict.items()}\n",
        "print('dict[the]:', word_index_dict_modified['the'])"
      ],
      "execution_count": 100,
      "outputs": [
        {
          "output_type": "stream",
          "text": [
            "dict[the]: 4\n"
          ],
          "name": "stdout"
        }
      ]
    },
    {
      "cell_type": "code",
      "metadata": {
        "id": "0_iI8eNiiSqH",
        "colab_type": "code",
        "outputId": "de3895b7-854c-4be4-8ef3-50f023203827",
        "colab": {
          "base_uri": "https://localhost:8080/",
          "height": 68
        }
      },
      "source": [
        "# mount google drive\n",
        "from google.colab import drive\n",
        "drive.mount('/content/gdrive')\n",
        "%cd gdrive/My Drive/Colab Notebooks/dataset/"
      ],
      "execution_count": 101,
      "outputs": [
        {
          "output_type": "stream",
          "text": [
            "Drive already mounted at /content/gdrive; to attempt to forcibly remount, call drive.mount(\"/content/gdrive\", force_remount=True).\n",
            "[Errno 2] No such file or directory: 'gdrive/My Drive/Colab Notebooks/dataset/'\n",
            "/content/gdrive/My Drive/Colab Notebooks/dataset\n"
          ],
          "name": "stdout"
        }
      ]
    },
    {
      "cell_type": "code",
      "metadata": {
        "id": "DS9X_iZfcl_Q",
        "colab_type": "code",
        "outputId": "47d94bc8-460f-49f3-c2b8-456d0bb6dee1",
        "colab": {
          "base_uri": "https://localhost:8080/",
          "height": 51
        }
      },
      "source": [
        "# Parsing GLoVE word embedding files\n",
        "glove_dict = {}\n",
        "with open(os.path.join('glove', 'glove.6B.50d.txt')) as f:\n",
        "    for line in f:\n",
        "        values = line.split()\n",
        "        word = values[0]\n",
        "        coefs = np.asarray(values[1:], dtype='float32')\n",
        "        glove_dict[word] = coefs\n",
        "\n",
        "\n",
        "print('Found %s word vectors.' % len(glove_dict))\n",
        "\n",
        "for key in glove_dict.keys():\n",
        "    print('Frist key:', key)\n",
        "    break"
      ],
      "execution_count": 102,
      "outputs": [
        {
          "output_type": "stream",
          "text": [
            "Found 400000 word vectors.\n",
            "Frist key: the\n"
          ],
          "name": "stdout"
        }
      ]
    },
    {
      "cell_type": "code",
      "metadata": {
        "id": "KrjPVqmzcmJa",
        "colab_type": "code",
        "colab": {
          "base_uri": "https://localhost:8080/",
          "height": 255
        },
        "outputId": "e8a150d3-fb4e-4b87-e4cd-e52782ddd0ce"
      },
      "source": [
        "# 0 is used for padding, so we set it to all zeros\n",
        "embedding_matrix = np.random.normal(loc=0.0, scale=1.0, size=(10000, 50))\n",
        "embedding_matrix[0] = np.zeros(50)\n",
        "for word, i in word_index_dict_modified.items():\n",
        "    if i < 10000:\n",
        "        embedding_vector = glove_dict.get(word)\n",
        "        if embedding_vector is not None:\n",
        "            embedding_matrix[i] = embedding_vector\n",
        "\n",
        "print('Embedding review:')\n",
        "print(embedding_matrix.shape)\n",
        "print(embedding_matrix[0])\n",
        "print(embedding_matrix[1])"
      ],
      "execution_count": 106,
      "outputs": [
        {
          "output_type": "stream",
          "text": [
            "Embedding review:\n",
            "(10000, 50)\n",
            "[0. 0. 0. 0. 0. 0. 0. 0. 0. 0. 0. 0. 0. 0. 0. 0. 0. 0. 0. 0. 0. 0. 0. 0.\n",
            " 0. 0. 0. 0. 0. 0. 0. 0. 0. 0. 0. 0. 0. 0. 0. 0. 0. 0. 0. 0. 0. 0. 0. 0.\n",
            " 0. 0.]\n",
            "[ 0.73669772  1.0378199  -1.42765816  0.42543747  0.55742975  0.43900987\n",
            " -0.29893897 -0.78122825  1.40404978 -0.81644901  0.04753454  0.4922231\n",
            "  0.47557672 -0.14526069 -0.92667911  0.46557787 -0.29404902 -0.98781334\n",
            "  2.38646887  0.29194724 -2.52157981 -1.76983053 -0.15712964  1.18214184\n",
            " -0.92001793 -0.39310186  1.47236765  1.14080499 -0.53566164  0.16519076\n",
            " -1.42412609  0.35444724  0.59798781 -0.85897838 -0.1504678   0.31609626\n",
            "  0.4571616  -0.16716747  0.93609336 -0.21170981  1.15178295  2.14846212\n",
            "  0.87572864  1.13241418 -1.8953211  -0.31710374 -0.29036813  0.40216266\n",
            "  2.12397337 -0.10892051]\n"
          ],
          "name": "stdout"
        }
      ]
    },
    {
      "cell_type": "markdown",
      "metadata": {
        "id": "IrlxfNUNP6Po",
        "colab_type": "text"
      },
      "source": [
        "### Freeze all pre-trained embeddings"
      ]
    },
    {
      "cell_type": "code",
      "metadata": {
        "id": "VkJ61xHncmTN",
        "colab_type": "code",
        "outputId": "92cfc30e-948f-45da-afc8-ef0e20448fdf",
        "colab": {
          "base_uri": "https://localhost:8080/",
          "height": 408
        }
      },
      "source": [
        "# model parameters:\n",
        "embedding_dims = 50\n",
        "lstm_units = 128\n",
        "\n",
        "print('Build model...')\n",
        "model = Sequential()\n",
        "\n",
        "model.add(Embedding(words_num,\n",
        "                    embedding_dims,\n",
        "                    input_length=max_len))\n",
        "\n",
        "model.add(Dropout(rate=0.5))\n",
        "\n",
        "# Bidirectional 2 layers LSTM\n",
        "# CPU ver:\n",
        "#model.add(LSTM(lstm_units))\n",
        "# GPU ver:\n",
        "model.add(Bidirectional(CuDNNLSTM(lstm_units, return_sequences=True)))\n",
        "\n",
        "model.add(BatchNormalization())\n",
        "\n",
        "model.add(Dropout(rate=0.5))\n",
        "\n",
        "model.add(Bidirectional(CuDNNLSTM(lstm_units)))\n",
        "\n",
        "model.add(Dense(1, activation='sigmoid'))\n",
        "\n",
        "# Load pretrained word embeddings into the Embedding layer\n",
        "# Freeze the Embedding layer\n",
        "model.layers[0].set_weights([embedding_matrix])\n",
        "model.layers[0].trainable = False\n",
        "\n",
        "# try using different optimizers and different optimizer configs\n",
        "model.compile(loss='binary_crossentropy',\n",
        "              optimizer='adam',\n",
        "              metrics=['accuracy'])\n",
        "print(model.summary())"
      ],
      "execution_count": 107,
      "outputs": [
        {
          "output_type": "stream",
          "text": [
            "Build model...\n",
            "_________________________________________________________________\n",
            "Layer (type)                 Output Shape              Param #   \n",
            "=================================================================\n",
            "embedding_24 (Embedding)     (None, 80, 50)            500000    \n",
            "_________________________________________________________________\n",
            "dropout_23 (Dropout)         (None, 80, 50)            0         \n",
            "_________________________________________________________________\n",
            "bidirectional_12 (Bidirectio (None, 80, 256)           184320    \n",
            "_________________________________________________________________\n",
            "batch_normalization_5 (Batch (None, 80, 256)           1024      \n",
            "_________________________________________________________________\n",
            "dropout_24 (Dropout)         (None, 80, 256)           0         \n",
            "_________________________________________________________________\n",
            "bidirectional_13 (Bidirectio (None, 256)               395264    \n",
            "_________________________________________________________________\n",
            "dense_25 (Dense)             (None, 1)                 257       \n",
            "=================================================================\n",
            "Total params: 1,080,865\n",
            "Trainable params: 580,353\n",
            "Non-trainable params: 500,512\n",
            "_________________________________________________________________\n",
            "None\n"
          ],
          "name": "stdout"
        }
      ]
    },
    {
      "cell_type": "code",
      "metadata": {
        "id": "LZkd2H2cwXPf",
        "colab_type": "code",
        "outputId": "f8039f2a-0d05-4fbf-e8cb-858e8127b18e",
        "colab": {
          "base_uri": "https://localhost:8080/",
          "height": 856
        }
      },
      "source": [
        "SVG(model_to_dot(model, show_shapes=True).create(prog='dot', format='svg'))"
      ],
      "execution_count": 108,
      "outputs": [
        {
          "output_type": "execute_result",
          "data": {
            "text/plain": [
              "<IPython.core.display.SVG object>"
            ],
            "image/svg+xml": "<svg height=\"626pt\" viewBox=\"0.00 0.00 563.00 626.00\" width=\"563pt\" xmlns=\"http://www.w3.org/2000/svg\" xmlns:xlink=\"http://www.w3.org/1999/xlink\">\n<g class=\"graph\" id=\"graph0\" transform=\"scale(1 1) rotate(0) translate(4 622)\">\n<title>G</title>\n<polygon fill=\"#ffffff\" points=\"-4,4 -4,-622 559,-622 559,4 -4,4\" stroke=\"transparent\"/>\n<!-- 140111960527312 -->\n<g class=\"node\" id=\"node1\">\n<title>140111960527312</title>\n<polygon fill=\"none\" points=\"108,-498.5 108,-544.5 447,-544.5 447,-498.5 108,-498.5\" stroke=\"#000000\"/>\n<text fill=\"#000000\" font-family=\"Times,serif\" font-size=\"14.00\" text-anchor=\"middle\" x=\"197.5\" y=\"-517.8\">embedding_24: Embedding</text>\n<polyline fill=\"none\" points=\"287,-498.5 287,-544.5 \" stroke=\"#000000\"/>\n<text fill=\"#000000\" font-family=\"Times,serif\" font-size=\"14.00\" text-anchor=\"middle\" x=\"316\" y=\"-529.3\">input:</text>\n<polyline fill=\"none\" points=\"287,-521.5 345,-521.5 \" stroke=\"#000000\"/>\n<text fill=\"#000000\" font-family=\"Times,serif\" font-size=\"14.00\" text-anchor=\"middle\" x=\"316\" y=\"-506.3\">output:</text>\n<polyline fill=\"none\" points=\"345,-498.5 345,-544.5 \" stroke=\"#000000\"/>\n<text fill=\"#000000\" font-family=\"Times,serif\" font-size=\"14.00\" text-anchor=\"middle\" x=\"396\" y=\"-529.3\">(None, 80)</text>\n<polyline fill=\"none\" points=\"345,-521.5 447,-521.5 \" stroke=\"#000000\"/>\n<text fill=\"#000000\" font-family=\"Times,serif\" font-size=\"14.00\" text-anchor=\"middle\" x=\"396\" y=\"-506.3\">(None, 80, 50)</text>\n</g>\n<!-- 140111961169648 -->\n<g class=\"node\" id=\"node2\">\n<title>140111961169648</title>\n<polygon fill=\"none\" points=\"127,-415.5 127,-461.5 428,-461.5 428,-415.5 127,-415.5\" stroke=\"#000000\"/>\n<text fill=\"#000000\" font-family=\"Times,serif\" font-size=\"14.00\" text-anchor=\"middle\" x=\"197.5\" y=\"-434.8\">dropout_23: Dropout</text>\n<polyline fill=\"none\" points=\"268,-415.5 268,-461.5 \" stroke=\"#000000\"/>\n<text fill=\"#000000\" font-family=\"Times,serif\" font-size=\"14.00\" text-anchor=\"middle\" x=\"297\" y=\"-446.3\">input:</text>\n<polyline fill=\"none\" points=\"268,-438.5 326,-438.5 \" stroke=\"#000000\"/>\n<text fill=\"#000000\" font-family=\"Times,serif\" font-size=\"14.00\" text-anchor=\"middle\" x=\"297\" y=\"-423.3\">output:</text>\n<polyline fill=\"none\" points=\"326,-415.5 326,-461.5 \" stroke=\"#000000\"/>\n<text fill=\"#000000\" font-family=\"Times,serif\" font-size=\"14.00\" text-anchor=\"middle\" x=\"377\" y=\"-446.3\">(None, 80, 50)</text>\n<polyline fill=\"none\" points=\"326,-438.5 428,-438.5 \" stroke=\"#000000\"/>\n<text fill=\"#000000\" font-family=\"Times,serif\" font-size=\"14.00\" text-anchor=\"middle\" x=\"377\" y=\"-423.3\">(None, 80, 50)</text>\n</g>\n<!-- 140111960527312&#45;&gt;140111961169648 -->\n<g class=\"edge\" id=\"edge2\">\n<title>140111960527312-&gt;140111961169648</title>\n<path d=\"M277.5,-498.3799C277.5,-490.1745 277.5,-480.7679 277.5,-471.8786\" fill=\"none\" stroke=\"#000000\"/>\n<polygon fill=\"#000000\" points=\"281.0001,-471.784 277.5,-461.784 274.0001,-471.784 281.0001,-471.784\" stroke=\"#000000\"/>\n</g>\n<!-- 140113594167984 -->\n<g class=\"node\" id=\"node3\">\n<title>140113594167984</title>\n<polygon fill=\"none\" points=\"0,-332.5 0,-378.5 555,-378.5 555,-332.5 0,-332.5\" stroke=\"#000000\"/>\n<text fill=\"#000000\" font-family=\"Times,serif\" font-size=\"14.00\" text-anchor=\"middle\" x=\"193.5\" y=\"-351.8\">bidirectional_12(cu_dnnlstm_26): Bidirectional(CuDNNLSTM)</text>\n<polyline fill=\"none\" points=\"387,-332.5 387,-378.5 \" stroke=\"#000000\"/>\n<text fill=\"#000000\" font-family=\"Times,serif\" font-size=\"14.00\" text-anchor=\"middle\" x=\"416\" y=\"-363.3\">input:</text>\n<polyline fill=\"none\" points=\"387,-355.5 445,-355.5 \" stroke=\"#000000\"/>\n<text fill=\"#000000\" font-family=\"Times,serif\" font-size=\"14.00\" text-anchor=\"middle\" x=\"416\" y=\"-340.3\">output:</text>\n<polyline fill=\"none\" points=\"445,-332.5 445,-378.5 \" stroke=\"#000000\"/>\n<text fill=\"#000000\" font-family=\"Times,serif\" font-size=\"14.00\" text-anchor=\"middle\" x=\"500\" y=\"-363.3\">(None, 80, 50)</text>\n<polyline fill=\"none\" points=\"445,-355.5 555,-355.5 \" stroke=\"#000000\"/>\n<text fill=\"#000000\" font-family=\"Times,serif\" font-size=\"14.00\" text-anchor=\"middle\" x=\"500\" y=\"-340.3\">(None, 80, 256)</text>\n</g>\n<!-- 140111961169648&#45;&gt;140113594167984 -->\n<g class=\"edge\" id=\"edge3\">\n<title>140111961169648-&gt;140113594167984</title>\n<path d=\"M277.5,-415.3799C277.5,-407.1745 277.5,-397.7679 277.5,-388.8786\" fill=\"none\" stroke=\"#000000\"/>\n<polygon fill=\"#000000\" points=\"281.0001,-388.784 277.5,-378.784 274.0001,-388.784 281.0001,-388.784\" stroke=\"#000000\"/>\n</g>\n<!-- 140113479324616 -->\n<g class=\"node\" id=\"node4\">\n<title>140113479324616</title>\n<polygon fill=\"none\" points=\"58,-249.5 58,-295.5 497,-295.5 497,-249.5 58,-249.5\" stroke=\"#000000\"/>\n<text fill=\"#000000\" font-family=\"Times,serif\" font-size=\"14.00\" text-anchor=\"middle\" x=\"193.5\" y=\"-268.8\">batch_normalization_5: BatchNormalization</text>\n<polyline fill=\"none\" points=\"329,-249.5 329,-295.5 \" stroke=\"#000000\"/>\n<text fill=\"#000000\" font-family=\"Times,serif\" font-size=\"14.00\" text-anchor=\"middle\" x=\"358\" y=\"-280.3\">input:</text>\n<polyline fill=\"none\" points=\"329,-272.5 387,-272.5 \" stroke=\"#000000\"/>\n<text fill=\"#000000\" font-family=\"Times,serif\" font-size=\"14.00\" text-anchor=\"middle\" x=\"358\" y=\"-257.3\">output:</text>\n<polyline fill=\"none\" points=\"387,-249.5 387,-295.5 \" stroke=\"#000000\"/>\n<text fill=\"#000000\" font-family=\"Times,serif\" font-size=\"14.00\" text-anchor=\"middle\" x=\"442\" y=\"-280.3\">(None, 80, 256)</text>\n<polyline fill=\"none\" points=\"387,-272.5 497,-272.5 \" stroke=\"#000000\"/>\n<text fill=\"#000000\" font-family=\"Times,serif\" font-size=\"14.00\" text-anchor=\"middle\" x=\"442\" y=\"-257.3\">(None, 80, 256)</text>\n</g>\n<!-- 140113594167984&#45;&gt;140113479324616 -->\n<g class=\"edge\" id=\"edge4\">\n<title>140113594167984-&gt;140113479324616</title>\n<path d=\"M277.5,-332.3799C277.5,-324.1745 277.5,-314.7679 277.5,-305.8786\" fill=\"none\" stroke=\"#000000\"/>\n<polygon fill=\"#000000\" points=\"281.0001,-305.784 277.5,-295.784 274.0001,-305.784 281.0001,-305.784\" stroke=\"#000000\"/>\n</g>\n<!-- 140111726034112 -->\n<g class=\"node\" id=\"node5\">\n<title>140111726034112</title>\n<polygon fill=\"none\" points=\"123,-166.5 123,-212.5 432,-212.5 432,-166.5 123,-166.5\" stroke=\"#000000\"/>\n<text fill=\"#000000\" font-family=\"Times,serif\" font-size=\"14.00\" text-anchor=\"middle\" x=\"193.5\" y=\"-185.8\">dropout_24: Dropout</text>\n<polyline fill=\"none\" points=\"264,-166.5 264,-212.5 \" stroke=\"#000000\"/>\n<text fill=\"#000000\" font-family=\"Times,serif\" font-size=\"14.00\" text-anchor=\"middle\" x=\"293\" y=\"-197.3\">input:</text>\n<polyline fill=\"none\" points=\"264,-189.5 322,-189.5 \" stroke=\"#000000\"/>\n<text fill=\"#000000\" font-family=\"Times,serif\" font-size=\"14.00\" text-anchor=\"middle\" x=\"293\" y=\"-174.3\">output:</text>\n<polyline fill=\"none\" points=\"322,-166.5 322,-212.5 \" stroke=\"#000000\"/>\n<text fill=\"#000000\" font-family=\"Times,serif\" font-size=\"14.00\" text-anchor=\"middle\" x=\"377\" y=\"-197.3\">(None, 80, 256)</text>\n<polyline fill=\"none\" points=\"322,-189.5 432,-189.5 \" stroke=\"#000000\"/>\n<text fill=\"#000000\" font-family=\"Times,serif\" font-size=\"14.00\" text-anchor=\"middle\" x=\"377\" y=\"-174.3\">(None, 80, 256)</text>\n</g>\n<!-- 140113479324616&#45;&gt;140111726034112 -->\n<g class=\"edge\" id=\"edge5\">\n<title>140113479324616-&gt;140111726034112</title>\n<path d=\"M277.5,-249.3799C277.5,-241.1745 277.5,-231.7679 277.5,-222.8786\" fill=\"none\" stroke=\"#000000\"/>\n<polygon fill=\"#000000\" points=\"281.0001,-222.784 277.5,-212.784 274.0001,-222.784 281.0001,-222.784\" stroke=\"#000000\"/>\n</g>\n<!-- 140111729245600 -->\n<g class=\"node\" id=\"node6\">\n<title>140111729245600</title>\n<polygon fill=\"none\" points=\"0,-83.5 0,-129.5 555,-129.5 555,-83.5 0,-83.5\" stroke=\"#000000\"/>\n<text fill=\"#000000\" font-family=\"Times,serif\" font-size=\"14.00\" text-anchor=\"middle\" x=\"193.5\" y=\"-102.8\">bidirectional_13(cu_dnnlstm_27): Bidirectional(CuDNNLSTM)</text>\n<polyline fill=\"none\" points=\"387,-83.5 387,-129.5 \" stroke=\"#000000\"/>\n<text fill=\"#000000\" font-family=\"Times,serif\" font-size=\"14.00\" text-anchor=\"middle\" x=\"416\" y=\"-114.3\">input:</text>\n<polyline fill=\"none\" points=\"387,-106.5 445,-106.5 \" stroke=\"#000000\"/>\n<text fill=\"#000000\" font-family=\"Times,serif\" font-size=\"14.00\" text-anchor=\"middle\" x=\"416\" y=\"-91.3\">output:</text>\n<polyline fill=\"none\" points=\"445,-83.5 445,-129.5 \" stroke=\"#000000\"/>\n<text fill=\"#000000\" font-family=\"Times,serif\" font-size=\"14.00\" text-anchor=\"middle\" x=\"500\" y=\"-114.3\">(None, 80, 256)</text>\n<polyline fill=\"none\" points=\"445,-106.5 555,-106.5 \" stroke=\"#000000\"/>\n<text fill=\"#000000\" font-family=\"Times,serif\" font-size=\"14.00\" text-anchor=\"middle\" x=\"500\" y=\"-91.3\">(None, 256)</text>\n</g>\n<!-- 140111726034112&#45;&gt;140111729245600 -->\n<g class=\"edge\" id=\"edge6\">\n<title>140111726034112-&gt;140111729245600</title>\n<path d=\"M277.5,-166.3799C277.5,-158.1745 277.5,-148.7679 277.5,-139.8786\" fill=\"none\" stroke=\"#000000\"/>\n<polygon fill=\"#000000\" points=\"281.0001,-139.784 277.5,-129.784 274.0001,-139.784 281.0001,-139.784\" stroke=\"#000000\"/>\n</g>\n<!-- 140111728119704 -->\n<g class=\"node\" id=\"node7\">\n<title>140111728119704</title>\n<polygon fill=\"none\" points=\"148,-.5 148,-46.5 407,-46.5 407,-.5 148,-.5\" stroke=\"#000000\"/>\n<text fill=\"#000000\" font-family=\"Times,serif\" font-size=\"14.00\" text-anchor=\"middle\" x=\"205\" y=\"-19.8\">dense_25: Dense</text>\n<polyline fill=\"none\" points=\"262,-.5 262,-46.5 \" stroke=\"#000000\"/>\n<text fill=\"#000000\" font-family=\"Times,serif\" font-size=\"14.00\" text-anchor=\"middle\" x=\"291\" y=\"-31.3\">input:</text>\n<polyline fill=\"none\" points=\"262,-23.5 320,-23.5 \" stroke=\"#000000\"/>\n<text fill=\"#000000\" font-family=\"Times,serif\" font-size=\"14.00\" text-anchor=\"middle\" x=\"291\" y=\"-8.3\">output:</text>\n<polyline fill=\"none\" points=\"320,-.5 320,-46.5 \" stroke=\"#000000\"/>\n<text fill=\"#000000\" font-family=\"Times,serif\" font-size=\"14.00\" text-anchor=\"middle\" x=\"363.5\" y=\"-31.3\">(None, 256)</text>\n<polyline fill=\"none\" points=\"320,-23.5 407,-23.5 \" stroke=\"#000000\"/>\n<text fill=\"#000000\" font-family=\"Times,serif\" font-size=\"14.00\" text-anchor=\"middle\" x=\"363.5\" y=\"-8.3\">(None, 1)</text>\n</g>\n<!-- 140111729245600&#45;&gt;140111728119704 -->\n<g class=\"edge\" id=\"edge7\">\n<title>140111729245600-&gt;140111728119704</title>\n<path d=\"M277.5,-83.3799C277.5,-75.1745 277.5,-65.7679 277.5,-56.8786\" fill=\"none\" stroke=\"#000000\"/>\n<polygon fill=\"#000000\" points=\"281.0001,-56.784 277.5,-46.784 274.0001,-56.784 281.0001,-56.784\" stroke=\"#000000\"/>\n</g>\n<!-- 140111725709912 -->\n<g class=\"node\" id=\"node8\">\n<title>140111725709912</title>\n<polygon fill=\"none\" points=\"213.5,-581.5 213.5,-617.5 341.5,-617.5 341.5,-581.5 213.5,-581.5\" stroke=\"#000000\"/>\n<text fill=\"#000000\" font-family=\"Times,serif\" font-size=\"14.00\" text-anchor=\"middle\" x=\"277.5\" y=\"-595.8\">140111725709912</text>\n</g>\n<!-- 140111725709912&#45;&gt;140111960527312 -->\n<g class=\"edge\" id=\"edge1\">\n<title>140111725709912-&gt;140111960527312</title>\n<path d=\"M277.5,-581.4092C277.5,-573.4308 277.5,-563.795 277.5,-554.606\" fill=\"none\" stroke=\"#000000\"/>\n<polygon fill=\"#000000\" points=\"281.0001,-554.5333 277.5,-544.5333 274.0001,-554.5334 281.0001,-554.5333\" stroke=\"#000000\"/>\n</g>\n</g>\n</svg>"
          },
          "metadata": {
            "tags": []
          },
          "execution_count": 108
        }
      ]
    },
    {
      "cell_type": "code",
      "metadata": {
        "id": "kdwWLr19wXBd",
        "colab_type": "code",
        "outputId": "3bbfe401-3468-4991-f8d7-93a971f1ce48",
        "colab": {
          "base_uri": "https://localhost:8080/",
          "height": 748
        }
      },
      "source": [
        "%%time\n",
        "epochs = 20\n",
        "validation_split = 0.2\n",
        "\n",
        "history = model.fit(x_train, y_train, batch_size=128,\n",
        "          epochs=epochs, \n",
        "          validation_split=validation_split)"
      ],
      "execution_count": 109,
      "outputs": [
        {
          "output_type": "stream",
          "text": [
            "Train on 20000 samples, validate on 5000 samples\n",
            "Epoch 1/20\n",
            "20000/20000 [==============================] - 20s 984us/step - loss: 0.6154 - acc: 0.6605 - val_loss: 0.9811 - val_acc: 0.5198\n",
            "Epoch 2/20\n",
            "20000/20000 [==============================] - 16s 786us/step - loss: 0.5670 - acc: 0.7060 - val_loss: 0.6702 - val_acc: 0.6108\n",
            "Epoch 3/20\n",
            "20000/20000 [==============================] - 16s 790us/step - loss: 0.5413 - acc: 0.7260 - val_loss: 0.5458 - val_acc: 0.7334\n",
            "Epoch 4/20\n",
            "20000/20000 [==============================] - 16s 786us/step - loss: 0.5236 - acc: 0.7385 - val_loss: 0.5640 - val_acc: 0.7026\n",
            "Epoch 5/20\n",
            "20000/20000 [==============================] - 16s 786us/step - loss: 0.5111 - acc: 0.7467 - val_loss: 0.4802 - val_acc: 0.7784\n",
            "Epoch 6/20\n",
            "20000/20000 [==============================] - 16s 786us/step - loss: 0.5007 - acc: 0.7525 - val_loss: 0.4698 - val_acc: 0.7756\n",
            "Epoch 7/20\n",
            "20000/20000 [==============================] - 16s 783us/step - loss: 0.4916 - acc: 0.7576 - val_loss: 0.5187 - val_acc: 0.7552\n",
            "Epoch 8/20\n",
            "20000/20000 [==============================] - 16s 784us/step - loss: 0.4851 - acc: 0.7625 - val_loss: 0.4319 - val_acc: 0.8012\n",
            "Epoch 9/20\n",
            "20000/20000 [==============================] - 16s 787us/step - loss: 0.4719 - acc: 0.7717 - val_loss: 0.6289 - val_acc: 0.7192\n",
            "Epoch 10/20\n",
            "20000/20000 [==============================] - 16s 791us/step - loss: 0.4713 - acc: 0.7749 - val_loss: 0.5425 - val_acc: 0.7356\n",
            "Epoch 11/20\n",
            "20000/20000 [==============================] - 16s 787us/step - loss: 0.4653 - acc: 0.7751 - val_loss: 0.6180 - val_acc: 0.7292\n",
            "Epoch 12/20\n",
            "20000/20000 [==============================] - 16s 790us/step - loss: 0.4596 - acc: 0.7777 - val_loss: 0.4629 - val_acc: 0.7810\n",
            "Epoch 13/20\n",
            "20000/20000 [==============================] - 16s 790us/step - loss: 0.4467 - acc: 0.7891 - val_loss: 0.5488 - val_acc: 0.7680\n",
            "Epoch 14/20\n",
            "20000/20000 [==============================] - 16s 791us/step - loss: 0.4439 - acc: 0.7854 - val_loss: 0.4204 - val_acc: 0.8120\n",
            "Epoch 15/20\n",
            "20000/20000 [==============================] - 16s 790us/step - loss: 0.4410 - acc: 0.7873 - val_loss: 0.6225 - val_acc: 0.7328\n",
            "Epoch 16/20\n",
            "20000/20000 [==============================] - 16s 788us/step - loss: 0.4332 - acc: 0.7928 - val_loss: 0.4025 - val_acc: 0.8166\n",
            "Epoch 17/20\n",
            "20000/20000 [==============================] - 16s 789us/step - loss: 0.4264 - acc: 0.7980 - val_loss: 0.4239 - val_acc: 0.8156\n",
            "Epoch 18/20\n",
            "20000/20000 [==============================] - 16s 790us/step - loss: 0.4260 - acc: 0.8003 - val_loss: 0.4138 - val_acc: 0.8152\n",
            "Epoch 19/20\n",
            "20000/20000 [==============================] - 16s 790us/step - loss: 0.4126 - acc: 0.8063 - val_loss: 0.5074 - val_acc: 0.7952\n",
            "Epoch 20/20\n",
            "20000/20000 [==============================] - 16s 785us/step - loss: 0.4135 - acc: 0.8082 - val_loss: 0.5283 - val_acc: 0.7692\n",
            "CPU times: user 3min 35s, sys: 1min 15s, total: 4min 51s\n",
            "Wall time: 5min 20s\n"
          ],
          "name": "stdout"
        }
      ]
    },
    {
      "cell_type": "code",
      "metadata": {
        "id": "DsHOlhVswWyt",
        "colab_type": "code",
        "outputId": "a145c0d1-fccf-4d8f-e320-08ad9073ddc0",
        "colab": {
          "base_uri": "https://localhost:8080/",
          "height": 437
        }
      },
      "source": [
        "plt.figure(figsize=(5,3))\n",
        "plt.plot(history.epoch,history.history['loss'], label='training')\n",
        "plt.plot(history.epoch,history.history['val_loss'], label='validation')\n",
        "plt.title('loss')\n",
        "plt.legend(loc='best')\n",
        "\n",
        "plt.figure(figsize=(5,3))\n",
        "plt.plot(history.epoch,history.history['acc'], label='training')\n",
        "plt.plot(history.epoch,history.history['val_acc'], label='validation')\n",
        "plt.title('accuracy')\n",
        "plt.legend(loc='best');"
      ],
      "execution_count": 111,
      "outputs": [
        {
          "output_type": "display_data",
          "data": {
            "image/png": "[encoded data removed]",
            "text/plain": [
              "<Figure size 360x216 with 1 Axes>"
            ]
          },
          "metadata": {
            "tags": []
          }
        },
        {
          "output_type": "display_data",
          "data": {
            "image/png": "[encoded data removed]",
            "text/plain": [
              "<Figure size 360x216 with 1 Axes>"
            ]
          },
          "metadata": {
            "tags": []
          }
        }
      ]
    },
    {
      "cell_type": "code",
      "metadata": {
        "id": "0GPDhgyvwWld",
        "colab_type": "code",
        "outputId": "52eac1e5-1d1e-4894-d856-0d8a3ebd109e",
        "colab": {
          "base_uri": "https://localhost:8080/",
          "height": 34
        }
      },
      "source": [
        "scores = model.evaluate(x_test, y_test, verbose=2)\n",
        "print(\"%s: %.2f%%\" % (model.metrics_names[1], scores[1]*100))"
      ],
      "execution_count": 112,
      "outputs": [
        {
          "output_type": "stream",
          "text": [
            "acc: 76.65%\n"
          ],
          "name": "stdout"
        }
      ]
    },
    {
      "cell_type": "markdown",
      "metadata": {
        "id": "1pmwKZ_JSSX4",
        "colab_type": "text"
      },
      "source": [
        "### Do not freeze pre-trained embeddings"
      ]
    },
    {
      "cell_type": "code",
      "metadata": {
        "id": "GR17a9qcSWqI",
        "colab_type": "code",
        "colab": {
          "base_uri": "https://localhost:8080/",
          "height": 442
        },
        "outputId": "5898dd47-f894-4392-e671-c0ccf8d88159"
      },
      "source": [
        "# model parameters:\n",
        "embedding_dims = 50\n",
        "lstm_units = 128\n",
        "\n",
        "print('Build model...')\n",
        "model = Sequential()\n",
        "\n",
        "model.add(Embedding(words_num,\n",
        "                      embedding_dims,\n",
        "                      input_length=max_len))\n",
        "\n",
        "model.add(Dropout(rate=0.7))\n",
        "\n",
        "# Bidirectional 2 layers LSTM\n",
        "# CPU ver:\n",
        "#model.add(LSTM(lstm_units))\n",
        "# GPU ver:\n",
        "model.add(Bidirectional(CuDNNLSTM(lstm_units, return_sequences=True)))\n",
        "\n",
        "model.add(BatchNormalization())\n",
        "\n",
        "model.add(Dropout(rate=0.7))\n",
        "\n",
        "model.add(Bidirectional(CuDNNLSTM(lstm_units)))\n",
        "\n",
        "model.add(Dense(1, activation='sigmoid'))\n",
        "\n",
        "# Load pretrained word embeddings into the Embedding layer\n",
        "# Only free the embedding of pad token\n",
        "model.layers[0].set_weights([embedding_matrix])\n",
        "\n",
        "# try using different optimizers and different optimizer configs\n",
        "model.compile(loss='binary_crossentropy',\n",
        "                optimizer='adam',\n",
        "                metrics=['accuracy'])\n",
        "print(model.summary())"
      ],
      "execution_count": 118,
      "outputs": [
        {
          "output_type": "stream",
          "text": [
            "W0627 09:46:29.535029 140115035862912 nn_ops.py:4224] Large dropout rate: 0.7 (>0.5). In TensorFlow 2.x, dropout() uses dropout rate instead of keep_prob. Please ensure that this is intended.\n"
          ],
          "name": "stderr"
        },
        {
          "output_type": "stream",
          "text": [
            "Build model...\n"
          ],
          "name": "stdout"
        },
        {
          "output_type": "stream",
          "text": [
            "W0627 09:46:30.003671 140115035862912 nn_ops.py:4224] Large dropout rate: 0.7 (>0.5). In TensorFlow 2.x, dropout() uses dropout rate instead of keep_prob. Please ensure that this is intended.\n"
          ],
          "name": "stderr"
        },
        {
          "output_type": "stream",
          "text": [
            "_________________________________________________________________\n",
            "Layer (type)                 Output Shape              Param #   \n",
            "=================================================================\n",
            "embedding_29 (Embedding)     (None, 80, 50)            500000    \n",
            "_________________________________________________________________\n",
            "dropout_33 (Dropout)         (None, 80, 50)            0         \n",
            "_________________________________________________________________\n",
            "bidirectional_22 (Bidirectio (None, 80, 256)           184320    \n",
            "_________________________________________________________________\n",
            "batch_normalization_9 (Batch (None, 80, 256)           1024      \n",
            "_________________________________________________________________\n",
            "dropout_34 (Dropout)         (None, 80, 256)           0         \n",
            "_________________________________________________________________\n",
            "bidirectional_23 (Bidirectio (None, 256)               395264    \n",
            "_________________________________________________________________\n",
            "dense_30 (Dense)             (None, 1)                 257       \n",
            "=================================================================\n",
            "Total params: 1,080,865\n",
            "Trainable params: 1,080,353\n",
            "Non-trainable params: 512\n",
            "_________________________________________________________________\n",
            "None\n"
          ],
          "name": "stdout"
        }
      ]
    },
    {
      "cell_type": "code",
      "metadata": {
        "id": "1CY8pJYmSrsx",
        "colab_type": "code",
        "colab": {
          "base_uri": "https://localhost:8080/",
          "height": 748
        },
        "outputId": "f1faf6ea-cdc6-4c55-86c7-cc9a54144af8"
      },
      "source": [
        "%%time\n",
        "epochs = 20\n",
        "validation_split = 0.2\n",
        "\n",
        "history = model.fit(x_train, y_train, batch_size=128,\n",
        "          epochs=epochs, \n",
        "          validation_split=validation_split)"
      ],
      "execution_count": 119,
      "outputs": [
        {
          "output_type": "stream",
          "text": [
            "Train on 20000 samples, validate on 5000 samples\n",
            "Epoch 1/20\n",
            "20000/20000 [==============================] - 21s 1ms/step - loss: 0.5340 - acc: 0.7177 - val_loss: 1.5396 - val_acc: 0.5344\n",
            "Epoch 2/20\n",
            "20000/20000 [==============================] - 16s 805us/step - loss: 0.3556 - acc: 0.8468 - val_loss: 0.3653 - val_acc: 0.8388\n",
            "Epoch 3/20\n",
            "20000/20000 [==============================] - 16s 806us/step - loss: 0.3085 - acc: 0.8694 - val_loss: 0.4002 - val_acc: 0.8190\n",
            "Epoch 4/20\n",
            "20000/20000 [==============================] - 16s 803us/step - loss: 0.2678 - acc: 0.8924 - val_loss: 0.3985 - val_acc: 0.8344\n",
            "Epoch 5/20\n",
            "20000/20000 [==============================] - 16s 805us/step - loss: 0.2333 - acc: 0.9058 - val_loss: 0.4064 - val_acc: 0.8344\n",
            "Epoch 6/20\n",
            "20000/20000 [==============================] - 16s 805us/step - loss: 0.2127 - acc: 0.9165 - val_loss: 0.4001 - val_acc: 0.8328\n",
            "Epoch 7/20\n",
            "20000/20000 [==============================] - 16s 794us/step - loss: 0.1902 - acc: 0.9254 - val_loss: 0.4252 - val_acc: 0.8332\n",
            "Epoch 8/20\n",
            "20000/20000 [==============================] - 16s 797us/step - loss: 0.1731 - acc: 0.9303 - val_loss: 0.4391 - val_acc: 0.8258\n",
            "Epoch 9/20\n",
            "20000/20000 [==============================] - 16s 798us/step - loss: 0.1563 - acc: 0.9378 - val_loss: 0.9581 - val_acc: 0.7148\n",
            "Epoch 10/20\n",
            "20000/20000 [==============================] - 16s 797us/step - loss: 0.1440 - acc: 0.9442 - val_loss: 0.4972 - val_acc: 0.8254\n",
            "Epoch 11/20\n",
            "20000/20000 [==============================] - 16s 796us/step - loss: 0.1281 - acc: 0.9508 - val_loss: 0.6486 - val_acc: 0.8142\n",
            "Epoch 12/20\n",
            "20000/20000 [==============================] - 16s 797us/step - loss: 0.1211 - acc: 0.9537 - val_loss: 0.6561 - val_acc: 0.8116\n",
            "Epoch 13/20\n",
            "20000/20000 [==============================] - 16s 798us/step - loss: 0.1085 - acc: 0.9593 - val_loss: 0.5647 - val_acc: 0.8180\n",
            "Epoch 14/20\n",
            "20000/20000 [==============================] - 16s 798us/step - loss: 0.0990 - acc: 0.9604 - val_loss: 0.6115 - val_acc: 0.8198\n",
            "Epoch 15/20\n",
            "20000/20000 [==============================] - 16s 799us/step - loss: 0.0973 - acc: 0.9630 - val_loss: 0.5695 - val_acc: 0.8246\n",
            "Epoch 16/20\n",
            "20000/20000 [==============================] - 16s 799us/step - loss: 0.0896 - acc: 0.9643 - val_loss: 0.6830 - val_acc: 0.7940\n",
            "Epoch 17/20\n",
            "20000/20000 [==============================] - 16s 801us/step - loss: 0.0928 - acc: 0.9653 - val_loss: 0.6001 - val_acc: 0.8262\n",
            "Epoch 18/20\n",
            "20000/20000 [==============================] - 16s 802us/step - loss: 0.0847 - acc: 0.9683 - val_loss: 0.8147 - val_acc: 0.8094\n",
            "Epoch 19/20\n",
            "20000/20000 [==============================] - 16s 795us/step - loss: 0.0771 - acc: 0.9709 - val_loss: 0.7154 - val_acc: 0.8184\n",
            "Epoch 20/20\n",
            "20000/20000 [==============================] - 16s 798us/step - loss: 0.0762 - acc: 0.9714 - val_loss: 0.7925 - val_acc: 0.8142\n",
            "CPU times: user 3min 42s, sys: 1min 15s, total: 4min 57s\n",
            "Wall time: 5min 26s\n"
          ],
          "name": "stdout"
        }
      ]
    },
    {
      "cell_type": "code",
      "metadata": {
        "id": "GjFv6PW0UJT2",
        "colab_type": "code",
        "colab": {
          "base_uri": "https://localhost:8080/",
          "height": 34
        },
        "outputId": "c5b31a8c-58b0-4f1f-f3c9-6d7ad7e2d73b"
      },
      "source": [
        "scores = model.evaluate(x_test, y_test, verbose=2)\n",
        "print(\"%s: %.2f%%\" % (model.metrics_names[1], scores[1]*100))"
      ],
      "execution_count": 121,
      "outputs": [
        {
          "output_type": "stream",
          "text": [
            "acc: 80.67%\n"
          ],
          "name": "stdout"
        }
      ]
    }
  ]
}