{
  "nbformat": 4,
  "nbformat_minor": 0,
  "metadata": {
    "colab": {
      "name": "keras_rnn_attention_imdb.ipynb",
      "version": "0.3.2",
      "provenance": [],
      "collapsed_sections": [],
      "toc_visible": true,
      "include_colab_link": true
    },
    "kernelspec": {
      "name": "python3",
      "display_name": "Python 3"
    },
    "accelerator": "GPU"
  },
  "cells": [
    {
      "cell_type": "markdown",
      "metadata": {
        "id": "view-in-github",
        "colab_type": "text"
      },
      "source": [
        "<a href=\"https://colab.research.google.com/github/ztjfreedom/colab/blob/master/keras_rnn_attention_imdb.ipynb\" target=\"_parent\"><img src=\"https://colab.research.google.com/assets/colab-badge.svg\" alt=\"Open In Colab\"/></a>"
      ]
    },
    {
      "cell_type": "markdown",
      "metadata": {
        "id": "I09I38xgXNhU",
        "colab_type": "text"
      },
      "source": [
        "In this tutorial, We build text classification models in Keras that use attention mechanism to provide insight into how classification decisions are being made.\n",
        "\n",
        "## Prepare Dataset\n",
        "We’ll use the IMDB dataset that contains the text of 50,000 movie reviews from the Internet Movie Database. The IMDB dataset comes packaged with Keras. It has already been preprocessed such that the sequences of words have been converted to sequences of integers, where each integer represents a specific word in a dictionary."
      ]
    },
    {
      "cell_type": "code",
      "metadata": {
        "id": "GImY1NB7XR6Y",
        "colab_type": "code",
        "colab": {}
      },
      "source": [
        "%matplotlib inline\n",
        "import os\n",
        "import tensorflow as tf\n",
        "import keras.backend as K\n",
        "from keras_preprocessing import sequence\n",
        "from keras.layers import *\n",
        "from keras.models import *\n",
        "from IPython.display import SVG\n",
        "from keras.utils.vis_utils import model_to_dot\n",
        "import numpy as np\n",
        "import matplotlib.pyplot as plt\n",
        "import pandas as pd\n",
        "import seaborn as sns\n",
        "sns.set()"
      ],
      "execution_count": 0,
      "outputs": []
    },
    {
      "cell_type": "code",
      "metadata": {
        "id": "U-K1Lx9F7qcs",
        "colab_type": "code",
        "colab": {}
      },
      "source": [
        "vocab_size = 10000\n",
        " \n",
        "pad_id = 0\n",
        "start_id = 1\n",
        "oov_id = 2\n",
        "index_offset = 2\n",
        " \n",
        "(x_train, y_train), (x_test, y_test) = tf.keras.datasets.imdb.load_data(num_words=vocab_size, start_char=start_id,\n",
        "                                                                        oov_char=oov_id, index_from=index_offset)\n",
        " \n",
        "word2idx = tf.keras.datasets.imdb.get_word_index()\n",
        " \n",
        "print('Min index in word2idx:', min(word2idx.items(), key=lambda item: item[1]))"
      ],
      "execution_count": 0,
      "outputs": []
    },
    {
      "cell_type": "markdown",
      "metadata": {
        "id": "fJ7I2oatZmk7",
        "colab_type": "text"
      },
      "source": [
        "Keras provide function pad_sequences takes care padding sequences. We only have to give it the max_len argument which will determine the length of the output arrays. If sentences are shorter than this length, they will be padded and if they are longer, they will be trimmed."
      ]
    },
    {
      "cell_type": "code",
      "metadata": {
        "id": "H51N3DMtXykh",
        "colab_type": "code",
        "outputId": "4bd21de3-07e6-464d-8a02-4a1b80785311",
        "colab": {
          "base_uri": "https://localhost:8080/",
          "height": 136
        }
      },
      "source": [
        "word2idx = {k: v + index_offset for k, v in word2idx.items()}\n",
        "idx2word = {v: k for k, v in word2idx.items()}\n",
        " \n",
        "idx2word[pad_id] = '<PAD>'\n",
        "idx2word[start_id] = '<START>'\n",
        "idx2word[oov_id] = '<OOV>'\n",
        " \n",
        "max_len = 80\n",
        "rnn_cell_size = 128\n",
        " \n",
        "x_train = sequence.pad_sequences(x_train,\n",
        "                                 maxlen=max_len,\n",
        "                                 truncating='post',\n",
        "                                 padding='post',\n",
        "                                 value=pad_id)\n",
        "x_test = sequence.pad_sequences(x_test, \n",
        "                                maxlen=max_len,\n",
        "                                truncating='post',\n",
        "                                padding='post',\n",
        "                                value=pad_id)\n",
        "\n",
        "print('Review at word2idx:')\n",
        "print('word the:', word2idx['the'])\n",
        "\n",
        "print('Review at idx2word:')\n",
        "print('idx 0:', idx2word[0])\n",
        "print('idx 1:', idx2word[1])\n",
        "print('idx 2:', idx2word[2])\n",
        "print('idx 3:', idx2word[3])"
      ],
      "execution_count": 3,
      "outputs": [
        {
          "output_type": "stream",
          "text": [
            "Review at word2idx:\n",
            "word the: 3\n",
            "Review at idx2word:\n",
            "idx 0: <PAD>\n",
            "idx 1: <START>\n",
            "idx 2: <OOV>\n",
            "idx 3: the\n"
          ],
          "name": "stdout"
        }
      ]
    },
    {
      "cell_type": "markdown",
      "metadata": {
        "id": "jS7RZ5OS5rFu",
        "colab_type": "text"
      },
      "source": [
        "## Pre-trained GLoVe"
      ]
    },
    {
      "cell_type": "code",
      "metadata": {
        "id": "gSpQMy6Q58HD",
        "colab_type": "code",
        "outputId": "a8a087db-0cbe-4a01-f69c-4915c2db8cc9",
        "colab": {
          "base_uri": "https://localhost:8080/",
          "height": 51
        }
      },
      "source": [
        "# mount google drive\n",
        "from google.colab import drive\n",
        "drive.mount('/content/gdrive')\n",
        "%cd gdrive/My Drive/Colab Notebooks/dataset/"
      ],
      "execution_count": 4,
      "outputs": [
        {
          "output_type": "stream",
          "text": [
            "Drive already mounted at /content/gdrive; to attempt to forcibly remount, call drive.mount(\"/content/gdrive\", force_remount=True).\n",
            "/content/gdrive/My Drive/Colab Notebooks/dataset\n"
          ],
          "name": "stdout"
        }
      ]
    },
    {
      "cell_type": "code",
      "metadata": {
        "id": "m9o4qiHh58El",
        "colab_type": "code",
        "outputId": "4eb5a905-707b-47f1-89e5-e5e93d6421d6",
        "colab": {
          "base_uri": "https://localhost:8080/",
          "height": 51
        }
      },
      "source": [
        "# Parsing GLoVE word embedding files\n",
        "glove_dict = {}\n",
        "with open(os.path.join('glove', 'glove.6B.50d.txt')) as f:\n",
        "    for line in f:\n",
        "        values = line.split()\n",
        "        word = values[0]\n",
        "        coefs = np.asarray(values[1:], dtype='float32')\n",
        "        glove_dict[word] = coefs\n",
        "\n",
        "\n",
        "print('Found %s word vectors.' % len(glove_dict))\n",
        "\n",
        "for key in glove_dict.keys():\n",
        "    print('Frist key:', key)\n",
        "    break"
      ],
      "execution_count": 5,
      "outputs": [
        {
          "output_type": "stream",
          "text": [
            "Found 400000 word vectors.\n",
            "Frist key: the\n"
          ],
          "name": "stdout"
        }
      ]
    },
    {
      "cell_type": "code",
      "metadata": {
        "id": "EtdUcTPR58CI",
        "colab_type": "code",
        "outputId": "5878c542-83ff-45e8-f903-b0f14158b92b",
        "colab": {
          "base_uri": "https://localhost:8080/",
          "height": 629
        }
      },
      "source": [
        "# 0 is used for padding, so we set it to all zeros\n",
        "embedding_matrix = np.random.normal(loc=0.0, scale=1.0, size=(vocab_size, 50))\n",
        "embedding_matrix[0] = np.zeros(50)\n",
        "for word, i in word2idx.items():\n",
        "    if i < 10000:\n",
        "        embedding_vector = glove_dict.get(word)\n",
        "        if embedding_vector is not None:\n",
        "            embedding_matrix[i] = embedding_vector\n",
        "\n",
        "print('Embedding review:')\n",
        "print(embedding_matrix.shape)\n",
        "print(embedding_matrix[0])\n",
        "print(embedding_matrix[1])\n",
        "print(embedding_matrix[3])\n",
        "print(glove_dict['the'])"
      ],
      "execution_count": 6,
      "outputs": [
        {
          "output_type": "stream",
          "text": [
            "Embedding review:\n",
            "(10000, 50)\n",
            "[0. 0. 0. 0. 0. 0. 0. 0. 0. 0. 0. 0. 0. 0. 0. 0. 0. 0. 0. 0. 0. 0. 0. 0.\n",
            " 0. 0. 0. 0. 0. 0. 0. 0. 0. 0. 0. 0. 0. 0. 0. 0. 0. 0. 0. 0. 0. 0. 0. 0.\n",
            " 0. 0.]\n",
            "[ 1.42576577 -1.74478284 -0.64736253  0.26380198 -0.46950615  0.04085707\n",
            " -1.00885976  1.45821201 -1.06941491 -1.02752209 -0.63001538 -1.55715559\n",
            " -0.58781136 -0.16534477 -0.22280624 -0.92582924  0.63208453  0.67441906\n",
            "  1.1971006   1.90387458 -1.94896777 -0.8279956   1.06974494 -0.55934359\n",
            "  1.18077087  0.17849756  1.36668251  0.14156975 -0.66128088  1.30115542\n",
            " -1.43224451  1.35921625 -0.66289783  0.28906809 -0.80765559 -0.1648786\n",
            " -0.18261234 -0.36393716  1.21956617  0.52869823  2.4136912  -0.45797747\n",
            "  0.11586065 -0.55238252  0.47984307  0.65838836 -0.23103201 -1.21848454\n",
            "  1.27952061 -0.39359994]\n",
            "[ 4.18000013e-01  2.49679998e-01 -4.12420005e-01  1.21699996e-01\n",
            "  3.45270008e-01 -4.44569997e-02 -4.96879995e-01 -1.78619996e-01\n",
            " -6.60229998e-04 -6.56599998e-01  2.78430015e-01 -1.47670001e-01\n",
            " -5.56770027e-01  1.46579996e-01 -9.50950012e-03  1.16579998e-02\n",
            "  1.02040000e-01 -1.27920002e-01 -8.44299972e-01 -1.21809997e-01\n",
            " -1.68009996e-02 -3.32789987e-01 -1.55200005e-01 -2.31309995e-01\n",
            " -1.91809997e-01 -1.88230002e+00 -7.67459989e-01  9.90509987e-02\n",
            " -4.21249986e-01 -1.95260003e-01  4.00710011e+00 -1.85939997e-01\n",
            " -5.22870004e-01 -3.16810012e-01  5.92130003e-04  7.44489999e-03\n",
            "  1.77780002e-01 -1.58969998e-01  1.20409997e-02 -5.42230010e-02\n",
            " -2.98709989e-01 -1.57490000e-01 -3.47579986e-01 -4.56370004e-02\n",
            " -4.42510009e-01  1.87849998e-01  2.78489990e-03 -1.84110001e-01\n",
            " -1.15139998e-01 -7.85809994e-01]\n",
            "[ 4.1800e-01  2.4968e-01 -4.1242e-01  1.2170e-01  3.4527e-01 -4.4457e-02\n",
            " -4.9688e-01 -1.7862e-01 -6.6023e-04 -6.5660e-01  2.7843e-01 -1.4767e-01\n",
            " -5.5677e-01  1.4658e-01 -9.5095e-03  1.1658e-02  1.0204e-01 -1.2792e-01\n",
            " -8.4430e-01 -1.2181e-01 -1.6801e-02 -3.3279e-01 -1.5520e-01 -2.3131e-01\n",
            " -1.9181e-01 -1.8823e+00 -7.6746e-01  9.9051e-02 -4.2125e-01 -1.9526e-01\n",
            "  4.0071e+00 -1.8594e-01 -5.2287e-01 -3.1681e-01  5.9213e-04  7.4449e-03\n",
            "  1.7778e-01 -1.5897e-01  1.2041e-02 -5.4223e-02 -2.9871e-01 -1.5749e-01\n",
            " -3.4758e-01 -4.5637e-02 -4.4251e-01  1.8785e-01  2.7849e-03 -1.8411e-01\n",
            " -1.1514e-01 -7.8581e-01]\n"
          ],
          "name": "stdout"
        }
      ]
    },
    {
      "cell_type": "markdown",
      "metadata": {
        "id": "Ostm8QQsZqnE",
        "colab_type": "text"
      },
      "source": [
        "## Attention mechanism in Keras\n",
        "Referring to https://github.com/philipperemy/keras-attention-mechanism\n",
        "\n",
        "The following 2 code blocks are used for example\n"
      ]
    },
    {
      "cell_type": "code",
      "metadata": {
        "id": "XH7Xt3k_ZcnT",
        "colab_type": "code",
        "colab": {}
      },
      "source": [
        "INPUT_DIM = 32\n",
        "\n",
        "def build_model_dense():\n",
        "    inputs = Input(shape=(INPUT_DIM,))\n",
        "\n",
        "    # ATTENTION PART STARTS HERE\n",
        "    attention_probs = Dense(INPUT_DIM, activation='softmax', name='attention_vec')(inputs)\n",
        "    attention_mul = merge([inputs, attention_probs], output_shape=32, name='attention_mul', mode='mul')\n",
        "    # ATTENTION PART FINISHES HERE\n",
        "\n",
        "    attention_mul = Dense(64)(attention_mul)\n",
        "    output = Dense(1, activation='sigmoid')(attention_mul)\n",
        "    model = Model(input=[inputs], output=output)\n",
        "    return model"
      ],
      "execution_count": 0,
      "outputs": []
    },
    {
      "cell_type": "code",
      "metadata": {
        "id": "1v4eyRmW5kPY",
        "colab_type": "code",
        "colab": {}
      },
      "source": [
        "INPUT_DIM = 2\n",
        "TIME_STEPS = 20\n",
        "# if True, the attention vector is shared across the input_dimensions where the attention is applied.\n",
        "SINGLE_ATTENTION_VECTOR = False\n",
        "\n",
        "def attention_3d_block(inputs):\n",
        "    # inputs.shape = (batch_size, time_steps, input_dim)\n",
        "    input_dim = int(inputs.shape[2])\n",
        "    a = Permute((2, 1))(inputs)\n",
        "    a = Reshape((input_dim, TIME_STEPS))(a) # this line is not useful. It's just to know which dimension is what.\n",
        "    a = Dense(TIME_STEPS, activation='softmax')(a)\n",
        "    if SINGLE_ATTENTION_VECTOR:\n",
        "        a = Lambda(lambda x: K.mean(x, axis=1), name='dim_reduction')(a)\n",
        "        a = RepeatVector(input_dim)(a)\n",
        "    a_probs = Permute((2, 1), name='attention_vec')(a)\n",
        "    output_attention_mul = Multiply(name='attention_mul')([inputs, a_probs])\n",
        "    return output_attention_mul\n",
        "\n",
        "\n",
        "def model_attention_applied_after_lstm():\n",
        "    inputs = Input(shape=(TIME_STEPS, INPUT_DIM,))\n",
        "    lstm_units = 32\n",
        "    lstm_out = LSTM(lstm_units, return_sequences=True)(inputs)\n",
        "    attention_mul = attention_3d_block(lstm_out)\n",
        "    attention_mul = Flatten()(attention_mul)\n",
        "    output = Dense(1, activation='sigmoid')(attention_mul)\n",
        "    model = Model(input=[inputs], output=output)\n",
        "    return model\n",
        "\n",
        "\n",
        "def model_attention_applied_before_lstm():\n",
        "    inputs = Input(shape=(TIME_STEPS, INPUT_DIM,))\n",
        "    attention_mul = attention_3d_block(inputs)\n",
        "    lstm_units = 32\n",
        "    attention_mul = LSTM(lstm_units, return_sequences=False)(attention_mul)\n",
        "    output = Dense(1, activation='sigmoid')(attention_mul)\n",
        "    model = Model(input=[inputs], output=output)\n",
        "    return model"
      ],
      "execution_count": 0,
      "outputs": []
    },
    {
      "cell_type": "markdown",
      "metadata": {
        "id": "ZqjOx4VS5Lyq",
        "colab_type": "text"
      },
      "source": [
        "## Modeling"
      ]
    },
    {
      "cell_type": "code",
      "metadata": {
        "id": "CCvZpcmc9JEL",
        "colab_type": "code",
        "colab": {}
      },
      "source": [
        "def attention_3d_block(inputs, time_steps, single_attention_vector):\n",
        "    # inputs.shape = (batch_size, time_steps, input_dim)\n",
        "    input_dim = int(inputs.shape[2])\n",
        "    a = Permute((2, 1))(inputs)\n",
        "    a = Reshape((input_dim, time_steps))(a) # this line is not useful. It's just to know which dimension is what.\n",
        "    a = Dense(time_steps, activation='softmax')(a)\n",
        "    if single_attention_vector:\n",
        "        a = Lambda(lambda x: K.mean(x, axis=1), name='dim_reduction')(a)\n",
        "        a = RepeatVector(input_dim)(a)\n",
        "    a_probs = Permute((2, 1), name='attention_vec')(a)\n",
        "    output_attention_mul = Multiply(name='attention_mul')([inputs, a_probs])\n",
        "    return output_attention_mul"
      ],
      "execution_count": 0,
      "outputs": []
    },
    {
      "cell_type": "code",
      "metadata": {
        "id": "bPCMFDC6Hlgi",
        "colab_type": "code",
        "outputId": "671c944a-725b-4cb0-85c8-9315cd98a368",
        "colab": {
          "base_uri": "https://localhost:8080/",
          "height": 51
        }
      },
      "source": [
        "# attention before LSTM\n",
        "inputs = Input(shape=[max_len], dtype='int32')\n",
        "embedded = Embedding(input_dim=vocab_size, output_dim=50, input_length=max_len)(inputs)\n",
        "attention_mul = attention_3d_block(embedded, max_len, False)  # attention here\n",
        "embedded = Dropout(rate=0.5)(embedded)\n",
        "activations = Bidirectional(CuDNNLSTM(128))(attention_mul)\n",
        "output = Dense(1, activation='sigmoid')(activations)\n",
        "model = Model(input=[inputs], output=output)"
      ],
      "execution_count": 13,
      "outputs": [
        {
          "output_type": "stream",
          "text": [
            "/usr/local/lib/python3.6/dist-packages/ipykernel_launcher.py:7: UserWarning: Update your `Model` call to the Keras 2 API: `Model(inputs=[<tf.Tenso..., outputs=Tensor(\"de...)`\n",
            "  import sys\n"
          ],
          "name": "stderr"
        }
      ]
    },
    {
      "cell_type": "code",
      "metadata": {
        "id": "NHq_L9UG30se",
        "colab_type": "code",
        "outputId": "40111784-850c-46cb-ac4f-b1d207f10c79",
        "colab": {
          "base_uri": "https://localhost:8080/",
          "height": 51
        }
      },
      "source": [
        "# attention after LSTM\n",
        "inputs = Input(shape=[max_len], dtype='int32')\n",
        "embedded = Embedding(input_dim=vocab_size, output_dim=50, input_length=max_len)(inputs)\n",
        "embedded = Dropout(rate=0.5)(embedded)\n",
        "activations = Bidirectional(CuDNNLSTM(128, return_sequences=True))(embedded)\n",
        "attention_mul = attention_3d_block(activations, max_len, False)  # attention here\n",
        "attention_mul = Flatten()(attention_mul)\n",
        "output = Dense(1, activation='sigmoid')(attention_mul)\n",
        "model = Model(input=[inputs], output=output)"
      ],
      "execution_count": 24,
      "outputs": [
        {
          "output_type": "stream",
          "text": [
            "/usr/local/lib/python3.6/dist-packages/ipykernel_launcher.py:8: UserWarning: Update your `Model` call to the Keras 2 API: `Model(inputs=[<tf.Tenso..., outputs=Tensor(\"de...)`\n",
            "  \n"
          ],
          "name": "stderr"
        }
      ]
    },
    {
      "cell_type": "code",
      "metadata": {
        "id": "Ic2xThMq6vie",
        "colab_type": "code",
        "colab": {}
      },
      "source": [
        "# freeze embeddings\n",
        "model.layers[1].set_weights([embedding_matrix])\n",
        "model.layers[1].trainable = False"
      ],
      "execution_count": 0,
      "outputs": []
    },
    {
      "cell_type": "code",
      "metadata": {
        "id": "qZSONxR730la",
        "colab_type": "code",
        "outputId": "62b09120-f179-4108-d9c8-b5c4d614f132",
        "colab": {
          "base_uri": "https://localhost:8080/",
          "height": 544
        }
      },
      "source": [
        "model.compile(optimizer='adam', loss='binary_crossentropy', metrics=['accuracy'])\n",
        "print(model.summary())"
      ],
      "execution_count": 26,
      "outputs": [
        {
          "output_type": "stream",
          "text": [
            "__________________________________________________________________________________________________\n",
            "Layer (type)                    Output Shape         Param #     Connected to                     \n",
            "==================================================================================================\n",
            "input_3 (InputLayer)            (None, 80)           0                                            \n",
            "__________________________________________________________________________________________________\n",
            "embedding_3 (Embedding)         (None, 80, 50)       500000      input_3[0][0]                    \n",
            "__________________________________________________________________________________________________\n",
            "dropout_3 (Dropout)             (None, 80, 50)       0           embedding_3[0][0]                \n",
            "__________________________________________________________________________________________________\n",
            "bidirectional_3 (Bidirectional) (None, 80, 256)      184320      dropout_3[0][0]                  \n",
            "__________________________________________________________________________________________________\n",
            "permute_3 (Permute)             (None, 256, 80)      0           bidirectional_3[0][0]            \n",
            "__________________________________________________________________________________________________\n",
            "reshape_3 (Reshape)             (None, 256, 80)      0           permute_3[0][0]                  \n",
            "__________________________________________________________________________________________________\n",
            "dense_5 (Dense)                 (None, 256, 80)      6480        reshape_3[0][0]                  \n",
            "__________________________________________________________________________________________________\n",
            "attention_vec (Permute)         (None, 80, 256)      0           dense_5[0][0]                    \n",
            "__________________________________________________________________________________________________\n",
            "attention_mul (Multiply)        (None, 80, 256)      0           bidirectional_3[0][0]            \n",
            "                                                                 attention_vec[0][0]              \n",
            "__________________________________________________________________________________________________\n",
            "flatten_1 (Flatten)             (None, 20480)        0           attention_mul[0][0]              \n",
            "__________________________________________________________________________________________________\n",
            "dense_6 (Dense)                 (None, 1)            20481       flatten_1[0][0]                  \n",
            "==================================================================================================\n",
            "Total params: 711,281\n",
            "Trainable params: 211,281\n",
            "Non-trainable params: 500,000\n",
            "__________________________________________________________________________________________________\n",
            "None\n"
          ],
          "name": "stdout"
        }
      ]
    },
    {
      "cell_type": "code",
      "metadata": {
        "id": "AkalDw3q30ek",
        "colab_type": "code",
        "outputId": "4890a667-e23a-497f-f9bc-54b67cb49dcd",
        "colab": {
          "base_uri": "https://localhost:8080/",
          "height": 1000
        }
      },
      "source": [
        "SVG(model_to_dot(model, show_shapes=True).create(prog='dot', format='svg'))"
      ],
      "execution_count": 27,
      "outputs": [
        {
          "output_type": "execute_result",
          "data": {
            "text/plain": [
              "<IPython.core.display.SVG object>"
            ],
            "image/svg+xml": "<svg height=\"885pt\" viewBox=\"0.00 0.00 548.00 885.00\" width=\"548pt\" xmlns=\"http://www.w3.org/2000/svg\" xmlns:xlink=\"http://www.w3.org/1999/xlink\">\n<g class=\"graph\" id=\"graph0\" transform=\"scale(1 1) rotate(0) translate(4 881)\">\n<title>G</title>\n<polygon fill=\"#ffffff\" points=\"-4,4 -4,-881 544,-881 544,4 -4,4\" stroke=\"transparent\"/>\n<!-- 140463222781768 -->\n<g class=\"node\" id=\"node1\">\n<title>140463222781768</title>\n<polygon fill=\"none\" points=\"134.5,-830.5 134.5,-876.5 405.5,-876.5 405.5,-830.5 134.5,-830.5\" stroke=\"#000000\"/>\n<text fill=\"#000000\" font-family=\"Times,serif\" font-size=\"14.00\" text-anchor=\"middle\" x=\"201\" y=\"-849.8\">input_3: InputLayer</text>\n<polyline fill=\"none\" points=\"267.5,-830.5 267.5,-876.5 \" stroke=\"#000000\"/>\n<text fill=\"#000000\" font-family=\"Times,serif\" font-size=\"14.00\" text-anchor=\"middle\" x=\"296.5\" y=\"-861.3\">input:</text>\n<polyline fill=\"none\" points=\"267.5,-853.5 325.5,-853.5 \" stroke=\"#000000\"/>\n<text fill=\"#000000\" font-family=\"Times,serif\" font-size=\"14.00\" text-anchor=\"middle\" x=\"296.5\" y=\"-838.3\">output:</text>\n<polyline fill=\"none\" points=\"325.5,-830.5 325.5,-876.5 \" stroke=\"#000000\"/>\n<text fill=\"#000000\" font-family=\"Times,serif\" font-size=\"14.00\" text-anchor=\"middle\" x=\"365.5\" y=\"-861.3\">(None, 80)</text>\n<polyline fill=\"none\" points=\"325.5,-853.5 405.5,-853.5 \" stroke=\"#000000\"/>\n<text fill=\"#000000\" font-family=\"Times,serif\" font-size=\"14.00\" text-anchor=\"middle\" x=\"365.5\" y=\"-838.3\">(None, 80)</text>\n</g>\n<!-- 140463222783448 -->\n<g class=\"node\" id=\"node2\">\n<title>140463222783448</title>\n<polygon fill=\"none\" points=\"104.5,-747.5 104.5,-793.5 435.5,-793.5 435.5,-747.5 104.5,-747.5\" stroke=\"#000000\"/>\n<text fill=\"#000000\" font-family=\"Times,serif\" font-size=\"14.00\" text-anchor=\"middle\" x=\"190\" y=\"-766.8\">embedding_3: Embedding</text>\n<polyline fill=\"none\" points=\"275.5,-747.5 275.5,-793.5 \" stroke=\"#000000\"/>\n<text fill=\"#000000\" font-family=\"Times,serif\" font-size=\"14.00\" text-anchor=\"middle\" x=\"304.5\" y=\"-778.3\">input:</text>\n<polyline fill=\"none\" points=\"275.5,-770.5 333.5,-770.5 \" stroke=\"#000000\"/>\n<text fill=\"#000000\" font-family=\"Times,serif\" font-size=\"14.00\" text-anchor=\"middle\" x=\"304.5\" y=\"-755.3\">output:</text>\n<polyline fill=\"none\" points=\"333.5,-747.5 333.5,-793.5 \" stroke=\"#000000\"/>\n<text fill=\"#000000\" font-family=\"Times,serif\" font-size=\"14.00\" text-anchor=\"middle\" x=\"384.5\" y=\"-778.3\">(None, 80)</text>\n<polyline fill=\"none\" points=\"333.5,-770.5 435.5,-770.5 \" stroke=\"#000000\"/>\n<text fill=\"#000000\" font-family=\"Times,serif\" font-size=\"14.00\" text-anchor=\"middle\" x=\"384.5\" y=\"-755.3\">(None, 80, 50)</text>\n</g>\n<!-- 140463222781768&#45;&gt;140463222783448 -->\n<g class=\"edge\" id=\"edge1\">\n<title>140463222781768-&gt;140463222783448</title>\n<path d=\"M270,-830.3799C270,-822.1745 270,-812.7679 270,-803.8786\" fill=\"none\" stroke=\"#000000\"/>\n<polygon fill=\"#000000\" points=\"273.5001,-803.784 270,-793.784 266.5001,-803.784 273.5001,-803.784\" stroke=\"#000000\"/>\n</g>\n<!-- 140463223818448 -->\n<g class=\"node\" id=\"node3\">\n<title>140463223818448</title>\n<polygon fill=\"none\" points=\"123,-664.5 123,-710.5 417,-710.5 417,-664.5 123,-664.5\" stroke=\"#000000\"/>\n<text fill=\"#000000\" font-family=\"Times,serif\" font-size=\"14.00\" text-anchor=\"middle\" x=\"190\" y=\"-683.8\">dropout_3: Dropout</text>\n<polyline fill=\"none\" points=\"257,-664.5 257,-710.5 \" stroke=\"#000000\"/>\n<text fill=\"#000000\" font-family=\"Times,serif\" font-size=\"14.00\" text-anchor=\"middle\" x=\"286\" y=\"-695.3\">input:</text>\n<polyline fill=\"none\" points=\"257,-687.5 315,-687.5 \" stroke=\"#000000\"/>\n<text fill=\"#000000\" font-family=\"Times,serif\" font-size=\"14.00\" text-anchor=\"middle\" x=\"286\" y=\"-672.3\">output:</text>\n<polyline fill=\"none\" points=\"315,-664.5 315,-710.5 \" stroke=\"#000000\"/>\n<text fill=\"#000000\" font-family=\"Times,serif\" font-size=\"14.00\" text-anchor=\"middle\" x=\"366\" y=\"-695.3\">(None, 80, 50)</text>\n<polyline fill=\"none\" points=\"315,-687.5 417,-687.5 \" stroke=\"#000000\"/>\n<text fill=\"#000000\" font-family=\"Times,serif\" font-size=\"14.00\" text-anchor=\"middle\" x=\"366\" y=\"-672.3\">(None, 80, 50)</text>\n</g>\n<!-- 140463222783448&#45;&gt;140463223818448 -->\n<g class=\"edge\" id=\"edge2\">\n<title>140463222783448-&gt;140463223818448</title>\n<path d=\"M270,-747.3799C270,-739.1745 270,-729.7679 270,-720.8786\" fill=\"none\" stroke=\"#000000\"/>\n<polygon fill=\"#000000\" points=\"273.5001,-720.784 270,-710.784 266.5001,-720.784 273.5001,-720.784\" stroke=\"#000000\"/>\n</g>\n<!-- 140463226531008 -->\n<g class=\"node\" id=\"node4\">\n<title>140463226531008</title>\n<polygon fill=\"none\" points=\"0,-581.5 0,-627.5 540,-627.5 540,-581.5 0,-581.5\" stroke=\"#000000\"/>\n<text fill=\"#000000\" font-family=\"Times,serif\" font-size=\"14.00\" text-anchor=\"middle\" x=\"186\" y=\"-600.8\">bidirectional_3(cu_dnnlstm_3): Bidirectional(CuDNNLSTM)</text>\n<polyline fill=\"none\" points=\"372,-581.5 372,-627.5 \" stroke=\"#000000\"/>\n<text fill=\"#000000\" font-family=\"Times,serif\" font-size=\"14.00\" text-anchor=\"middle\" x=\"401\" y=\"-612.3\">input:</text>\n<polyline fill=\"none\" points=\"372,-604.5 430,-604.5 \" stroke=\"#000000\"/>\n<text fill=\"#000000\" font-family=\"Times,serif\" font-size=\"14.00\" text-anchor=\"middle\" x=\"401\" y=\"-589.3\">output:</text>\n<polyline fill=\"none\" points=\"430,-581.5 430,-627.5 \" stroke=\"#000000\"/>\n<text fill=\"#000000\" font-family=\"Times,serif\" font-size=\"14.00\" text-anchor=\"middle\" x=\"485\" y=\"-612.3\">(None, 80, 50)</text>\n<polyline fill=\"none\" points=\"430,-604.5 540,-604.5 \" stroke=\"#000000\"/>\n<text fill=\"#000000\" font-family=\"Times,serif\" font-size=\"14.00\" text-anchor=\"middle\" x=\"485\" y=\"-589.3\">(None, 80, 256)</text>\n</g>\n<!-- 140463223818448&#45;&gt;140463226531008 -->\n<g class=\"edge\" id=\"edge3\">\n<title>140463223818448-&gt;140463226531008</title>\n<path d=\"M270,-664.3799C270,-656.1745 270,-646.7679 270,-637.8786\" fill=\"none\" stroke=\"#000000\"/>\n<polygon fill=\"#000000\" points=\"273.5001,-637.784 270,-627.784 266.5001,-637.784 273.5001,-637.784\" stroke=\"#000000\"/>\n</g>\n<!-- 140463227865688 -->\n<g class=\"node\" id=\"node5\">\n<title>140463227865688</title>\n<polygon fill=\"none\" points=\"30.5,-498.5 30.5,-544.5 331.5,-544.5 331.5,-498.5 30.5,-498.5\" stroke=\"#000000\"/>\n<text fill=\"#000000\" font-family=\"Times,serif\" font-size=\"14.00\" text-anchor=\"middle\" x=\"97\" y=\"-517.8\">permute_3: Permute</text>\n<polyline fill=\"none\" points=\"163.5,-498.5 163.5,-544.5 \" stroke=\"#000000\"/>\n<text fill=\"#000000\" font-family=\"Times,serif\" font-size=\"14.00\" text-anchor=\"middle\" x=\"192.5\" y=\"-529.3\">input:</text>\n<polyline fill=\"none\" points=\"163.5,-521.5 221.5,-521.5 \" stroke=\"#000000\"/>\n<text fill=\"#000000\" font-family=\"Times,serif\" font-size=\"14.00\" text-anchor=\"middle\" x=\"192.5\" y=\"-506.3\">output:</text>\n<polyline fill=\"none\" points=\"221.5,-498.5 221.5,-544.5 \" stroke=\"#000000\"/>\n<text fill=\"#000000\" font-family=\"Times,serif\" font-size=\"14.00\" text-anchor=\"middle\" x=\"276.5\" y=\"-529.3\">(None, 80, 256)</text>\n<polyline fill=\"none\" points=\"221.5,-521.5 331.5,-521.5 \" stroke=\"#000000\"/>\n<text fill=\"#000000\" font-family=\"Times,serif\" font-size=\"14.00\" text-anchor=\"middle\" x=\"276.5\" y=\"-506.3\">(None, 256, 80)</text>\n</g>\n<!-- 140463226531008&#45;&gt;140463227865688 -->\n<g class=\"edge\" id=\"edge4\">\n<title>140463226531008-&gt;140463227865688</title>\n<path d=\"M245.2085,-581.3799C235.3581,-572.1935 223.893,-561.5013 213.3994,-551.7152\" fill=\"none\" stroke=\"#000000\"/>\n<polygon fill=\"#000000\" points=\"215.6676,-549.0446 205.9672,-544.784 210.8934,-554.1639 215.6676,-549.0446\" stroke=\"#000000\"/>\n</g>\n<!-- 140463223364016 -->\n<g class=\"node\" id=\"node9\">\n<title>140463223364016</title>\n<polygon fill=\"none\" points=\"52.5,-166.5 52.5,-212.5 483.5,-212.5 483.5,-166.5 52.5,-166.5\" stroke=\"#000000\"/>\n<text fill=\"#000000\" font-family=\"Times,serif\" font-size=\"14.00\" text-anchor=\"middle\" x=\"129.5\" y=\"-185.8\">attention_mul: Multiply</text>\n<polyline fill=\"none\" points=\"206.5,-166.5 206.5,-212.5 \" stroke=\"#000000\"/>\n<text fill=\"#000000\" font-family=\"Times,serif\" font-size=\"14.00\" text-anchor=\"middle\" x=\"235.5\" y=\"-197.3\">input:</text>\n<polyline fill=\"none\" points=\"206.5,-189.5 264.5,-189.5 \" stroke=\"#000000\"/>\n<text fill=\"#000000\" font-family=\"Times,serif\" font-size=\"14.00\" text-anchor=\"middle\" x=\"235.5\" y=\"-174.3\">output:</text>\n<polyline fill=\"none\" points=\"264.5,-166.5 264.5,-212.5 \" stroke=\"#000000\"/>\n<text fill=\"#000000\" font-family=\"Times,serif\" font-size=\"14.00\" text-anchor=\"middle\" x=\"374\" y=\"-197.3\">[(None, 80, 256), (None, 80, 256)]</text>\n<polyline fill=\"none\" points=\"264.5,-189.5 483.5,-189.5 \" stroke=\"#000000\"/>\n<text fill=\"#000000\" font-family=\"Times,serif\" font-size=\"14.00\" text-anchor=\"middle\" x=\"374\" y=\"-174.3\">(None, 80, 256)</text>\n</g>\n<!-- 140463226531008&#45;&gt;140463223364016 -->\n<g class=\"edge\" id=\"edge8\">\n<title>140463226531008-&gt;140463223364016</title>\n<path d=\"M306.2165,-581.3296C318.7329,-571.5699 331.688,-559.1703 340,-545 364.4099,-503.3861 361,-486.7447 361,-438.5 361,-438.5 361,-438.5 361,-355.5 361,-307.4193 366.5163,-290.3607 342,-249 335.2347,-237.5865 325.409,-227.4685 315.1159,-218.9596\" fill=\"none\" stroke=\"#000000\"/>\n<polygon fill=\"#000000\" points=\"317.2313,-216.1707 307.1965,-212.7716 312.9213,-221.6866 317.2313,-216.1707\" stroke=\"#000000\"/>\n</g>\n<!-- 140463223240744 -->\n<g class=\"node\" id=\"node6\">\n<title>140463223240744</title>\n<polygon fill=\"none\" points=\"30,-415.5 30,-461.5 328,-461.5 328,-415.5 30,-415.5\" stroke=\"#000000\"/>\n<text fill=\"#000000\" font-family=\"Times,serif\" font-size=\"14.00\" text-anchor=\"middle\" x=\"95\" y=\"-434.8\">reshape_3: Reshape</text>\n<polyline fill=\"none\" points=\"160,-415.5 160,-461.5 \" stroke=\"#000000\"/>\n<text fill=\"#000000\" font-family=\"Times,serif\" font-size=\"14.00\" text-anchor=\"middle\" x=\"189\" y=\"-446.3\">input:</text>\n<polyline fill=\"none\" points=\"160,-438.5 218,-438.5 \" stroke=\"#000000\"/>\n<text fill=\"#000000\" font-family=\"Times,serif\" font-size=\"14.00\" text-anchor=\"middle\" x=\"189\" y=\"-423.3\">output:</text>\n<polyline fill=\"none\" points=\"218,-415.5 218,-461.5 \" stroke=\"#000000\"/>\n<text fill=\"#000000\" font-family=\"Times,serif\" font-size=\"14.00\" text-anchor=\"middle\" x=\"273\" y=\"-446.3\">(None, 256, 80)</text>\n<polyline fill=\"none\" points=\"218,-438.5 328,-438.5 \" stroke=\"#000000\"/>\n<text fill=\"#000000\" font-family=\"Times,serif\" font-size=\"14.00\" text-anchor=\"middle\" x=\"273\" y=\"-423.3\">(None, 256, 80)</text>\n</g>\n<!-- 140463227865688&#45;&gt;140463223240744 -->\n<g class=\"edge\" id=\"edge5\">\n<title>140463227865688-&gt;140463223240744</title>\n<path d=\"M180.4429,-498.3799C180.2452,-490.1745 180.0185,-480.7679 179.8043,-471.8786\" fill=\"none\" stroke=\"#000000\"/>\n<polygon fill=\"#000000\" points=\"183.301,-471.6968 179.5611,-461.784 176.3031,-471.8655 183.301,-471.6968\" stroke=\"#000000\"/>\n</g>\n<!-- 140463223240912 -->\n<g class=\"node\" id=\"node7\">\n<title>140463223240912</title>\n<polygon fill=\"none\" points=\"38.5,-332.5 38.5,-378.5 313.5,-378.5 313.5,-332.5 38.5,-332.5\" stroke=\"#000000\"/>\n<text fill=\"#000000\" font-family=\"Times,serif\" font-size=\"14.00\" text-anchor=\"middle\" x=\"92\" y=\"-351.8\">dense_5: Dense</text>\n<polyline fill=\"none\" points=\"145.5,-332.5 145.5,-378.5 \" stroke=\"#000000\"/>\n<text fill=\"#000000\" font-family=\"Times,serif\" font-size=\"14.00\" text-anchor=\"middle\" x=\"174.5\" y=\"-363.3\">input:</text>\n<polyline fill=\"none\" points=\"145.5,-355.5 203.5,-355.5 \" stroke=\"#000000\"/>\n<text fill=\"#000000\" font-family=\"Times,serif\" font-size=\"14.00\" text-anchor=\"middle\" x=\"174.5\" y=\"-340.3\">output:</text>\n<polyline fill=\"none\" points=\"203.5,-332.5 203.5,-378.5 \" stroke=\"#000000\"/>\n<text fill=\"#000000\" font-family=\"Times,serif\" font-size=\"14.00\" text-anchor=\"middle\" x=\"258.5\" y=\"-363.3\">(None, 256, 80)</text>\n<polyline fill=\"none\" points=\"203.5,-355.5 313.5,-355.5 \" stroke=\"#000000\"/>\n<text fill=\"#000000\" font-family=\"Times,serif\" font-size=\"14.00\" text-anchor=\"middle\" x=\"258.5\" y=\"-340.3\">(None, 256, 80)</text>\n</g>\n<!-- 140463223240744&#45;&gt;140463223240912 -->\n<g class=\"edge\" id=\"edge6\">\n<title>140463223240744-&gt;140463223240912</title>\n<path d=\"M178.1643,-415.3799C177.8678,-407.1745 177.5278,-397.7679 177.2065,-388.8786\" fill=\"none\" stroke=\"#000000\"/>\n<polygon fill=\"#000000\" points=\"180.7006,-388.651 176.8416,-378.784 173.7052,-388.9039 180.7006,-388.651\" stroke=\"#000000\"/>\n</g>\n<!-- 140463223365136 -->\n<g class=\"node\" id=\"node8\">\n<title>140463223365136</title>\n<polygon fill=\"none\" points=\"17,-249.5 17,-295.5 333,-295.5 333,-249.5 17,-249.5\" stroke=\"#000000\"/>\n<text fill=\"#000000\" font-family=\"Times,serif\" font-size=\"14.00\" text-anchor=\"middle\" x=\"91\" y=\"-268.8\">attention_vec: Permute</text>\n<polyline fill=\"none\" points=\"165,-249.5 165,-295.5 \" stroke=\"#000000\"/>\n<text fill=\"#000000\" font-family=\"Times,serif\" font-size=\"14.00\" text-anchor=\"middle\" x=\"194\" y=\"-280.3\">input:</text>\n<polyline fill=\"none\" points=\"165,-272.5 223,-272.5 \" stroke=\"#000000\"/>\n<text fill=\"#000000\" font-family=\"Times,serif\" font-size=\"14.00\" text-anchor=\"middle\" x=\"194\" y=\"-257.3\">output:</text>\n<polyline fill=\"none\" points=\"223,-249.5 223,-295.5 \" stroke=\"#000000\"/>\n<text fill=\"#000000\" font-family=\"Times,serif\" font-size=\"14.00\" text-anchor=\"middle\" x=\"278\" y=\"-280.3\">(None, 256, 80)</text>\n<polyline fill=\"none\" points=\"223,-272.5 333,-272.5 \" stroke=\"#000000\"/>\n<text fill=\"#000000\" font-family=\"Times,serif\" font-size=\"14.00\" text-anchor=\"middle\" x=\"278\" y=\"-257.3\">(None, 80, 256)</text>\n</g>\n<!-- 140463223240912&#45;&gt;140463223365136 -->\n<g class=\"edge\" id=\"edge7\">\n<title>140463223240912-&gt;140463223365136</title>\n<path d=\"M175.7214,-332.3799C175.6226,-324.1745 175.5093,-314.7679 175.4022,-305.8786\" fill=\"none\" stroke=\"#000000\"/>\n<polygon fill=\"#000000\" points=\"178.9008,-305.7411 175.2805,-295.784 171.9014,-305.8255 178.9008,-305.7411\" stroke=\"#000000\"/>\n</g>\n<!-- 140463223365136&#45;&gt;140463223364016 -->\n<g class=\"edge\" id=\"edge9\">\n<title>140463223365136-&gt;140463223364016</title>\n<path d=\"M200.9057,-249.3799C211.1989,-240.1935 223.1792,-229.5013 234.1444,-219.7152\" fill=\"none\" stroke=\"#000000\"/>\n<polygon fill=\"#000000\" points=\"236.7804,-222.0539 241.9107,-212.784 232.1194,-216.8313 236.7804,-222.0539\" stroke=\"#000000\"/>\n</g>\n<!-- 140463227865800 -->\n<g class=\"node\" id=\"node10\">\n<title>140463227865800</title>\n<polygon fill=\"none\" points=\"127.5,-83.5 127.5,-129.5 408.5,-129.5 408.5,-83.5 127.5,-83.5\" stroke=\"#000000\"/>\n<text fill=\"#000000\" font-family=\"Times,serif\" font-size=\"14.00\" text-anchor=\"middle\" x=\"184\" y=\"-102.8\">flatten_1: Flatten</text>\n<polyline fill=\"none\" points=\"240.5,-83.5 240.5,-129.5 \" stroke=\"#000000\"/>\n<text fill=\"#000000\" font-family=\"Times,serif\" font-size=\"14.00\" text-anchor=\"middle\" x=\"269.5\" y=\"-114.3\">input:</text>\n<polyline fill=\"none\" points=\"240.5,-106.5 298.5,-106.5 \" stroke=\"#000000\"/>\n<text fill=\"#000000\" font-family=\"Times,serif\" font-size=\"14.00\" text-anchor=\"middle\" x=\"269.5\" y=\"-91.3\">output:</text>\n<polyline fill=\"none\" points=\"298.5,-83.5 298.5,-129.5 \" stroke=\"#000000\"/>\n<text fill=\"#000000\" font-family=\"Times,serif\" font-size=\"14.00\" text-anchor=\"middle\" x=\"353.5\" y=\"-114.3\">(None, 80, 256)</text>\n<polyline fill=\"none\" points=\"298.5,-106.5 408.5,-106.5 \" stroke=\"#000000\"/>\n<text fill=\"#000000\" font-family=\"Times,serif\" font-size=\"14.00\" text-anchor=\"middle\" x=\"353.5\" y=\"-91.3\">(None, 20480)</text>\n</g>\n<!-- 140463223364016&#45;&gt;140463227865800 -->\n<g class=\"edge\" id=\"edge10\">\n<title>140463223364016-&gt;140463227865800</title>\n<path d=\"M268,-166.3799C268,-158.1745 268,-148.7679 268,-139.8786\" fill=\"none\" stroke=\"#000000\"/>\n<polygon fill=\"#000000\" points=\"271.5001,-139.784 268,-129.784 264.5001,-139.784 271.5001,-139.784\" stroke=\"#000000\"/>\n</g>\n<!-- 140463223365192 -->\n<g class=\"node\" id=\"node11\">\n<title>140463223365192</title>\n<polygon fill=\"none\" points=\"134.5,-.5 134.5,-46.5 401.5,-46.5 401.5,-.5 134.5,-.5\" stroke=\"#000000\"/>\n<text fill=\"#000000\" font-family=\"Times,serif\" font-size=\"14.00\" text-anchor=\"middle\" x=\"188\" y=\"-19.8\">dense_6: Dense</text>\n<polyline fill=\"none\" points=\"241.5,-.5 241.5,-46.5 \" stroke=\"#000000\"/>\n<text fill=\"#000000\" font-family=\"Times,serif\" font-size=\"14.00\" text-anchor=\"middle\" x=\"270.5\" y=\"-31.3\">input:</text>\n<polyline fill=\"none\" points=\"241.5,-23.5 299.5,-23.5 \" stroke=\"#000000\"/>\n<text fill=\"#000000\" font-family=\"Times,serif\" font-size=\"14.00\" text-anchor=\"middle\" x=\"270.5\" y=\"-8.3\">output:</text>\n<polyline fill=\"none\" points=\"299.5,-.5 299.5,-46.5 \" stroke=\"#000000\"/>\n<text fill=\"#000000\" font-family=\"Times,serif\" font-size=\"14.00\" text-anchor=\"middle\" x=\"350.5\" y=\"-31.3\">(None, 20480)</text>\n<polyline fill=\"none\" points=\"299.5,-23.5 401.5,-23.5 \" stroke=\"#000000\"/>\n<text fill=\"#000000\" font-family=\"Times,serif\" font-size=\"14.00\" text-anchor=\"middle\" x=\"350.5\" y=\"-8.3\">(None, 1)</text>\n</g>\n<!-- 140463227865800&#45;&gt;140463223365192 -->\n<g class=\"edge\" id=\"edge11\">\n<title>140463227865800-&gt;140463223365192</title>\n<path d=\"M268,-83.3799C268,-75.1745 268,-65.7679 268,-56.8786\" fill=\"none\" stroke=\"#000000\"/>\n<polygon fill=\"#000000\" points=\"271.5001,-56.784 268,-46.784 264.5001,-56.784 271.5001,-56.784\" stroke=\"#000000\"/>\n</g>\n</g>\n</svg>"
          },
          "metadata": {
            "tags": []
          },
          "execution_count": 27
        }
      ]
    },
    {
      "cell_type": "markdown",
      "metadata": {
        "id": "0bWNv-7H7FK3",
        "colab_type": "text"
      },
      "source": [
        "## 4.Training"
      ]
    },
    {
      "cell_type": "code",
      "metadata": {
        "id": "zFaDeCkQ5j8I",
        "colab_type": "code",
        "outputId": "cff19087-b1a8-498f-99ee-13bd8c07c582",
        "colab": {
          "base_uri": "https://localhost:8080/",
          "height": 748
        }
      },
      "source": [
        "%%time\n",
        "epochs = 20\n",
        "validation_split = 0.2\n",
        "\n",
        "history = model.fit(x_train, y_train, batch_size=128,\n",
        "          epochs=epochs, \n",
        "          validation_split=validation_split)"
      ],
      "execution_count": 28,
      "outputs": [
        {
          "output_type": "stream",
          "text": [
            "Train on 20000 samples, validate on 5000 samples\n",
            "Epoch 1/20\n",
            "20000/20000 [==============================] - 4s 212us/step - loss: 0.6445 - acc: 0.6235 - val_loss: 0.6874 - val_acc: 0.6314\n",
            "Epoch 2/20\n",
            "20000/20000 [==============================] - 3s 168us/step - loss: 0.5985 - acc: 0.6811 - val_loss: 0.5751 - val_acc: 0.6944\n",
            "Epoch 3/20\n",
            "20000/20000 [==============================] - 3s 169us/step - loss: 0.5756 - acc: 0.6996 - val_loss: 0.5373 - val_acc: 0.7352\n",
            "Epoch 4/20\n",
            "20000/20000 [==============================] - 3s 169us/step - loss: 0.5582 - acc: 0.7111 - val_loss: 0.5529 - val_acc: 0.7110\n",
            "Epoch 5/20\n",
            "20000/20000 [==============================] - 3s 170us/step - loss: 0.5456 - acc: 0.7210 - val_loss: 0.4965 - val_acc: 0.7600\n",
            "Epoch 6/20\n",
            "20000/20000 [==============================] - 3s 170us/step - loss: 0.5345 - acc: 0.7294 - val_loss: 0.5146 - val_acc: 0.7346\n",
            "Epoch 7/20\n",
            "20000/20000 [==============================] - 3s 171us/step - loss: 0.5259 - acc: 0.7323 - val_loss: 0.4784 - val_acc: 0.7724\n",
            "Epoch 8/20\n",
            "20000/20000 [==============================] - 3s 171us/step - loss: 0.5178 - acc: 0.7396 - val_loss: 0.4828 - val_acc: 0.7634\n",
            "Epoch 9/20\n",
            "20000/20000 [==============================] - 3s 171us/step - loss: 0.5073 - acc: 0.7475 - val_loss: 0.4734 - val_acc: 0.7724\n",
            "Epoch 10/20\n",
            "20000/20000 [==============================] - 3s 172us/step - loss: 0.5026 - acc: 0.7514 - val_loss: 0.4962 - val_acc: 0.7570\n",
            "Epoch 11/20\n",
            "20000/20000 [==============================] - 3s 172us/step - loss: 0.4955 - acc: 0.7521 - val_loss: 0.4722 - val_acc: 0.7724\n",
            "Epoch 12/20\n",
            "20000/20000 [==============================] - 3s 172us/step - loss: 0.4891 - acc: 0.7560 - val_loss: 0.4727 - val_acc: 0.7754\n",
            "Epoch 13/20\n",
            "20000/20000 [==============================] - 3s 171us/step - loss: 0.4826 - acc: 0.7613 - val_loss: 0.4681 - val_acc: 0.7836\n",
            "Epoch 14/20\n",
            "20000/20000 [==============================] - 3s 171us/step - loss: 0.4755 - acc: 0.7666 - val_loss: 0.4762 - val_acc: 0.7748\n",
            "Epoch 15/20\n",
            "20000/20000 [==============================] - 3s 172us/step - loss: 0.4732 - acc: 0.7685 - val_loss: 0.4576 - val_acc: 0.7880\n",
            "Epoch 16/20\n",
            "20000/20000 [==============================] - 3s 173us/step - loss: 0.4655 - acc: 0.7739 - val_loss: 0.4722 - val_acc: 0.7782\n",
            "Epoch 17/20\n",
            "20000/20000 [==============================] - 3s 172us/step - loss: 0.4620 - acc: 0.7747 - val_loss: 0.4644 - val_acc: 0.7776\n",
            "Epoch 18/20\n",
            "20000/20000 [==============================] - 3s 171us/step - loss: 0.4552 - acc: 0.7814 - val_loss: 0.4550 - val_acc: 0.7852\n",
            "Epoch 19/20\n",
            "20000/20000 [==============================] - 3s 170us/step - loss: 0.4493 - acc: 0.7809 - val_loss: 0.4585 - val_acc: 0.7884\n",
            "Epoch 20/20\n",
            "20000/20000 [==============================] - 3s 171us/step - loss: 0.4412 - acc: 0.7905 - val_loss: 0.4605 - val_acc: 0.7844\n",
            "CPU times: user 1min, sys: 6.97 s, total: 1min 7s\n",
            "Wall time: 1min 9s\n"
          ],
          "name": "stdout"
        }
      ]
    },
    {
      "cell_type": "code",
      "metadata": {
        "id": "KCsN078C5jw9",
        "colab_type": "code",
        "outputId": "1be729be-e1d1-4866-ea70-d7319bf77c9e",
        "colab": {
          "base_uri": "https://localhost:8080/",
          "height": 34
        }
      },
      "source": [
        "scores = model.evaluate(x_test, y_test, verbose=2)\n",
        "print(\"%s: %.2f%%\" % (model.metrics_names[1], scores[1]*100))"
      ],
      "execution_count": 29,
      "outputs": [
        {
          "output_type": "stream",
          "text": [
            "acc: 78.15%\n"
          ],
          "name": "stdout"
        }
      ]
    },
    {
      "cell_type": "markdown",
      "metadata": {
        "id": "BuxJEWWt50j-",
        "colab_type": "text"
      },
      "source": [
        "## Attention visualization"
      ]
    },
    {
      "cell_type": "code",
      "metadata": {
        "id": "_SR_771BVclq",
        "colab_type": "code",
        "colab": {}
      },
      "source": [
        "def get_activations(model, inputs, layer_name=None):\n",
        "    # Documentation is available online on Github at the address below.\n",
        "    # From: https://github.com/philipperemy/keras-visualize-activations\n",
        "    print('----- activations -----')\n",
        "    activations = []\n",
        "    if layer_name is None:\n",
        "        layers = [layer.output for layer in model.layers]\n",
        "    else:\n",
        "        layers = [layer.output for layer in model.layers if layer.name == layer_name]  # all layer outputs\n",
        "    \n",
        "    funcs = [K.function([model.input, K.learning_phase()], [layer]) for layer in layers]  # evaluation functions\n",
        "    \n",
        "    layer_outputs = [func([inputs, 1]) for func in funcs]\n",
        "    \n",
        "    print(len(layer_outputs), len(layer_outputs[0]), layer_outputs[0][0].shape)\n",
        "    \n",
        "    return layer_outputs[0][0][0]"
      ],
      "execution_count": 0,
      "outputs": []
    },
    {
      "cell_type": "code",
      "metadata": {
        "id": "T_5YkXnkaVI3",
        "colab_type": "code",
        "outputId": "01a0ca5f-e846-4ea9-dc79-12e4395dfc7d",
        "colab": {
          "base_uri": "https://localhost:8080/",
          "height": 340
        }
      },
      "source": [
        "sample = x_train[1]\n",
        "label = y_train[1]\n",
        "\n",
        "inputs = np.expand_dims(sample, axis=0)\n",
        "\n",
        "print('inputs data shape:', inputs.shape)\n",
        "\n",
        "activations = get_activations(model, inputs, layer_name='attention_vec')\n",
        "\n",
        "print(activations.shape)\n",
        "\n",
        "attention_vector = np.mean(activations, axis=1).squeeze()\n",
        "print('attention:')\n",
        "print(attention_vector)\n",
        "\n",
        "assert (np.sum(attention_vector) - 1.0) < 1e-5"
      ],
      "execution_count": 34,
      "outputs": [
        {
          "output_type": "stream",
          "text": [
            "inputs data shape: (1, 80)\n",
            "----- activations -----\n",
            "1 1 (1, 80, 256)\n",
            "(80, 256)\n",
            "attention:\n",
            "[0.00530922 0.01043579 0.00995418 0.00618045 0.00914546 0.01151391\n",
            " 0.00694041 0.01258886 0.01803346 0.01091918 0.0363     0.00979462\n",
            " 0.00846224 0.04192033 0.01101389 0.04685474 0.00841259 0.00752609\n",
            " 0.01988479 0.00586914 0.00683325 0.00747261 0.01853474 0.00722614\n",
            " 0.00604562 0.00711644 0.0058468  0.00753283 0.01179648 0.01150804\n",
            " 0.00824825 0.00841381 0.00866597 0.00771399 0.0076501  0.00643135\n",
            " 0.00533645 0.0098714  0.01319305 0.00780491 0.03347264 0.00708629\n",
            " 0.01127074 0.00549441 0.00851036 0.00654391 0.00986857 0.00806192\n",
            " 0.00624472 0.03274516 0.02570172 0.08882745 0.02267882 0.00595991\n",
            " 0.00948961 0.01834263 0.01060998 0.00587359 0.00685671 0.00639419\n",
            " 0.00674211 0.00714854 0.02199705 0.00728312 0.0103486  0.01574499\n",
            " 0.008606   0.01583651 0.00678484 0.00785065 0.00932697 0.00629636\n",
            " 0.0085499  0.01049377 0.00782604 0.00776382 0.00700607 0.01111082\n",
            " 0.01057423 0.01237469]\n"
          ],
          "name": "stdout"
        }
      ]
    },
    {
      "cell_type": "code",
      "metadata": {
        "id": "FlxPqDI8hcsb",
        "colab_type": "code",
        "outputId": "ef338ed2-ba7e-4c05-efc4-fa5544a96233",
        "colab": {
          "base_uri": "https://localhost:8080/",
          "height": 614
        }
      },
      "source": [
        "pd.DataFrame(attention_vector, columns=['attention (%)']).plot(kind='bar', title='Attention Mechanism as a function of input dimensions.', figsize=(20, 10))\n",
        "plt.show()"
      ],
      "execution_count": 35,
      "outputs": [
        {
          "output_type": "display_data",
          "data": {
            "image/png": "[encoded data removed]",
            "text/plain": [
              "<Figure size 1440x720 with 1 Axes>"
            ]
          },
          "metadata": {
            "tags": []
          }
        }
      ]
    },
    {
      "cell_type": "code",
      "metadata": {
        "id": "BvNawSQfhcqR",
        "colab_type": "code",
        "outputId": "0cc7562f-814f-45c2-abe1-406c2fcbf3e8",
        "colab": {
          "base_uri": "https://localhost:8080/",
          "height": 71
        }
      },
      "source": [
        "words = [(i, idx2word[index]) for i, index in enumerate(sample)]\n",
        "print(words)\n",
        "print(label)"
      ],
      "execution_count": 36,
      "outputs": [
        {
          "output_type": "stream",
          "text": [
            "[(0, '<START>'), (1, 'big'), (2, 'hair'), (3, 'big'), (4, 'boobs'), (5, 'bad'), (6, 'music'), (7, 'and'), (8, 'a'), (9, 'giant'), (10, 'safety'), (11, 'pin'), (12, 'these'), (13, 'are'), (14, 'the'), (15, 'words'), (16, 'to'), (17, 'best'), (18, 'describe'), (19, 'this'), (20, 'terrible'), (21, 'movie'), (22, 'i'), (23, 'love'), (24, 'cheesy'), (25, 'horror'), (26, 'movies'), (27, 'and'), (28, \"i've\"), (29, 'seen'), (30, 'hundreds'), (31, 'but'), (32, 'this'), (33, 'had'), (34, 'got'), (35, 'to'), (36, 'be'), (37, 'on'), (38, 'of'), (39, 'the'), (40, 'worst'), (41, 'ever'), (42, 'made'), (43, 'the'), (44, 'plot'), (45, 'is'), (46, 'paper'), (47, 'thin'), (48, 'and'), (49, 'ridiculous'), (50, 'the'), (51, 'acting'), (52, 'is'), (53, 'an'), (54, 'abomination'), (55, 'the'), (56, 'script'), (57, 'is'), (58, 'completely'), (59, 'laughable'), (60, 'the'), (61, 'best'), (62, 'is'), (63, 'the'), (64, 'end'), (65, 'showdown'), (66, 'with'), (67, 'the'), (68, 'cop'), (69, 'and'), (70, 'how'), (71, 'he'), (72, 'worked'), (73, 'out'), (74, 'who'), (75, 'the'), (76, 'killer'), (77, 'is'), (78, \"it's\"), (79, 'just')]\n",
            "0\n"
          ],
          "name": "stdout"
        }
      ]
    }
  ]
}