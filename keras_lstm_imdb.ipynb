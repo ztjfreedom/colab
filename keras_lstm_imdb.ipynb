{
  "nbformat": 4,
  "nbformat_minor": 0,
  "metadata": {
    "colab": {
      "name": "keras_lstm_imdb.ipynb",
      "version": "0.3.2",
      "provenance": [],
      "collapsed_sections": [],
      "toc_visible": true,
      "include_colab_link": true
    },
    "language_info": {
      "codemirror_mode": {
        "name": "ipython",
        "version": 3
      },
      "file_extension": ".py",
      "mimetype": "text/x-python",
      "name": "python",
      "nbconvert_exporter": "python",
      "pygments_lexer": "ipython3",
      "version": "3.5.2"
    },
    "kernelspec": {
      "name": "python3",
      "display_name": "Python 3"
    },
    "accelerator": "GPU"
  },
  "cells": [
    {
      "cell_type": "markdown",
      "metadata": {
        "id": "view-in-github",
        "colab_type": "text"
      },
      "source": [
        "<a href=\"https://colab.research.google.com/github/ztjfreedom/colab/blob/master/keras_lstm_imdb.ipynb\" target=\"_parent\"><img src=\"https://colab.research.google.com/assets/colab-badge.svg\" alt=\"Open In Colab\"/></a>"
      ]
    },
    {
      "cell_type": "markdown",
      "metadata": {
        "id": "fycwvuqNH_OW",
        "colab_type": "text"
      },
      "source": [
        "# IMDB movie review sentiment classification with LSTM\n",
        "\n",
        "In this notebook, we'll train a LSTM for sentiment classification using Keras (with either Theano or Tensorflow as the compute backend).  Keras version $\\ge$ 2 is required. This notebook is largely based on the [Understanding recurrent neural networks](https://github.com/fchollet/deep-learning-with-python-notebooks/blob/master/6.2-understanding-recurrent-neural-networks.ipynb) by François Chollet.\n",
        "\n",
        "First, the needed imports. Keras tells us which backend (Theano, Tensorflow, CNTK) it will be using."
      ]
    },
    {
      "cell_type": "code",
      "metadata": {
        "id": "y79WFfQHH_OX",
        "colab_type": "code",
        "outputId": "aa6ee98c-e8b2-4fd0-f96a-51a971b2f23a",
        "colab": {
          "base_uri": "https://localhost:8080/",
          "height": 51
        }
      },
      "source": [
        "%matplotlib inline\n",
        "\n",
        "from keras.preprocessing import sequence\n",
        "from keras.models import Sequential\n",
        "from keras.layers import Dense, Embedding, Dropout\n",
        "from keras.layers import LSTM, CuDNNLSTM\n",
        "from keras.datasets import imdb\n",
        "\n",
        "from distutils.version import LooseVersion as LV\n",
        "from keras import __version__\n",
        "from keras import backend as K\n",
        "\n",
        "from IPython.display import SVG\n",
        "from keras.utils.vis_utils import model_to_dot\n",
        "\n",
        "import numpy as np\n",
        "import matplotlib.pyplot as plt\n",
        "import seaborn as sns\n",
        "sns.set()\n",
        "\n",
        "print('Using Keras version:', __version__, 'backend:', K.backend())\n",
        "assert(LV(__version__) >= LV(\"2.0.0\"))"
      ],
      "execution_count": 0,
      "outputs": [
        {
          "output_type": "stream",
          "text": [
            "Using TensorFlow backend.\n"
          ],
          "name": "stderr"
        },
        {
          "output_type": "stream",
          "text": [
            "Using Keras version: 2.2.4 backend: tensorflow\n"
          ],
          "name": "stdout"
        }
      ]
    },
    {
      "cell_type": "markdown",
      "metadata": {
        "id": "BlcUB96GH_Oa",
        "colab_type": "text"
      },
      "source": [
        "## IMDB data set\n",
        "\n",
        "Next we'll load the IMDB data set. First time we may have to download the data, which can take a while.\n",
        "\n",
        "The dataset contains 50000 movies reviews from the Internet Movie Database, split into 25000 reviews for training and 25000 reviews for testing. Half of the reviews are positive (1) and half are negative (0).\n",
        "\n",
        "The dataset has already been preprocessed, and each word has been replaced by an integer index.\n",
        "The reviews are thus represented as varying-length sequences of integers.\n",
        "(Word indices begin at \"3\", as \"1\" is used to mark the start of a review and \"2\" represents all out-of-vocabulary words. \"0\" will be used later to pad shorter reviews to a fixed size.)"
      ]
    },
    {
      "cell_type": "code",
      "metadata": {
        "id": "WrYQreHPH_Ob",
        "colab_type": "code",
        "outputId": "b72b2661-0cd4-4a0b-bdbf-c2c321f8f613",
        "colab": {
          "base_uri": "https://localhost:8080/",
          "height": 136
        }
      },
      "source": [
        "# number of most-frequent words to use\n",
        "nb_words = 10000\n",
        "# cut texts after this number of words\n",
        "maxlen = 80\n",
        "\n",
        "print('Loading data...')\n",
        "(x_train, y_train), (x_test, y_test) = imdb.load_data(num_words=nb_words)\n",
        "print('x_train:', x_train.shape)\n",
        "print('x_test:', x_test.shape)\n",
        "print()\n",
        "\n",
        "print('Pad sequences (samples x time)')\n",
        "x_train = sequence.pad_sequences(x_train, maxlen=maxlen)  # \"0\" is used for padding by default\n",
        "x_test = sequence.pad_sequences(x_test, maxlen=maxlen)\n",
        "print('x_train shape:', x_train.shape)\n",
        "print('x_test shape:', x_test.shape)"
      ],
      "execution_count": 0,
      "outputs": [
        {
          "output_type": "stream",
          "text": [
            "Loading data...\n",
            "x_train: (25000,)\n",
            "x_test: (25000,)\n",
            "\n",
            "Pad sequences (samples x time)\n",
            "x_train shape: (25000, 80)\n",
            "x_test shape: (25000, 80)\n"
          ],
          "name": "stdout"
        }
      ]
    },
    {
      "cell_type": "markdown",
      "metadata": {
        "id": "P7aNzn4zH_Od",
        "colab_type": "text"
      },
      "source": [
        "The first movie review in the training set:"
      ]
    },
    {
      "cell_type": "code",
      "metadata": {
        "id": "ojhxJT-6H_Od",
        "colab_type": "code",
        "outputId": "12c69838-d42f-49e6-a11e-643e1d441a91",
        "colab": {
          "base_uri": "https://localhost:8080/",
          "height": 136
        }
      },
      "source": [
        "print(\"First review in the training set:\\n\", x_train[0], \"length:\", len(x_train[0]), \"class:\", y_train[0])"
      ],
      "execution_count": 0,
      "outputs": [
        {
          "output_type": "stream",
          "text": [
            "First review in the training set:\n",
            " [  15  256    4    2    7 3766    5  723   36   71   43  530  476   26\n",
            "  400  317   46    7    4    2 1029   13  104   88    4  381   15  297\n",
            "   98   32 2071   56   26  141    6  194 7486   18    4  226   22   21\n",
            "  134  476   26  480    5  144   30 5535   18   51   36   28  224   92\n",
            "   25  104    4  226   65   16   38 1334   88   12   16  283    5   16\n",
            " 4472  113  103   32   15   16 5345   19  178   32] length: 80 class: 1\n"
          ],
          "name": "stdout"
        }
      ]
    },
    {
      "cell_type": "markdown",
      "metadata": {
        "id": "aot1wB_rH_Of",
        "colab_type": "text"
      },
      "source": [
        "## Initialization\n",
        "\n",
        "Let's create an RNN model that has one (or optionally two) LSTM layers. Dropout  The first layer in the network is an *Embedding* layer that converts integer indices to dense vectors of length `embedding_dims`. The output layer contains a single neuron and *sigmoid* non-linearity to match the binary groundtruth (`y_train`). \n",
        "\n",
        "Finally, we `compile()` the model, using *binary crossentropy* as the loss function and [*RMSprop*](https://keras.io/optimizers/#rmsprop) as the optimizer."
      ]
    },
    {
      "cell_type": "code",
      "metadata": {
        "id": "EaxjnsuzH_Og",
        "colab_type": "code",
        "outputId": "d18c65a6-8c95-45cb-dcd4-70bad313250d",
        "colab": {
          "base_uri": "https://localhost:8080/",
          "height": 649
        }
      },
      "source": [
        "# model parameters:\n",
        "embedding_dims = 50\n",
        "lstm_units = 32\n",
        "\n",
        "print('Build model...')\n",
        "model = Sequential()\n",
        "\n",
        "model.add(Embedding(nb_words,\n",
        "                    embedding_dims,\n",
        "                    input_length=maxlen))\n",
        "model.add(Dropout(0.2))\n",
        "\n",
        "# CPU ver:\n",
        "#model.add(LSTM(lstm_units))\n",
        "# GPU ver:\n",
        "model.add(CuDNNLSTM(lstm_units))\n",
        "\n",
        "# to stack multiple RNN layers, all RNN layers except the last one need\n",
        "# to have \"return_sequences=True\".  An example of using two RNN layers:\n",
        "#model.add(LSTM(lstm_units, return_sequences=True))\n",
        "#model.add(LSTM(lstm_units))\n",
        "\n",
        "model.add(Dense(1, activation='sigmoid'))\n",
        "\n",
        "# try using different optimizers and different optimizer configs\n",
        "model.compile(loss='binary_crossentropy',\n",
        "              optimizer='rmsprop',\n",
        "              metrics=['accuracy'])\n",
        "print(model.summary())"
      ],
      "execution_count": 0,
      "outputs": [
        {
          "output_type": "stream",
          "text": [
            "WARNING: Logging before flag parsing goes to stderr.\n",
            "W0623 11:49:43.140576 140018993514368 deprecation_wrapper.py:119] From /usr/local/lib/python3.6/dist-packages/keras/backend/tensorflow_backend.py:74: The name tf.get_default_graph is deprecated. Please use tf.compat.v1.get_default_graph instead.\n",
            "\n",
            "W0623 11:49:43.186817 140018993514368 deprecation_wrapper.py:119] From /usr/local/lib/python3.6/dist-packages/keras/backend/tensorflow_backend.py:517: The name tf.placeholder is deprecated. Please use tf.compat.v1.placeholder instead.\n",
            "\n",
            "W0623 11:49:43.194473 140018993514368 deprecation_wrapper.py:119] From /usr/local/lib/python3.6/dist-packages/keras/backend/tensorflow_backend.py:4138: The name tf.random_uniform is deprecated. Please use tf.random.uniform instead.\n",
            "\n",
            "W0623 11:49:43.211484 140018993514368 deprecation_wrapper.py:119] From /usr/local/lib/python3.6/dist-packages/keras/backend/tensorflow_backend.py:133: The name tf.placeholder_with_default is deprecated. Please use tf.compat.v1.placeholder_with_default instead.\n",
            "\n",
            "W0623 11:49:43.221423 140018993514368 deprecation.py:506] From /usr/local/lib/python3.6/dist-packages/keras/backend/tensorflow_backend.py:3445: calling dropout (from tensorflow.python.ops.nn_ops) with keep_prob is deprecated and will be removed in a future version.\n",
            "Instructions for updating:\n",
            "Please use `rate` instead of `keep_prob`. Rate should be set to `rate = 1 - keep_prob`.\n"
          ],
          "name": "stderr"
        },
        {
          "output_type": "stream",
          "text": [
            "Build model...\n"
          ],
          "name": "stdout"
        },
        {
          "output_type": "stream",
          "text": [
            "W0623 11:49:45.876218 140018993514368 deprecation_wrapper.py:119] From /usr/local/lib/python3.6/dist-packages/keras/optimizers.py:790: The name tf.train.Optimizer is deprecated. Please use tf.compat.v1.train.Optimizer instead.\n",
            "\n",
            "W0623 11:49:45.899654 140018993514368 deprecation_wrapper.py:119] From /usr/local/lib/python3.6/dist-packages/keras/backend/tensorflow_backend.py:3376: The name tf.log is deprecated. Please use tf.math.log instead.\n",
            "\n",
            "W0623 11:49:45.907193 140018993514368 deprecation.py:323] From /usr/local/lib/python3.6/dist-packages/tensorflow/python/ops/nn_impl.py:180: add_dispatch_support.<locals>.wrapper (from tensorflow.python.ops.array_ops) is deprecated and will be removed in a future version.\n",
            "Instructions for updating:\n",
            "Use tf.where in 2.0, which has the same broadcast rule as np.where\n"
          ],
          "name": "stderr"
        },
        {
          "output_type": "stream",
          "text": [
            "_________________________________________________________________\n",
            "Layer (type)                 Output Shape              Param #   \n",
            "=================================================================\n",
            "embedding_1 (Embedding)      (None, 80, 50)            500000    \n",
            "_________________________________________________________________\n",
            "dropout_1 (Dropout)          (None, 80, 50)            0         \n",
            "_________________________________________________________________\n",
            "cu_dnnlstm_1 (CuDNNLSTM)     (None, 32)                10752     \n",
            "_________________________________________________________________\n",
            "dense_1 (Dense)              (None, 1)                 33        \n",
            "=================================================================\n",
            "Total params: 510,785\n",
            "Trainable params: 510,785\n",
            "Non-trainable params: 0\n",
            "_________________________________________________________________\n",
            "None\n"
          ],
          "name": "stdout"
        }
      ]
    },
    {
      "cell_type": "code",
      "metadata": {
        "id": "27hl4Jh4H_Oi",
        "colab_type": "code",
        "outputId": "5a1afcfb-e26e-4da9-c809-6225ebc076ed",
        "colab": {
          "base_uri": "https://localhost:8080/",
          "height": 524
        }
      },
      "source": [
        "SVG(model_to_dot(model, show_shapes=True).create(prog='dot', format='svg'))"
      ],
      "execution_count": 0,
      "outputs": [
        {
          "output_type": "execute_result",
          "data": {
            "text/plain": [
              "<IPython.core.display.SVG object>"
            ],
            "image/svg+xml": "<svg height=\"377pt\" viewBox=\"0.00 0.00 362.00 377.00\" width=\"362pt\" xmlns=\"http://www.w3.org/2000/svg\" xmlns:xlink=\"http://www.w3.org/1999/xlink\">\n<g class=\"graph\" id=\"graph0\" transform=\"scale(1 1) rotate(0) translate(4 373)\">\n<title>G</title>\n<polygon fill=\"#ffffff\" points=\"-4,4 -4,-373 358,-373 358,4 -4,4\" stroke=\"transparent\"/>\n<!-- 140017584862152 -->\n<g class=\"node\" id=\"node1\">\n<title>140017584862152</title>\n<polygon fill=\"none\" points=\"11.5,-249.5 11.5,-295.5 342.5,-295.5 342.5,-249.5 11.5,-249.5\" stroke=\"#000000\"/>\n<text fill=\"#000000\" font-family=\"Times,serif\" font-size=\"14.00\" text-anchor=\"middle\" x=\"97\" y=\"-268.8\">embedding_1: Embedding</text>\n<polyline fill=\"none\" points=\"182.5,-249.5 182.5,-295.5 \" stroke=\"#000000\"/>\n<text fill=\"#000000\" font-family=\"Times,serif\" font-size=\"14.00\" text-anchor=\"middle\" x=\"211.5\" y=\"-280.3\">input:</text>\n<polyline fill=\"none\" points=\"182.5,-272.5 240.5,-272.5 \" stroke=\"#000000\"/>\n<text fill=\"#000000\" font-family=\"Times,serif\" font-size=\"14.00\" text-anchor=\"middle\" x=\"211.5\" y=\"-257.3\">output:</text>\n<polyline fill=\"none\" points=\"240.5,-249.5 240.5,-295.5 \" stroke=\"#000000\"/>\n<text fill=\"#000000\" font-family=\"Times,serif\" font-size=\"14.00\" text-anchor=\"middle\" x=\"291.5\" y=\"-280.3\">(None, 80)</text>\n<polyline fill=\"none\" points=\"240.5,-272.5 342.5,-272.5 \" stroke=\"#000000\"/>\n<text fill=\"#000000\" font-family=\"Times,serif\" font-size=\"14.00\" text-anchor=\"middle\" x=\"291.5\" y=\"-257.3\">(None, 80, 50)</text>\n</g>\n<!-- 140018425224048 -->\n<g class=\"node\" id=\"node2\">\n<title>140018425224048</title>\n<polygon fill=\"none\" points=\"30,-166.5 30,-212.5 324,-212.5 324,-166.5 30,-166.5\" stroke=\"#000000\"/>\n<text fill=\"#000000\" font-family=\"Times,serif\" font-size=\"14.00\" text-anchor=\"middle\" x=\"97\" y=\"-185.8\">dropout_1: Dropout</text>\n<polyline fill=\"none\" points=\"164,-166.5 164,-212.5 \" stroke=\"#000000\"/>\n<text fill=\"#000000\" font-family=\"Times,serif\" font-size=\"14.00\" text-anchor=\"middle\" x=\"193\" y=\"-197.3\">input:</text>\n<polyline fill=\"none\" points=\"164,-189.5 222,-189.5 \" stroke=\"#000000\"/>\n<text fill=\"#000000\" font-family=\"Times,serif\" font-size=\"14.00\" text-anchor=\"middle\" x=\"193\" y=\"-174.3\">output:</text>\n<polyline fill=\"none\" points=\"222,-166.5 222,-212.5 \" stroke=\"#000000\"/>\n<text fill=\"#000000\" font-family=\"Times,serif\" font-size=\"14.00\" text-anchor=\"middle\" x=\"273\" y=\"-197.3\">(None, 80, 50)</text>\n<polyline fill=\"none\" points=\"222,-189.5 324,-189.5 \" stroke=\"#000000\"/>\n<text fill=\"#000000\" font-family=\"Times,serif\" font-size=\"14.00\" text-anchor=\"middle\" x=\"273\" y=\"-174.3\">(None, 80, 50)</text>\n</g>\n<!-- 140017584862152&#45;&gt;140018425224048 -->\n<g class=\"edge\" id=\"edge2\">\n<title>140017584862152-&gt;140018425224048</title>\n<path d=\"M177,-249.3799C177,-241.1745 177,-231.7679 177,-222.8786\" fill=\"none\" stroke=\"#000000\"/>\n<polygon fill=\"#000000\" points=\"180.5001,-222.784 177,-212.784 173.5001,-222.784 180.5001,-222.784\" stroke=\"#000000\"/>\n</g>\n<!-- 140018425224440 -->\n<g class=\"node\" id=\"node3\">\n<title>140018425224440</title>\n<polygon fill=\"none\" points=\"0,-83.5 0,-129.5 354,-129.5 354,-83.5 0,-83.5\" stroke=\"#000000\"/>\n<text fill=\"#000000\" font-family=\"Times,serif\" font-size=\"14.00\" text-anchor=\"middle\" x=\"97\" y=\"-102.8\">cu_dnnlstm_1: CuDNNLSTM</text>\n<polyline fill=\"none\" points=\"194,-83.5 194,-129.5 \" stroke=\"#000000\"/>\n<text fill=\"#000000\" font-family=\"Times,serif\" font-size=\"14.00\" text-anchor=\"middle\" x=\"223\" y=\"-114.3\">input:</text>\n<polyline fill=\"none\" points=\"194,-106.5 252,-106.5 \" stroke=\"#000000\"/>\n<text fill=\"#000000\" font-family=\"Times,serif\" font-size=\"14.00\" text-anchor=\"middle\" x=\"223\" y=\"-91.3\">output:</text>\n<polyline fill=\"none\" points=\"252,-83.5 252,-129.5 \" stroke=\"#000000\"/>\n<text fill=\"#000000\" font-family=\"Times,serif\" font-size=\"14.00\" text-anchor=\"middle\" x=\"303\" y=\"-114.3\">(None, 80, 50)</text>\n<polyline fill=\"none\" points=\"252,-106.5 354,-106.5 \" stroke=\"#000000\"/>\n<text fill=\"#000000\" font-family=\"Times,serif\" font-size=\"14.00\" text-anchor=\"middle\" x=\"303\" y=\"-91.3\">(None, 32)</text>\n</g>\n<!-- 140018425224048&#45;&gt;140018425224440 -->\n<g class=\"edge\" id=\"edge3\">\n<title>140018425224048-&gt;140018425224440</title>\n<path d=\"M177,-166.3799C177,-158.1745 177,-148.7679 177,-139.8786\" fill=\"none\" stroke=\"#000000\"/>\n<polygon fill=\"#000000\" points=\"180.5001,-139.784 177,-129.784 173.5001,-139.784 180.5001,-139.784\" stroke=\"#000000\"/>\n</g>\n<!-- 140018416378320 -->\n<g class=\"node\" id=\"node4\">\n<title>140018416378320</title>\n<polygon fill=\"none\" points=\"54.5,-.5 54.5,-46.5 299.5,-46.5 299.5,-.5 54.5,-.5\" stroke=\"#000000\"/>\n<text fill=\"#000000\" font-family=\"Times,serif\" font-size=\"14.00\" text-anchor=\"middle\" x=\"108\" y=\"-19.8\">dense_1: Dense</text>\n<polyline fill=\"none\" points=\"161.5,-.5 161.5,-46.5 \" stroke=\"#000000\"/>\n<text fill=\"#000000\" font-family=\"Times,serif\" font-size=\"14.00\" text-anchor=\"middle\" x=\"190.5\" y=\"-31.3\">input:</text>\n<polyline fill=\"none\" points=\"161.5,-23.5 219.5,-23.5 \" stroke=\"#000000\"/>\n<text fill=\"#000000\" font-family=\"Times,serif\" font-size=\"14.00\" text-anchor=\"middle\" x=\"190.5\" y=\"-8.3\">output:</text>\n<polyline fill=\"none\" points=\"219.5,-.5 219.5,-46.5 \" stroke=\"#000000\"/>\n<text fill=\"#000000\" font-family=\"Times,serif\" font-size=\"14.00\" text-anchor=\"middle\" x=\"259.5\" y=\"-31.3\">(None, 32)</text>\n<polyline fill=\"none\" points=\"219.5,-23.5 299.5,-23.5 \" stroke=\"#000000\"/>\n<text fill=\"#000000\" font-family=\"Times,serif\" font-size=\"14.00\" text-anchor=\"middle\" x=\"259.5\" y=\"-8.3\">(None, 1)</text>\n</g>\n<!-- 140018425224440&#45;&gt;140018416378320 -->\n<g class=\"edge\" id=\"edge4\">\n<title>140018425224440-&gt;140018416378320</title>\n<path d=\"M177,-83.3799C177,-75.1745 177,-65.7679 177,-56.8786\" fill=\"none\" stroke=\"#000000\"/>\n<polygon fill=\"#000000\" points=\"180.5001,-56.784 177,-46.784 173.5001,-56.784 180.5001,-56.784\" stroke=\"#000000\"/>\n</g>\n<!-- 140018425224944 -->\n<g class=\"node\" id=\"node5\">\n<title>140018425224944</title>\n<polygon fill=\"none\" points=\"112.5,-332.5 112.5,-368.5 241.5,-368.5 241.5,-332.5 112.5,-332.5\" stroke=\"#000000\"/>\n<text fill=\"#000000\" font-family=\"Times,serif\" font-size=\"14.00\" text-anchor=\"middle\" x=\"177\" y=\"-346.8\">140018425224944</text>\n</g>\n<!-- 140018425224944&#45;&gt;140017584862152 -->\n<g class=\"edge\" id=\"edge1\">\n<title>140018425224944-&gt;140017584862152</title>\n<path d=\"M177,-332.4092C177,-324.4308 177,-314.795 177,-305.606\" fill=\"none\" stroke=\"#000000\"/>\n<polygon fill=\"#000000\" points=\"180.5001,-305.5333 177,-295.5333 173.5001,-305.5334 180.5001,-305.5333\" stroke=\"#000000\"/>\n</g>\n</g>\n</svg>"
          },
          "metadata": {
            "tags": []
          },
          "execution_count": 5
        }
      ]
    },
    {
      "cell_type": "markdown",
      "metadata": {
        "id": "bV65bWVWH_Ok",
        "colab_type": "text"
      },
      "source": [
        "## Learning\n",
        "\n",
        "Now we are ready to train our model.  An *epoch* means one pass through the whole training data. Note also that we are using a fraction of the training data as our validation set.\n",
        "\n",
        "Note that LSTMs are rather slow to train."
      ]
    },
    {
      "cell_type": "code",
      "metadata": {
        "id": "Hr82lbwzH_Ol",
        "colab_type": "code",
        "outputId": "e3620819-89ad-4177-9015-2d3cf63f8f90",
        "colab": {
          "base_uri": "https://localhost:8080/",
          "height": 238
        }
      },
      "source": [
        "%%time\n",
        "epochs = 5\n",
        "validation_split = 0.2\n",
        "\n",
        "history = model.fit(x_train, y_train, batch_size=128,\n",
        "          epochs=epochs, \n",
        "          validation_split=validation_split)\n"
      ],
      "execution_count": 0,
      "outputs": [
        {
          "output_type": "stream",
          "text": [
            "Train on 20000 samples, validate on 5000 samples\n",
            "Epoch 1/5\n",
            "20000/20000 [==============================] - 9s 452us/step - loss: 0.5049 - acc: 0.7487 - val_loss: 0.4706 - val_acc: 0.7762\n",
            "Epoch 2/5\n",
            "20000/20000 [==============================] - 3s 136us/step - loss: 0.3315 - acc: 0.8592 - val_loss: 0.3606 - val_acc: 0.8378\n",
            "Epoch 3/5\n",
            "20000/20000 [==============================] - 3s 136us/step - loss: 0.2802 - acc: 0.8871 - val_loss: 0.4131 - val_acc: 0.8182\n",
            "Epoch 4/5\n",
            "20000/20000 [==============================] - 3s 136us/step - loss: 0.2541 - acc: 0.8982 - val_loss: 0.3562 - val_acc: 0.8398\n",
            "Epoch 5/5\n",
            "20000/20000 [==============================] - 3s 137us/step - loss: 0.2347 - acc: 0.9082 - val_loss: 0.3775 - val_acc: 0.8412\n",
            "CPU times: user 13.4 s, sys: 3.29 s, total: 16.6 s\n",
            "Wall time: 20.5 s\n"
          ],
          "name": "stdout"
        }
      ]
    },
    {
      "cell_type": "markdown",
      "metadata": {
        "id": "axKKXw38H_On",
        "colab_type": "text"
      },
      "source": [
        "Let's plot the data to see how the training progressed. A big gap between training and validation accuracies would suggest overfitting."
      ]
    },
    {
      "cell_type": "code",
      "metadata": {
        "id": "N1jiLthsH_Oo",
        "colab_type": "code",
        "outputId": "81ad731c-01f9-420b-f94e-436a8068d891",
        "colab": {
          "base_uri": "https://localhost:8080/",
          "height": 441
        }
      },
      "source": [
        "plt.figure(figsize=(5,3))\n",
        "plt.plot(history.epoch,history.history['loss'], label='training')\n",
        "plt.plot(history.epoch,history.history['val_loss'], label='validation')\n",
        "plt.title('loss')\n",
        "plt.legend(loc='best')\n",
        "\n",
        "plt.figure(figsize=(5,3))\n",
        "plt.plot(history.epoch,history.history['acc'], label='training')\n",
        "plt.plot(history.epoch,history.history['val_acc'], label='validation')\n",
        "plt.title('accuracy')\n",
        "plt.legend(loc='best');"
      ],
      "execution_count": 0,
      "outputs": [
        {
          "output_type": "display_data",
          "data": {
            "image/png": "[encoded data removed]",
            "text/plain": [
              "<Figure size 360x216 with 1 Axes>"
            ]
          },
          "metadata": {
            "tags": []
          }
        },
        {
          "output_type": "display_data",
          "data": {
            "image/png": "[encoded data removed]",
            "text/plain": [
              "<Figure size 360x216 with 1 Axes>"
            ]
          },
          "metadata": {
            "tags": []
          }
        }
      ]
    },
    {
      "cell_type": "markdown",
      "metadata": {
        "id": "5tYP9KfkH_Oq",
        "colab_type": "text"
      },
      "source": [
        "## Inference\n",
        "\n",
        "For a better measure of the quality of the model, let's see the model accuracy for the test data. "
      ]
    },
    {
      "cell_type": "code",
      "metadata": {
        "id": "2vD4a5K_H_Or",
        "colab_type": "code",
        "outputId": "4dc94f62-6741-4cf9-dcc8-c61a4c214c4e",
        "colab": {
          "base_uri": "https://localhost:8080/",
          "height": 34
        }
      },
      "source": [
        "scores = model.evaluate(x_test, y_test, verbose=2)\n",
        "print(\"%s: %.2f%%\" % (model.metrics_names[1], scores[1]*100))"
      ],
      "execution_count": 0,
      "outputs": [
        {
          "output_type": "stream",
          "text": [
            "acc: 83.74%\n"
          ],
          "name": "stdout"
        }
      ]
    },
    {
      "cell_type": "markdown",
      "metadata": {
        "id": "uH3VlBeRH_Ou",
        "colab_type": "text"
      },
      "source": [
        "---\n",
        "*Run this notebook in Google Colaboratory using [this link](https://colab.research.google.com/github/csc-training/intro-to-dl/blob/master/day1/keras-imdb-rnn.ipynb).*"
      ]
    }
  ]
}