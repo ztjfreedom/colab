{
  "nbformat": 4,
  "nbformat_minor": 0,
  "metadata": {
    "colab": {
      "name": "keras_lstm_imdb.ipynb",
      "version": "0.3.2",
      "provenance": [],
      "collapsed_sections": [],
      "toc_visible": true,
      "include_colab_link": true
    },
    "language_info": {
      "codemirror_mode": {
        "name": "ipython",
        "version": 3
      },
      "file_extension": ".py",
      "mimetype": "text/x-python",
      "name": "python",
      "nbconvert_exporter": "python",
      "pygments_lexer": "ipython3",
      "version": "3.5.2"
    },
    "kernelspec": {
      "name": "python3",
      "display_name": "Python 3"
    },
    "accelerator": "GPU"
  },
  "cells": [
    {
      "cell_type": "markdown",
      "metadata": {
        "id": "view-in-github",
        "colab_type": "text"
      },
      "source": [
        "<a href=\"https://colab.research.google.com/github/ztjfreedom/colab/blob/master/keras_lstm_imdb.ipynb\" target=\"_parent\"><img src=\"https://colab.research.google.com/assets/colab-badge.svg\" alt=\"Open In Colab\"/></a>"
      ]
    },
    {
      "cell_type": "markdown",
      "metadata": {
        "id": "fycwvuqNH_OW",
        "colab_type": "text"
      },
      "source": [
        "# IMDB movie review sentiment classification with LSTM\n",
        "\n",
        "In this notebook, we'll train a LSTM for sentiment classification using Keras (with either Theano or Tensorflow as the compute backend).  Keras version $\\ge$ 2 is required. This notebook is largely based on the [Understanding recurrent neural networks](https://github.com/fchollet/deep-learning-with-python-notebooks/blob/master/6.2-understanding-recurrent-neural-networks.ipynb) by François Chollet.\n",
        "\n",
        "First, the needed imports. Keras tells us which backend (Theano, Tensorflow, CNTK) it will be using."
      ]
    },
    {
      "cell_type": "code",
      "metadata": {
        "id": "y79WFfQHH_OX",
        "colab_type": "code",
        "outputId": "2e637ddf-24b6-4513-e4df-9f8b90530eb6",
        "colab": {
          "base_uri": "https://localhost:8080/",
          "height": 51
        }
      },
      "source": [
        "%matplotlib inline\n",
        "\n",
        "from keras.preprocessing import sequence\n",
        "from keras.models import Sequential\n",
        "from keras.layers import Dense, Embedding, Dropout\n",
        "from keras.layers import LSTM, CuDNNLSTM\n",
        "from keras.datasets import imdb\n",
        "\n",
        "from distutils.version import LooseVersion as LV\n",
        "from keras import __version__\n",
        "from keras import backend as K\n",
        "\n",
        "from IPython.display import SVG\n",
        "from keras.utils.vis_utils import model_to_dot\n",
        "\n",
        "import numpy as np\n",
        "import matplotlib.pyplot as plt\n",
        "import seaborn as sns\n",
        "sns.set()\n",
        "\n",
        "print('Using Keras version:', __version__, 'backend:', K.backend())\n",
        "assert(LV(__version__) >= LV(\"2.0.0\"))"
      ],
      "execution_count": 1,
      "outputs": [
        {
          "output_type": "stream",
          "text": [
            "Using TensorFlow backend.\n"
          ],
          "name": "stderr"
        },
        {
          "output_type": "stream",
          "text": [
            "Using Keras version: 2.2.4 backend: tensorflow\n"
          ],
          "name": "stdout"
        }
      ]
    },
    {
      "cell_type": "markdown",
      "metadata": {
        "id": "BlcUB96GH_Oa",
        "colab_type": "text"
      },
      "source": [
        "## IMDB data set\n",
        "\n",
        "Next we'll load the IMDB data set. First time we may have to download the data, which can take a while.\n",
        "\n",
        "The dataset contains 50000 movies reviews from the Internet Movie Database, split into 25000 reviews for training and 25000 reviews for testing. Half of the reviews are positive (1) and half are negative (0).\n",
        "\n",
        "The dataset has already been preprocessed, and each word has been replaced by an integer index.\n",
        "The reviews are thus represented as varying-length sequences of integers.\n",
        "(Word indices begin at \"3\", as \"1\" is used to mark the start of a review and \"2\" represents all out-of-vocabulary words. \"0\" will be used later to pad shorter reviews to a fixed size.)"
      ]
    },
    {
      "cell_type": "code",
      "metadata": {
        "id": "WrYQreHPH_Ob",
        "colab_type": "code",
        "outputId": "8d59c063-b881-4a8b-96f7-aaee6ea7c243",
        "colab": {
          "base_uri": "https://localhost:8080/",
          "height": 136
        }
      },
      "source": [
        "# number of most-frequent words to use\n",
        "nb_words = 10000\n",
        "# cut texts after this number of words\n",
        "maxlen = 80\n",
        "\n",
        "print('Loading data...')\n",
        "\n",
        "pad_id = 0\n",
        "start_id = 1\n",
        "oov_id = 2\n",
        "index_offset = 2\n",
        " \n",
        "(x_train, y_train), (x_test, y_test) = imdb.load_data(num_words=nb_words, start_char=start_id,\n",
        "                                                      oov_char=oov_id, index_from=index_offset)\n",
        "\n",
        "print('x_train:', x_train.shape)\n",
        "print('x_test:', x_test.shape)\n",
        "print()\n",
        "\n",
        "print('Pad sequences (samples x time)')\n",
        "x_train = sequence.pad_sequences(x_train, maxlen=maxlen, truncating='post', padding='post', value=pad_id)\n",
        "x_test = sequence.pad_sequences(x_test, maxlen=maxlen, truncating='post', padding='post', value=pad_id)\n",
        "print('x_train shape:', x_train.shape)\n",
        "print('x_test shape:', x_test.shape)"
      ],
      "execution_count": 4,
      "outputs": [
        {
          "output_type": "stream",
          "text": [
            "Loading data...\n",
            "x_train: (25000,)\n",
            "x_test: (25000,)\n",
            "\n",
            "Pad sequences (samples x time)\n",
            "x_train shape: (25000, 80)\n",
            "x_test shape: (25000, 80)\n"
          ],
          "name": "stdout"
        }
      ]
    },
    {
      "cell_type": "markdown",
      "metadata": {
        "id": "P7aNzn4zH_Od",
        "colab_type": "text"
      },
      "source": [
        "The first movie review in the training set:"
      ]
    },
    {
      "cell_type": "code",
      "metadata": {
        "id": "ojhxJT-6H_Od",
        "colab_type": "code",
        "outputId": "c38295d5-bf3c-45e0-e18e-3b2e46ac4d84",
        "colab": {
          "base_uri": "https://localhost:8080/",
          "height": 136
        }
      },
      "source": [
        "print(\"First review in the training set:\\n\", x_train[0], \"length:\", len(x_train[0]), \"class:\", y_train[0])"
      ],
      "execution_count": 5,
      "outputs": [
        {
          "output_type": "stream",
          "text": [
            "First review in the training set:\n",
            " [   1   13   21   15   42  529  972 1621 1384   64  457 4467   65 3940\n",
            "    3  172   35  255    4   24   99   42  837  111   49  669    2    8\n",
            "   34  479  283    4  149    3  171  111  166    2  335  384   38    3\n",
            "  171 4535 1110   16  545   37   12  446    3  191   49   15    5  146\n",
            " 2024   18   13   21    3 1919 4612  468    3   21   70   86   11   15\n",
            "   42  529   37   75   14   12 1246    3   21   16] length: 80 class: 1\n"
          ],
          "name": "stdout"
        }
      ]
    },
    {
      "cell_type": "markdown",
      "metadata": {
        "id": "aot1wB_rH_Of",
        "colab_type": "text"
      },
      "source": [
        "## Initialization\n",
        "\n",
        "Let's create an RNN model that has one (or optionally two) LSTM layers. Dropout  The first layer in the network is an *Embedding* layer that converts integer indices to dense vectors of length `embedding_dims`. The output layer contains a single neuron and *sigmoid* non-linearity to match the binary groundtruth (`y_train`). \n",
        "\n",
        "Finally, we `compile()` the model, using *binary crossentropy* as the loss function and [*RMSprop*](https://keras.io/optimizers/#rmsprop) as the optimizer."
      ]
    },
    {
      "cell_type": "code",
      "metadata": {
        "id": "EaxjnsuzH_Og",
        "colab_type": "code",
        "outputId": "6945525a-c546-44d7-c127-657a6da78479",
        "colab": {
          "base_uri": "https://localhost:8080/",
          "height": 306
        }
      },
      "source": [
        "# model parameters:\n",
        "embedding_dims = 50\n",
        "lstm_units = 32\n",
        "\n",
        "print('Build model...')\n",
        "model = Sequential()\n",
        "\n",
        "model.add(Embedding(nb_words,\n",
        "                    embedding_dims,\n",
        "                    input_length=maxlen))\n",
        "model.add(Dropout(0.2))\n",
        "\n",
        "# CPU ver:\n",
        "#model.add(LSTM(lstm_units))\n",
        "# GPU ver:\n",
        "model.add(CuDNNLSTM(lstm_units))\n",
        "\n",
        "# to stack multiple RNN layers, all RNN layers except the last one need\n",
        "# to have \"return_sequences=True\".  An example of using two RNN layers:\n",
        "#model.add(LSTM(lstm_units, return_sequences=True))\n",
        "#model.add(LSTM(lstm_units))\n",
        "\n",
        "model.add(Dense(1, activation='sigmoid'))\n",
        "\n",
        "# try using different optimizers and different optimizer configs\n",
        "model.compile(loss='binary_crossentropy',\n",
        "              optimizer='rmsprop',\n",
        "              metrics=['accuracy'])\n",
        "print(model.summary())"
      ],
      "execution_count": 14,
      "outputs": [
        {
          "output_type": "stream",
          "text": [
            "Build model...\n",
            "_________________________________________________________________\n",
            "Layer (type)                 Output Shape              Param #   \n",
            "=================================================================\n",
            "embedding_2 (Embedding)      (None, 80, 50)            500000    \n",
            "_________________________________________________________________\n",
            "dropout_2 (Dropout)          (None, 80, 50)            0         \n",
            "_________________________________________________________________\n",
            "cu_dnnlstm_2 (CuDNNLSTM)     (None, 32)                10752     \n",
            "_________________________________________________________________\n",
            "dense_2 (Dense)              (None, 1)                 33        \n",
            "=================================================================\n",
            "Total params: 510,785\n",
            "Trainable params: 510,785\n",
            "Non-trainable params: 0\n",
            "_________________________________________________________________\n",
            "None\n"
          ],
          "name": "stdout"
        }
      ]
    },
    {
      "cell_type": "code",
      "metadata": {
        "id": "27hl4Jh4H_Oi",
        "colab_type": "code",
        "outputId": "7b2e22a5-21d0-46cc-c901-5c4e72ef4c0a",
        "colab": {
          "base_uri": "https://localhost:8080/",
          "height": 524
        }
      },
      "source": [
        "SVG(model_to_dot(model, show_shapes=True).create(prog='dot', format='svg'))"
      ],
      "execution_count": 15,
      "outputs": [
        {
          "output_type": "execute_result",
          "data": {
            "text/plain": [
              "<IPython.core.display.SVG object>"
            ],
            "image/svg+xml": "<svg height=\"377pt\" viewBox=\"0.00 0.00 362.00 377.00\" width=\"362pt\" xmlns=\"http://www.w3.org/2000/svg\" xmlns:xlink=\"http://www.w3.org/1999/xlink\">\n<g class=\"graph\" id=\"graph0\" transform=\"scale(1 1) rotate(0) translate(4 373)\">\n<title>G</title>\n<polygon fill=\"#ffffff\" points=\"-4,4 -4,-373 358,-373 358,4 -4,4\" stroke=\"transparent\"/>\n<!-- 139809361576848 -->\n<g class=\"node\" id=\"node1\">\n<title>139809361576848</title>\n<polygon fill=\"none\" points=\"11.5,-249.5 11.5,-295.5 342.5,-295.5 342.5,-249.5 11.5,-249.5\" stroke=\"#000000\"/>\n<text fill=\"#000000\" font-family=\"Times,serif\" font-size=\"14.00\" text-anchor=\"middle\" x=\"97\" y=\"-268.8\">embedding_2: Embedding</text>\n<polyline fill=\"none\" points=\"182.5,-249.5 182.5,-295.5 \" stroke=\"#000000\"/>\n<text fill=\"#000000\" font-family=\"Times,serif\" font-size=\"14.00\" text-anchor=\"middle\" x=\"211.5\" y=\"-280.3\">input:</text>\n<polyline fill=\"none\" points=\"182.5,-272.5 240.5,-272.5 \" stroke=\"#000000\"/>\n<text fill=\"#000000\" font-family=\"Times,serif\" font-size=\"14.00\" text-anchor=\"middle\" x=\"211.5\" y=\"-257.3\">output:</text>\n<polyline fill=\"none\" points=\"240.5,-249.5 240.5,-295.5 \" stroke=\"#000000\"/>\n<text fill=\"#000000\" font-family=\"Times,serif\" font-size=\"14.00\" text-anchor=\"middle\" x=\"291.5\" y=\"-280.3\">(None, 80)</text>\n<polyline fill=\"none\" points=\"240.5,-272.5 342.5,-272.5 \" stroke=\"#000000\"/>\n<text fill=\"#000000\" font-family=\"Times,serif\" font-size=\"14.00\" text-anchor=\"middle\" x=\"291.5\" y=\"-257.3\">(None, 80, 50)</text>\n</g>\n<!-- 139809361386464 -->\n<g class=\"node\" id=\"node2\">\n<title>139809361386464</title>\n<polygon fill=\"none\" points=\"30,-166.5 30,-212.5 324,-212.5 324,-166.5 30,-166.5\" stroke=\"#000000\"/>\n<text fill=\"#000000\" font-family=\"Times,serif\" font-size=\"14.00\" text-anchor=\"middle\" x=\"97\" y=\"-185.8\">dropout_2: Dropout</text>\n<polyline fill=\"none\" points=\"164,-166.5 164,-212.5 \" stroke=\"#000000\"/>\n<text fill=\"#000000\" font-family=\"Times,serif\" font-size=\"14.00\" text-anchor=\"middle\" x=\"193\" y=\"-197.3\">input:</text>\n<polyline fill=\"none\" points=\"164,-189.5 222,-189.5 \" stroke=\"#000000\"/>\n<text fill=\"#000000\" font-family=\"Times,serif\" font-size=\"14.00\" text-anchor=\"middle\" x=\"193\" y=\"-174.3\">output:</text>\n<polyline fill=\"none\" points=\"222,-166.5 222,-212.5 \" stroke=\"#000000\"/>\n<text fill=\"#000000\" font-family=\"Times,serif\" font-size=\"14.00\" text-anchor=\"middle\" x=\"273\" y=\"-197.3\">(None, 80, 50)</text>\n<polyline fill=\"none\" points=\"222,-189.5 324,-189.5 \" stroke=\"#000000\"/>\n<text fill=\"#000000\" font-family=\"Times,serif\" font-size=\"14.00\" text-anchor=\"middle\" x=\"273\" y=\"-174.3\">(None, 80, 50)</text>\n</g>\n<!-- 139809361576848&#45;&gt;139809361386464 -->\n<g class=\"edge\" id=\"edge2\">\n<title>139809361576848-&gt;139809361386464</title>\n<path d=\"M177,-249.3799C177,-241.1745 177,-231.7679 177,-222.8786\" fill=\"none\" stroke=\"#000000\"/>\n<polygon fill=\"#000000\" points=\"180.5001,-222.784 177,-212.784 173.5001,-222.784 180.5001,-222.784\" stroke=\"#000000\"/>\n</g>\n<!-- 139809361385288 -->\n<g class=\"node\" id=\"node3\">\n<title>139809361385288</title>\n<polygon fill=\"none\" points=\"0,-83.5 0,-129.5 354,-129.5 354,-83.5 0,-83.5\" stroke=\"#000000\"/>\n<text fill=\"#000000\" font-family=\"Times,serif\" font-size=\"14.00\" text-anchor=\"middle\" x=\"97\" y=\"-102.8\">cu_dnnlstm_2: CuDNNLSTM</text>\n<polyline fill=\"none\" points=\"194,-83.5 194,-129.5 \" stroke=\"#000000\"/>\n<text fill=\"#000000\" font-family=\"Times,serif\" font-size=\"14.00\" text-anchor=\"middle\" x=\"223\" y=\"-114.3\">input:</text>\n<polyline fill=\"none\" points=\"194,-106.5 252,-106.5 \" stroke=\"#000000\"/>\n<text fill=\"#000000\" font-family=\"Times,serif\" font-size=\"14.00\" text-anchor=\"middle\" x=\"223\" y=\"-91.3\">output:</text>\n<polyline fill=\"none\" points=\"252,-83.5 252,-129.5 \" stroke=\"#000000\"/>\n<text fill=\"#000000\" font-family=\"Times,serif\" font-size=\"14.00\" text-anchor=\"middle\" x=\"303\" y=\"-114.3\">(None, 80, 50)</text>\n<polyline fill=\"none\" points=\"252,-106.5 354,-106.5 \" stroke=\"#000000\"/>\n<text fill=\"#000000\" font-family=\"Times,serif\" font-size=\"14.00\" text-anchor=\"middle\" x=\"303\" y=\"-91.3\">(None, 32)</text>\n</g>\n<!-- 139809361386464&#45;&gt;139809361385288 -->\n<g class=\"edge\" id=\"edge3\">\n<title>139809361386464-&gt;139809361385288</title>\n<path d=\"M177,-166.3799C177,-158.1745 177,-148.7679 177,-139.8786\" fill=\"none\" stroke=\"#000000\"/>\n<polygon fill=\"#000000\" points=\"180.5001,-139.784 177,-129.784 173.5001,-139.784 180.5001,-139.784\" stroke=\"#000000\"/>\n</g>\n<!-- 139809361385680 -->\n<g class=\"node\" id=\"node4\">\n<title>139809361385680</title>\n<polygon fill=\"none\" points=\"54.5,-.5 54.5,-46.5 299.5,-46.5 299.5,-.5 54.5,-.5\" stroke=\"#000000\"/>\n<text fill=\"#000000\" font-family=\"Times,serif\" font-size=\"14.00\" text-anchor=\"middle\" x=\"108\" y=\"-19.8\">dense_2: Dense</text>\n<polyline fill=\"none\" points=\"161.5,-.5 161.5,-46.5 \" stroke=\"#000000\"/>\n<text fill=\"#000000\" font-family=\"Times,serif\" font-size=\"14.00\" text-anchor=\"middle\" x=\"190.5\" y=\"-31.3\">input:</text>\n<polyline fill=\"none\" points=\"161.5,-23.5 219.5,-23.5 \" stroke=\"#000000\"/>\n<text fill=\"#000000\" font-family=\"Times,serif\" font-size=\"14.00\" text-anchor=\"middle\" x=\"190.5\" y=\"-8.3\">output:</text>\n<polyline fill=\"none\" points=\"219.5,-.5 219.5,-46.5 \" stroke=\"#000000\"/>\n<text fill=\"#000000\" font-family=\"Times,serif\" font-size=\"14.00\" text-anchor=\"middle\" x=\"259.5\" y=\"-31.3\">(None, 32)</text>\n<polyline fill=\"none\" points=\"219.5,-23.5 299.5,-23.5 \" stroke=\"#000000\"/>\n<text fill=\"#000000\" font-family=\"Times,serif\" font-size=\"14.00\" text-anchor=\"middle\" x=\"259.5\" y=\"-8.3\">(None, 1)</text>\n</g>\n<!-- 139809361385288&#45;&gt;139809361385680 -->\n<g class=\"edge\" id=\"edge4\">\n<title>139809361385288-&gt;139809361385680</title>\n<path d=\"M177,-83.3799C177,-75.1745 177,-65.7679 177,-56.8786\" fill=\"none\" stroke=\"#000000\"/>\n<polygon fill=\"#000000\" points=\"180.5001,-56.784 177,-46.784 173.5001,-56.784 180.5001,-56.784\" stroke=\"#000000\"/>\n</g>\n<!-- 139809361387472 -->\n<g class=\"node\" id=\"node5\">\n<title>139809361387472</title>\n<polygon fill=\"none\" points=\"112.5,-332.5 112.5,-368.5 241.5,-368.5 241.5,-332.5 112.5,-332.5\" stroke=\"#000000\"/>\n<text fill=\"#000000\" font-family=\"Times,serif\" font-size=\"14.00\" text-anchor=\"middle\" x=\"177\" y=\"-346.8\">139809361387472</text>\n</g>\n<!-- 139809361387472&#45;&gt;139809361576848 -->\n<g class=\"edge\" id=\"edge1\">\n<title>139809361387472-&gt;139809361576848</title>\n<path d=\"M177,-332.4092C177,-324.4308 177,-314.795 177,-305.606\" fill=\"none\" stroke=\"#000000\"/>\n<polygon fill=\"#000000\" points=\"180.5001,-305.5333 177,-295.5333 173.5001,-305.5334 180.5001,-305.5333\" stroke=\"#000000\"/>\n</g>\n</g>\n</svg>"
          },
          "metadata": {
            "tags": []
          },
          "execution_count": 15
        }
      ]
    },
    {
      "cell_type": "markdown",
      "metadata": {
        "id": "bV65bWVWH_Ok",
        "colab_type": "text"
      },
      "source": [
        "## Learning\n",
        "\n",
        "Now we are ready to train our model.  An *epoch* means one pass through the whole training data. Note also that we are using a fraction of the training data as our validation set.\n",
        "\n",
        "Note that LSTMs are rather slow to train."
      ]
    },
    {
      "cell_type": "code",
      "metadata": {
        "id": "Hr82lbwzH_Ol",
        "colab_type": "code",
        "outputId": "d7e50b94-efb4-4ad5-d099-8c27401b3b69",
        "colab": {
          "base_uri": "https://localhost:8080/",
          "height": 238
        }
      },
      "source": [
        "%%time\n",
        "epochs = 5\n",
        "validation_split = 0.2\n",
        "\n",
        "history = model.fit(x_train, y_train, batch_size=128,\n",
        "          epochs=epochs, \n",
        "          validation_split=validation_split)\n"
      ],
      "execution_count": 16,
      "outputs": [
        {
          "output_type": "stream",
          "text": [
            "Train on 20000 samples, validate on 5000 samples\n",
            "Epoch 1/5\n",
            "20000/20000 [==============================] - 2s 87us/step - loss: 0.5611 - acc: 0.7018 - val_loss: 0.4550 - val_acc: 0.7854\n",
            "Epoch 2/5\n",
            "20000/20000 [==============================] - 1s 63us/step - loss: 0.3867 - acc: 0.8356 - val_loss: 0.4012 - val_acc: 0.8240\n",
            "Epoch 3/5\n",
            "20000/20000 [==============================] - 1s 61us/step - loss: 0.3269 - acc: 0.8654 - val_loss: 0.4152 - val_acc: 0.8106\n",
            "Epoch 4/5\n",
            "20000/20000 [==============================] - 1s 61us/step - loss: 0.2956 - acc: 0.8812 - val_loss: 0.4461 - val_acc: 0.8168\n",
            "Epoch 5/5\n",
            "20000/20000 [==============================] - 1s 62us/step - loss: 0.2715 - acc: 0.8932 - val_loss: 0.4521 - val_acc: 0.8164\n",
            "CPU times: user 7.73 s, sys: 490 ms, total: 8.22 s\n",
            "Wall time: 7.09 s\n"
          ],
          "name": "stdout"
        }
      ]
    },
    {
      "cell_type": "markdown",
      "metadata": {
        "id": "axKKXw38H_On",
        "colab_type": "text"
      },
      "source": [
        "Let's plot the data to see how the training progressed. A big gap between training and validation accuracies would suggest overfitting."
      ]
    },
    {
      "cell_type": "code",
      "metadata": {
        "id": "N1jiLthsH_Oo",
        "colab_type": "code",
        "outputId": "89c88d90-f78c-477e-f725-48de4393dcd1",
        "colab": {
          "base_uri": "https://localhost:8080/",
          "height": 441
        }
      },
      "source": [
        "plt.figure(figsize=(5,3))\n",
        "plt.plot(history.epoch,history.history['loss'], label='training')\n",
        "plt.plot(history.epoch,history.history['val_loss'], label='validation')\n",
        "plt.title('loss')\n",
        "plt.legend(loc='best')\n",
        "\n",
        "plt.figure(figsize=(5,3))\n",
        "plt.plot(history.epoch,history.history['acc'], label='training')\n",
        "plt.plot(history.epoch,history.history['val_acc'], label='validation')\n",
        "plt.title('accuracy')\n",
        "plt.legend(loc='best');"
      ],
      "execution_count": 17,
      "outputs": [
        {
          "output_type": "display_data",
          "data": {
            "image/png": "[encoded data removed]",
            "text/plain": [
              "<Figure size 360x216 with 1 Axes>"
            ]
          },
          "metadata": {
            "tags": []
          }
        },
        {
          "output_type": "display_data",
          "data": {
            "image/png": "[encoded data removed]",
            "text/plain": [
              "<Figure size 360x216 with 1 Axes>"
            ]
          },
          "metadata": {
            "tags": []
          }
        }
      ]
    },
    {
      "cell_type": "markdown",
      "metadata": {
        "id": "5tYP9KfkH_Oq",
        "colab_type": "text"
      },
      "source": [
        "## Inference\n",
        "\n",
        "For a better measure of the quality of the model, let's see the model accuracy for the test data. "
      ]
    },
    {
      "cell_type": "code",
      "metadata": {
        "id": "2vD4a5K_H_Or",
        "colab_type": "code",
        "outputId": "9b7d790e-78f3-40cf-c119-942b785bf95e",
        "colab": {
          "base_uri": "https://localhost:8080/",
          "height": 34
        }
      },
      "source": [
        "scores = model.evaluate(x_test, y_test, verbose=2)\n",
        "print(\"%s: %.2f%%\" % (model.metrics_names[1], scores[1]*100))"
      ],
      "execution_count": 18,
      "outputs": [
        {
          "output_type": "stream",
          "text": [
            "acc: 79.14%\n"
          ],
          "name": "stdout"
        }
      ]
    },
    {
      "cell_type": "markdown",
      "metadata": {
        "id": "uH3VlBeRH_Ou",
        "colab_type": "text"
      },
      "source": [
        "---\n",
        "*Run this notebook in Google Colaboratory using [this link](https://colab.research.google.com/github/csc-training/intro-to-dl/blob/master/day1/keras-imdb-rnn.ipynb).*"
      ]
    }
  ]
}